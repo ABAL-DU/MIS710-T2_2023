{
  "cells": [
    {
      "cell_type": "markdown",
      "metadata": {
        "id": "view-in-github"
      },
      "source": [
        "<a href=\"https://colab.research.google.com/github/thuc-github/MIS710-T12023/blob/main/Week%2010/MIS710_Lab10_NLP_Deployment_Solution.ipynb\" target=\"_parent\"><img src=\"https://colab.research.google.com/assets/colab-badge.svg\" alt=\"Open In Colab\"/></a>"
      ]
    },
    {
      "cell_type": "markdown",
      "metadata": {
        "id": "MNkJtLWoPpW7"
      },
      "source": [
        "\n",
        "# **MIS710 Lab 10 Week 10 Deployment Solution**\n",
        "Author: Associate Professor Lemai Nguyen\n",
        "\n",
        "Objectives:\n",
        "1. To learn text analytics and NLP basics\n",
        "2. To apply the basic skills on the well-known Internet Movie Database developed by Stanford researcher Andrew Maas.\n",
        "3. To learn basic MLOps: saving your model and loading and using it later.\n",
        "4. Optional: To apply the basic NLP skills on another review dataset.\n",
        "\n",
        "\n",
        "Note: This MIS710_Lab10_NLP_Deployment enables you to load the saved model and vectorizer and apply them to make predictions on new data.\n"
      ]
    },
    {
      "cell_type": "markdown",
      "metadata": {
        "id": "SSX6_DT9CA72"
      },
      "source": [
        "# **1. Import libraries and functions**"
      ]
    },
    {
      "cell_type": "code",
      "execution_count": 42,
      "metadata": {
        "id": "lVf5buwkml_I"
      },
      "outputs": [],
      "source": [
        "# import libraries\n",
        "import pandas as pd #for data manipulation and analysis\n",
        "import numpy as np\n",
        "\n",
        "import seaborn as sns\n",
        "import matplotlib.pyplot as plt"
      ]
    },
    {
      "cell_type": "code",
      "execution_count": 43,
      "metadata": {
        "id": "nNs6sdotgQHz"
      },
      "outputs": [],
      "source": [
        "from sklearn import metrics\n",
        "from sklearn.metrics import classification_report, confusion_matrix"
      ]
    },
    {
      "cell_type": "markdown",
      "metadata": {
        "id": "B38Q50gZm1vQ"
      },
      "source": [
        "# **2. Case One: IMDb**\n",
        "\n",
        "**Sentiment analysis**\n",
        "\n",
        "**Context**\n",
        "IMDb stands for the Internet Movie Database, which is an online database of information related to films, television programs, and video games. It contains a vast collection of data on various aspects of the entertainment industry, including cast and crew information, production details, plot summaries, and user ratings and reviews.\n",
        "\n",
        "**Content**\n",
        "The IMDb dataset has been widely used in sentiment analysis research. The dataset contains 50,000 movie reviews. Each review is labeled as either \"positive\" or \"negative\" based on the overall sentiment expressed in the review.\n",
        "\n",
        "The dataset consists of 25,000 highly polar movie reviews for training, and 25,000 for testing. There is additional unlabeled data for use as well. Raw text and already processed bag of words formats are provided.\n",
        "\n",
        "**Inspiration**\n",
        "To train and test a sentiment analysis model\n",
        "\n",
        "**Further information**:\n",
        "Andrew L. Maas, Raymond E. Daly, Peter T. Pham, Dan Huang, Andrew Y. Ng, and Christopher Potts. (2011). Learning Word Vectors for Sentiment Analysis. The 49th Annual Meeting of the Association for Computational Linguistics (ACL 2011).\n",
        "\n",
        "http://ai.stanford.edu/~amaas/data/sentiment/\n"
      ]
    },
    {
      "cell_type": "markdown",
      "metadata": {
        "id": "yAIPvEeNyJYr"
      },
      "source": [
        "## **3. ML Operationalisation**"
      ]
    },
    {
      "cell_type": "markdown",
      "metadata": {
        "id": "xoMhKJ882Fp8"
      },
      "source": [
        "### **3.2 Load and use the model**"
      ]
    },
    {
      "cell_type": "code",
      "source": [
        "from google.colab import drive\n",
        "drive.mount('/content/drive')"
      ],
      "metadata": {
        "id": "EUkGlZoB9CRs",
        "colab": {
          "base_uri": "https://localhost:8080/"
        },
        "outputId": "72e258f8-698e-4bd1-fcf1-7a2d611272b3"
      },
      "execution_count": 44,
      "outputs": [
        {
          "output_type": "stream",
          "name": "stdout",
          "text": [
            "Drive already mounted at /content/drive; to attempt to forcibly remount, call drive.mount(\"/content/drive\", force_remount=True).\n"
          ]
        }
      ]
    },
    {
      "cell_type": "code",
      "execution_count": 45,
      "metadata": {
        "id": "fZlJI4aqzMqb"
      },
      "outputs": [],
      "source": [
        "import pickle"
      ]
    },
    {
      "cell_type": "code",
      "source": [
        "#modify the code below to point to your picked model\n",
        "#or use my models from here https://github.com/VanLan0/MIS710-ML/tree/main/Pickled\n",
        "path_model = '/content/drive/MyDrive/Colab Notebooks/MIS710 2023 T2/Week 10/IMDB_lr_clf.pkl'"
      ],
      "metadata": {
        "id": "G3Z1iQ8IjWI6"
      },
      "execution_count": 46,
      "outputs": []
    },
    {
      "cell_type": "code",
      "source": [
        "#modify the code below to point to your picked model\n",
        "path_vectorizer = '/content/drive/MyDrive/Colab Notebooks/MIS710 2023 T2/Week 10/tfidf_vectorizer.pkl'"
      ],
      "metadata": {
        "id": "sN8yLgr3xoXf"
      },
      "execution_count": 47,
      "outputs": []
    },
    {
      "cell_type": "code",
      "execution_count": 48,
      "metadata": {
        "id": "MxRjDs-S2HfC"
      },
      "outputs": [],
      "source": [
        "#Load the vectorizer and model\n",
        "with open(path_vectorizer, 'rb') as f:\n",
        "    loaded_vectorizer = pickle.load(f)\n",
        "\n",
        "with open(path_model, 'rb') as f:\n",
        "    loaded_lr = pickle.load(f)\n"
      ]
    },
    {
      "cell_type": "code",
      "source": [
        "#check the size of the vocabulary\n",
        "print(\"Size of vocabulary:\", len(loaded_vectorizer.vocabulary_))"
      ],
      "metadata": {
        "colab": {
          "base_uri": "https://localhost:8080/"
        },
        "id": "hg13YT7GO4E1",
        "outputId": "fa1b9b76-a8bb-4df5-80f5-41b8e8789b0b"
      },
      "execution_count": 49,
      "outputs": [
        {
          "output_type": "stream",
          "name": "stdout",
          "text": [
            "Size of vocabulary: 2776800\n"
          ]
        }
      ]
    },
    {
      "cell_type": "markdown",
      "source": [
        "We load new reviews from the 'production line'.\n",
        "\n"
      ],
      "metadata": {
        "id": "OGEIZa7DSptk"
      }
    },
    {
      "cell_type": "code",
      "execution_count": 50,
      "metadata": {
        "colab": {
          "base_uri": "https://localhost:8080/"
        },
        "id": "kvC7NfDQ8AH7",
        "outputId": "a6fc3f21-7ef2-49d9-a17d-8a06fb3154d8"
      },
      "outputs": [
        {
          "output_type": "stream",
          "name": "stdout",
          "text": [
            "                                               review sentiment\n",
            "0   I just watched the first episode and it’s 10/1...  positive\n",
            "1   this is going to be absolutely amazing I can't...  positive\n",
            "2   Accidentally watched the first episode, it was...  positive\n",
            "3                          This actress is hilarious!  positive\n",
            "4                             Looks very entertaining  positive\n",
            "5                         annoying unnecesarry  scene  negative\n",
            "6                           I love this drama so much  positive\n",
            "7   Too convoluted and over dramatic. the writers ...  negative\n",
            "8   Really good to see Km Byung Chul in a more com...  positive\n",
            "9                              disappointed, too long  negative\n",
            "10  I'm addicted to this movie, but If she doesn't...  positive\n",
            "11      I love it. Can't wait to see the next episode  positive\n",
            "12  The movie really disappoint me, his mother wil...  negative\n",
            "13  Loved the first 2 episodes and excited for the...  positive\n"
          ]
        }
      ],
      "source": [
        "url='https://raw.githubusercontent.com/VanLan0/MIS710-ML/main/Datasets/DrCha_reviews.csv'\n",
        "new_reviews = pd.read_csv(url)\n",
        "print(new_reviews)"
      ]
    },
    {
      "cell_type": "markdown",
      "source": [
        "In practice, we should create a data pipeline to automate the pre-process of data. Let's repeat the pre-processing steps for now."
      ],
      "metadata": {
        "id": "ZvyT1DkoZ_GQ"
      }
    },
    {
      "cell_type": "code",
      "execution_count": 51,
      "metadata": {
        "id": "TzaQV03AS4o3"
      },
      "outputs": [],
      "source": [
        "#import the Python module re to work with regular expressions\n",
        "import re"
      ]
    },
    {
      "cell_type": "code",
      "execution_count": 52,
      "metadata": {
        "id": "g-Ymx5W6S4o3"
      },
      "outputs": [],
      "source": [
        "# Define function to clean text\n",
        "def clean_text(text):\n",
        "  # Remove HTML tags\n",
        "  text = re.sub(r'<.*?>', '', text)\n",
        "  # Remove punctuation and special characters\n",
        "  text = re.sub(r'[^\\w\\s]', '', text)\n",
        "  # Remove extra whitespace\n",
        "  text = re.sub(r'\\s+', ' ', text).strip()\n",
        "  return text"
      ]
    },
    {
      "cell_type": "code",
      "execution_count": 53,
      "metadata": {
        "id": "df9pSxt-S4o5"
      },
      "outputs": [],
      "source": [
        "def lowercasing(text):\n",
        "  # Convert to lowercase\n",
        "  text = text.lower()\n",
        "  return text"
      ]
    },
    {
      "cell_type": "code",
      "execution_count": 54,
      "metadata": {
        "id": "rmkltgrZS4o6"
      },
      "outputs": [],
      "source": [
        "import nltk\n",
        "from nltk.tokenize import word_tokenize\n",
        "from nltk.stem import PorterStemmer, WordNetLemmatizer\n",
        "from nltk.corpus import stopwords"
      ]
    },
    {
      "cell_type": "code",
      "execution_count": 55,
      "metadata": {
        "colab": {
          "base_uri": "https://localhost:8080/"
        },
        "outputId": "9b67d20b-feed-45cb-dcfd-b18bdf3b1a22",
        "id": "2T4HSuV3S4o6"
      },
      "outputs": [
        {
          "output_type": "stream",
          "name": "stderr",
          "text": [
            "[nltk_data] Downloading package punkt to /root/nltk_data...\n",
            "[nltk_data]   Package punkt is already up-to-date!\n",
            "[nltk_data] Downloading package wordnet to /root/nltk_data...\n",
            "[nltk_data]   Package wordnet is already up-to-date!\n",
            "[nltk_data] Downloading package stopwords to /root/nltk_data...\n",
            "[nltk_data]   Package stopwords is already up-to-date!\n"
          ]
        },
        {
          "output_type": "execute_result",
          "data": {
            "text/plain": [
              "True"
            ]
          },
          "metadata": {},
          "execution_count": 55
        }
      ],
      "source": [
        "nltk.download('punkt')\n",
        "nltk.download('wordnet')\n",
        "nltk.download('stopwords')"
      ]
    },
    {
      "cell_type": "code",
      "execution_count": 56,
      "metadata": {
        "id": "g6fQ4unhS4o6"
      },
      "outputs": [],
      "source": [
        "# define stopwords without negation words\n",
        "stop_words = set(stopwords.words('english'))\n",
        "negation_words = {'no', 'not', 'nor', 'neither', 'none', 'never'}\n",
        "filtered_words = [word for word in stop_words if word not in negation_words]"
      ]
    },
    {
      "cell_type": "code",
      "execution_count": 57,
      "metadata": {
        "id": "s-ZYlD74S4o6"
      },
      "outputs": [],
      "source": [
        "#define a function to perform tokenization, stemming and lemmatization\n",
        "def tokenize_lemmatize(text):\n",
        "  #tokenization\n",
        "  tokens = nltk.word_tokenize(text.lower())\n",
        "\n",
        "  #initialize stemmer and lemmatizer\n",
        "  lemmatizer = WordNetLemmatizer()\n",
        "\n",
        "  #perform stemming and lemmatization\n",
        "  lemmatized_tokens = [lemmatizer.lemmatize(token) for token in tokens if token not in filtered_words and token.lower() not in negation_words]\n",
        "  return ' '.join(lemmatized_tokens)"
      ]
    },
    {
      "cell_type": "code",
      "execution_count": 58,
      "metadata": {
        "id": "wiPvbJALS4o4"
      },
      "outputs": [],
      "source": [
        "# Write your code to apply the clean_text function to the 'review' column\n",
        "new_reviews['review']=new_reviews['review'].apply(clean_text)"
      ]
    },
    {
      "cell_type": "code",
      "execution_count": 59,
      "metadata": {
        "id": "rqNtAyyxS4o5"
      },
      "outputs": [],
      "source": [
        "# Write your code to apply the lowercasing function to the 'review' column\n",
        "\n",
        "new_reviews['review']=new_reviews['review'].apply(lowercasing)"
      ]
    },
    {
      "cell_type": "code",
      "execution_count": 60,
      "metadata": {
        "id": "NoA6_VmpS4o7"
      },
      "outputs": [],
      "source": [
        "# Write yourcode to tokenize, stem, and lemmatize the 'review' column\n",
        "processed_text = new_reviews['review'].apply(tokenize_lemmatize)\n"
      ]
    },
    {
      "cell_type": "code",
      "execution_count": 61,
      "metadata": {
        "colab": {
          "base_uri": "https://localhost:8080/"
        },
        "id": "kFfEr73F9k-d",
        "outputId": "4e815673-9ade-4973-8ca4-40894b415697"
      },
      "outputs": [
        {
          "output_type": "execute_result",
          "data": {
            "text/plain": [
              "0                    watched first episode 1010 im love\n",
              "1     going absolutely amazing cant wait synopsis funny\n",
              "2     accidentally watched first episode good couldn...\n",
              "3                                     actress hilarious\n",
              "4                                     look entertaining\n",
              "5                            annoying unnecesarry scene\n",
              "6                                       love drama much\n",
              "7     convoluted dramatic writer could made lot stro...\n",
              "8         really good see km byung chul comedic setting\n",
              "9                                     disappointed long\n",
              "10    im addicted movie doesnt divorce husband watch...\n",
              "11                      love cant wait see next episode\n",
              "12                  movie really disappoint mother pain\n",
              "13              loved first 2 episode excited remainder\n",
              "Name: review, dtype: object"
            ]
          },
          "metadata": {},
          "execution_count": 61
        }
      ],
      "source": [
        "processed_text"
      ]
    },
    {
      "cell_type": "code",
      "execution_count": 62,
      "metadata": {
        "id": "E6ZQ-kiU_ECI"
      },
      "outputs": [],
      "source": [
        "#Use loaded vectorizer to vectorize the new processed text\n",
        "X_new_tfidf = loaded_vectorizer.transform(processed_text)\n",
        "y_test_new=new_reviews['sentiment']"
      ]
    },
    {
      "cell_type": "code",
      "execution_count": 63,
      "metadata": {
        "id": "brFD8A_c-NXI"
      },
      "outputs": [],
      "source": [
        "# Evaluate model\n",
        "y_pred = loaded_lr.predict(X_new_tfidf)"
      ]
    },
    {
      "cell_type": "code",
      "source": [
        "#join unseen y_test with predicted value into a data frame\n",
        "inspection=pd.DataFrame({'Actual':new_reviews['sentiment'], 'Predicted':y_pred})\n",
        "\n",
        "#join X_test with the new dataframe\n",
        "inspection=pd.concat([new_reviews['review'],inspection], axis=1)\n",
        "\n",
        "inspection"
      ],
      "metadata": {
        "colab": {
          "base_uri": "https://localhost:8080/",
          "height": 488
        },
        "id": "VjURH8pfPcOF",
        "outputId": "78771c00-2835-4055-a60d-41c11dd9b863"
      },
      "execution_count": 64,
      "outputs": [
        {
          "output_type": "execute_result",
          "data": {
            "text/plain": [
              "                                               review    Actual Predicted\n",
              "0   i just watched the first episode and its 1010 ...  positive  positive\n",
              "1   this is going to be absolutely amazing i cant ...  positive  positive\n",
              "2   accidentally watched the first episode it was ...  positive  positive\n",
              "3                           this actress is hilarious  positive  positive\n",
              "4                             looks very entertaining  positive  positive\n",
              "5                          annoying unnecesarry scene  negative  negative\n",
              "6                           i love this drama so much  positive  positive\n",
              "7   too convoluted and over dramatic the writers c...  negative  negative\n",
              "8   really good to see km byung chul in a more com...  positive  positive\n",
              "9                               disappointed too long  negative  negative\n",
              "10  im addicted to this movie but if she doesnt di...  positive  negative\n",
              "11        i love it cant wait to see the next episode  positive  positive\n",
              "12  the movie really disappoint me his mother will...  negative  positive\n",
              "13  loved the first 2 episodes and excited for the...  positive  positive"
            ],
            "text/html": [
              "\n",
              "  <div id=\"df-3ca58409-1521-4451-bb58-52736343dccc\" class=\"colab-df-container\">\n",
              "    <div>\n",
              "<style scoped>\n",
              "    .dataframe tbody tr th:only-of-type {\n",
              "        vertical-align: middle;\n",
              "    }\n",
              "\n",
              "    .dataframe tbody tr th {\n",
              "        vertical-align: top;\n",
              "    }\n",
              "\n",
              "    .dataframe thead th {\n",
              "        text-align: right;\n",
              "    }\n",
              "</style>\n",
              "<table border=\"1\" class=\"dataframe\">\n",
              "  <thead>\n",
              "    <tr style=\"text-align: right;\">\n",
              "      <th></th>\n",
              "      <th>review</th>\n",
              "      <th>Actual</th>\n",
              "      <th>Predicted</th>\n",
              "    </tr>\n",
              "  </thead>\n",
              "  <tbody>\n",
              "    <tr>\n",
              "      <th>0</th>\n",
              "      <td>i just watched the first episode and its 1010 ...</td>\n",
              "      <td>positive</td>\n",
              "      <td>positive</td>\n",
              "    </tr>\n",
              "    <tr>\n",
              "      <th>1</th>\n",
              "      <td>this is going to be absolutely amazing i cant ...</td>\n",
              "      <td>positive</td>\n",
              "      <td>positive</td>\n",
              "    </tr>\n",
              "    <tr>\n",
              "      <th>2</th>\n",
              "      <td>accidentally watched the first episode it was ...</td>\n",
              "      <td>positive</td>\n",
              "      <td>positive</td>\n",
              "    </tr>\n",
              "    <tr>\n",
              "      <th>3</th>\n",
              "      <td>this actress is hilarious</td>\n",
              "      <td>positive</td>\n",
              "      <td>positive</td>\n",
              "    </tr>\n",
              "    <tr>\n",
              "      <th>4</th>\n",
              "      <td>looks very entertaining</td>\n",
              "      <td>positive</td>\n",
              "      <td>positive</td>\n",
              "    </tr>\n",
              "    <tr>\n",
              "      <th>5</th>\n",
              "      <td>annoying unnecesarry scene</td>\n",
              "      <td>negative</td>\n",
              "      <td>negative</td>\n",
              "    </tr>\n",
              "    <tr>\n",
              "      <th>6</th>\n",
              "      <td>i love this drama so much</td>\n",
              "      <td>positive</td>\n",
              "      <td>positive</td>\n",
              "    </tr>\n",
              "    <tr>\n",
              "      <th>7</th>\n",
              "      <td>too convoluted and over dramatic the writers c...</td>\n",
              "      <td>negative</td>\n",
              "      <td>negative</td>\n",
              "    </tr>\n",
              "    <tr>\n",
              "      <th>8</th>\n",
              "      <td>really good to see km byung chul in a more com...</td>\n",
              "      <td>positive</td>\n",
              "      <td>positive</td>\n",
              "    </tr>\n",
              "    <tr>\n",
              "      <th>9</th>\n",
              "      <td>disappointed too long</td>\n",
              "      <td>negative</td>\n",
              "      <td>negative</td>\n",
              "    </tr>\n",
              "    <tr>\n",
              "      <th>10</th>\n",
              "      <td>im addicted to this movie but if she doesnt di...</td>\n",
              "      <td>positive</td>\n",
              "      <td>negative</td>\n",
              "    </tr>\n",
              "    <tr>\n",
              "      <th>11</th>\n",
              "      <td>i love it cant wait to see the next episode</td>\n",
              "      <td>positive</td>\n",
              "      <td>positive</td>\n",
              "    </tr>\n",
              "    <tr>\n",
              "      <th>12</th>\n",
              "      <td>the movie really disappoint me his mother will...</td>\n",
              "      <td>negative</td>\n",
              "      <td>positive</td>\n",
              "    </tr>\n",
              "    <tr>\n",
              "      <th>13</th>\n",
              "      <td>loved the first 2 episodes and excited for the...</td>\n",
              "      <td>positive</td>\n",
              "      <td>positive</td>\n",
              "    </tr>\n",
              "  </tbody>\n",
              "</table>\n",
              "</div>\n",
              "    <div class=\"colab-df-buttons\">\n",
              "\n",
              "  <div class=\"colab-df-container\">\n",
              "    <button class=\"colab-df-convert\" onclick=\"convertToInteractive('df-3ca58409-1521-4451-bb58-52736343dccc')\"\n",
              "            title=\"Convert this dataframe to an interactive table.\"\n",
              "            style=\"display:none;\">\n",
              "\n",
              "  <svg xmlns=\"http://www.w3.org/2000/svg\" height=\"24px\" viewBox=\"0 -960 960 960\">\n",
              "    <path d=\"M120-120v-720h720v720H120Zm60-500h600v-160H180v160Zm220 220h160v-160H400v160Zm0 220h160v-160H400v160ZM180-400h160v-160H180v160Zm440 0h160v-160H620v160ZM180-180h160v-160H180v160Zm440 0h160v-160H620v160Z\"/>\n",
              "  </svg>\n",
              "    </button>\n",
              "\n",
              "  <style>\n",
              "    .colab-df-container {\n",
              "      display:flex;\n",
              "      gap: 12px;\n",
              "    }\n",
              "\n",
              "    .colab-df-convert {\n",
              "      background-color: #E8F0FE;\n",
              "      border: none;\n",
              "      border-radius: 50%;\n",
              "      cursor: pointer;\n",
              "      display: none;\n",
              "      fill: #1967D2;\n",
              "      height: 32px;\n",
              "      padding: 0 0 0 0;\n",
              "      width: 32px;\n",
              "    }\n",
              "\n",
              "    .colab-df-convert:hover {\n",
              "      background-color: #E2EBFA;\n",
              "      box-shadow: 0px 1px 2px rgba(60, 64, 67, 0.3), 0px 1px 3px 1px rgba(60, 64, 67, 0.15);\n",
              "      fill: #174EA6;\n",
              "    }\n",
              "\n",
              "    .colab-df-buttons div {\n",
              "      margin-bottom: 4px;\n",
              "    }\n",
              "\n",
              "    [theme=dark] .colab-df-convert {\n",
              "      background-color: #3B4455;\n",
              "      fill: #D2E3FC;\n",
              "    }\n",
              "\n",
              "    [theme=dark] .colab-df-convert:hover {\n",
              "      background-color: #434B5C;\n",
              "      box-shadow: 0px 1px 3px 1px rgba(0, 0, 0, 0.15);\n",
              "      filter: drop-shadow(0px 1px 2px rgba(0, 0, 0, 0.3));\n",
              "      fill: #FFFFFF;\n",
              "    }\n",
              "  </style>\n",
              "\n",
              "    <script>\n",
              "      const buttonEl =\n",
              "        document.querySelector('#df-3ca58409-1521-4451-bb58-52736343dccc button.colab-df-convert');\n",
              "      buttonEl.style.display =\n",
              "        google.colab.kernel.accessAllowed ? 'block' : 'none';\n",
              "\n",
              "      async function convertToInteractive(key) {\n",
              "        const element = document.querySelector('#df-3ca58409-1521-4451-bb58-52736343dccc');\n",
              "        const dataTable =\n",
              "          await google.colab.kernel.invokeFunction('convertToInteractive',\n",
              "                                                    [key], {});\n",
              "        if (!dataTable) return;\n",
              "\n",
              "        const docLinkHtml = 'Like what you see? Visit the ' +\n",
              "          '<a target=\"_blank\" href=https://colab.research.google.com/notebooks/data_table.ipynb>data table notebook</a>'\n",
              "          + ' to learn more about interactive tables.';\n",
              "        element.innerHTML = '';\n",
              "        dataTable['output_type'] = 'display_data';\n",
              "        await google.colab.output.renderOutput(dataTable, element);\n",
              "        const docLink = document.createElement('div');\n",
              "        docLink.innerHTML = docLinkHtml;\n",
              "        element.appendChild(docLink);\n",
              "      }\n",
              "    </script>\n",
              "  </div>\n",
              "\n",
              "\n",
              "<div id=\"df-ce2abd9d-2355-4f7e-b840-13b54e72aad6\">\n",
              "  <button class=\"colab-df-quickchart\" onclick=\"quickchart('df-ce2abd9d-2355-4f7e-b840-13b54e72aad6')\"\n",
              "            title=\"Suggest charts.\"\n",
              "            style=\"display:none;\">\n",
              "\n",
              "<svg xmlns=\"http://www.w3.org/2000/svg\" height=\"24px\"viewBox=\"0 0 24 24\"\n",
              "     width=\"24px\">\n",
              "    <g>\n",
              "        <path d=\"M19 3H5c-1.1 0-2 .9-2 2v14c0 1.1.9 2 2 2h14c1.1 0 2-.9 2-2V5c0-1.1-.9-2-2-2zM9 17H7v-7h2v7zm4 0h-2V7h2v10zm4 0h-2v-4h2v4z\"/>\n",
              "    </g>\n",
              "</svg>\n",
              "  </button>\n",
              "\n",
              "<style>\n",
              "  .colab-df-quickchart {\n",
              "      --bg-color: #E8F0FE;\n",
              "      --fill-color: #1967D2;\n",
              "      --hover-bg-color: #E2EBFA;\n",
              "      --hover-fill-color: #174EA6;\n",
              "      --disabled-fill-color: #AAA;\n",
              "      --disabled-bg-color: #DDD;\n",
              "  }\n",
              "\n",
              "  [theme=dark] .colab-df-quickchart {\n",
              "      --bg-color: #3B4455;\n",
              "      --fill-color: #D2E3FC;\n",
              "      --hover-bg-color: #434B5C;\n",
              "      --hover-fill-color: #FFFFFF;\n",
              "      --disabled-bg-color: #3B4455;\n",
              "      --disabled-fill-color: #666;\n",
              "  }\n",
              "\n",
              "  .colab-df-quickchart {\n",
              "    background-color: var(--bg-color);\n",
              "    border: none;\n",
              "    border-radius: 50%;\n",
              "    cursor: pointer;\n",
              "    display: none;\n",
              "    fill: var(--fill-color);\n",
              "    height: 32px;\n",
              "    padding: 0;\n",
              "    width: 32px;\n",
              "  }\n",
              "\n",
              "  .colab-df-quickchart:hover {\n",
              "    background-color: var(--hover-bg-color);\n",
              "    box-shadow: 0 1px 2px rgba(60, 64, 67, 0.3), 0 1px 3px 1px rgba(60, 64, 67, 0.15);\n",
              "    fill: var(--button-hover-fill-color);\n",
              "  }\n",
              "\n",
              "  .colab-df-quickchart-complete:disabled,\n",
              "  .colab-df-quickchart-complete:disabled:hover {\n",
              "    background-color: var(--disabled-bg-color);\n",
              "    fill: var(--disabled-fill-color);\n",
              "    box-shadow: none;\n",
              "  }\n",
              "\n",
              "  .colab-df-spinner {\n",
              "    border: 2px solid var(--fill-color);\n",
              "    border-color: transparent;\n",
              "    border-bottom-color: var(--fill-color);\n",
              "    animation:\n",
              "      spin 1s steps(1) infinite;\n",
              "  }\n",
              "\n",
              "  @keyframes spin {\n",
              "    0% {\n",
              "      border-color: transparent;\n",
              "      border-bottom-color: var(--fill-color);\n",
              "      border-left-color: var(--fill-color);\n",
              "    }\n",
              "    20% {\n",
              "      border-color: transparent;\n",
              "      border-left-color: var(--fill-color);\n",
              "      border-top-color: var(--fill-color);\n",
              "    }\n",
              "    30% {\n",
              "      border-color: transparent;\n",
              "      border-left-color: var(--fill-color);\n",
              "      border-top-color: var(--fill-color);\n",
              "      border-right-color: var(--fill-color);\n",
              "    }\n",
              "    40% {\n",
              "      border-color: transparent;\n",
              "      border-right-color: var(--fill-color);\n",
              "      border-top-color: var(--fill-color);\n",
              "    }\n",
              "    60% {\n",
              "      border-color: transparent;\n",
              "      border-right-color: var(--fill-color);\n",
              "    }\n",
              "    80% {\n",
              "      border-color: transparent;\n",
              "      border-right-color: var(--fill-color);\n",
              "      border-bottom-color: var(--fill-color);\n",
              "    }\n",
              "    90% {\n",
              "      border-color: transparent;\n",
              "      border-bottom-color: var(--fill-color);\n",
              "    }\n",
              "  }\n",
              "</style>\n",
              "\n",
              "  <script>\n",
              "    async function quickchart(key) {\n",
              "      const quickchartButtonEl =\n",
              "        document.querySelector('#' + key + ' button');\n",
              "      quickchartButtonEl.disabled = true;  // To prevent multiple clicks.\n",
              "      quickchartButtonEl.classList.add('colab-df-spinner');\n",
              "      try {\n",
              "        const charts = await google.colab.kernel.invokeFunction(\n",
              "            'suggestCharts', [key], {});\n",
              "      } catch (error) {\n",
              "        console.error('Error during call to suggestCharts:', error);\n",
              "      }\n",
              "      quickchartButtonEl.classList.remove('colab-df-spinner');\n",
              "      quickchartButtonEl.classList.add('colab-df-quickchart-complete');\n",
              "    }\n",
              "    (() => {\n",
              "      let quickchartButtonEl =\n",
              "        document.querySelector('#df-ce2abd9d-2355-4f7e-b840-13b54e72aad6 button');\n",
              "      quickchartButtonEl.style.display =\n",
              "        google.colab.kernel.accessAllowed ? 'block' : 'none';\n",
              "    })();\n",
              "  </script>\n",
              "</div>\n",
              "    </div>\n",
              "  </div>\n"
            ]
          },
          "metadata": {},
          "execution_count": 64
        }
      ]
    },
    {
      "cell_type": "code",
      "source": [
        "#print confusion matrix and evaluation report\n",
        "y_test=new_reviews['sentiment']\n",
        "cm=confusion_matrix(y_test, y_pred)\n",
        "print(cm)\n",
        "print(classification_report(y_test, y_pred))"
      ],
      "metadata": {
        "colab": {
          "base_uri": "https://localhost:8080/"
        },
        "id": "roj9cZS-PS_u",
        "outputId": "662baf13-7125-4cd1-b980-829279e9e918"
      },
      "execution_count": 65,
      "outputs": [
        {
          "output_type": "stream",
          "name": "stdout",
          "text": [
            "[[3 1]\n",
            " [1 9]]\n",
            "              precision    recall  f1-score   support\n",
            "\n",
            "    negative       0.75      0.75      0.75         4\n",
            "    positive       0.90      0.90      0.90        10\n",
            "\n",
            "    accuracy                           0.86        14\n",
            "   macro avg       0.82      0.82      0.82        14\n",
            "weighted avg       0.86      0.86      0.86        14\n",
            "\n"
          ]
        }
      ]
    },
    {
      "cell_type": "markdown",
      "metadata": {
        "id": "Nrv8-AnX3hED"
      },
      "source": [
        "You can test it on a new data set, but make sure you do the same preprocessing first."
      ]
    },
    {
      "cell_type": "markdown",
      "metadata": {
        "id": "-Mtzwlk8yMEu"
      },
      "source": [
        "# **Congratulations**\n",
        "Well done, you have loaded and used your first pre-trained model!\n",
        "\n",
        "\n"
      ]
    }
  ],
  "metadata": {
    "colab": {
      "toc_visible": true,
      "provenance": []
    },
    "kernelspec": {
      "display_name": "Python 3",
      "name": "python3"
    },
    "language_info": {
      "name": "python"
    }
  },
  "nbformat": 4,
  "nbformat_minor": 0
}