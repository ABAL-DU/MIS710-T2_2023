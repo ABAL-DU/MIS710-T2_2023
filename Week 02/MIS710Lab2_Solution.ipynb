{
  "cells": [
    {
      "cell_type": "markdown",
      "metadata": {
        "id": "view-in-github"
      },
      "source": [
        "<a href=\"https://colab.research.google.com/github/thwc/MIS710-T12023/blob/main/Week%202/MIS710Lab2-Solution.ipynb\" target=\"_parent\"><img src=\"https://colab.research.google.com/assets/colab-badge.svg\" alt=\"Open In Colab\"/></a>"
      ]
    },
    {
      "cell_type": "markdown",
      "metadata": {
        "id": "MNkJtLWoPpW7"
      },
      "source": [
        "# **MIS710 Lab 2 Week 2**\n",
        "Author: Associate Professor Lemai Nguyen, Thuc Nguyen\n",
        "\n",
        "Objective: to learn Python bacis and load a dataset to view its shape and data types\n"
      ]
    },
    {
      "cell_type": "markdown",
      "metadata": {
        "id": "XpKsWxRj5byD"
      },
      "source": [
        "**To do before the class:**\n",
        "1. read the Lab slides\n",
        "2. access Colab\n",
        "3. make sure you have a google account, and Drive\n",
        "4. download the titanic dataset and store it in your Google drive"
      ]
    },
    {
      "cell_type": "markdown",
      "metadata": {
        "id": "cFlk7601zt-l"
      },
      "source": [
        "**Student name:**\n",
        "\n",
        "Student ID:"
      ]
    },
    {
      "cell_type": "markdown",
      "metadata": {
        "id": "Cr9YzQeDrpkF"
      },
      "source": [
        "# **Task 1: Titanic dataset**\n",
        "Dataset: Titanic\n",
        "\n",
        "Source: https://www.kaggle.com/c/titanic"
      ]
    },
    {
      "cell_type": "markdown",
      "metadata": {
        "id": "jxTV1VTuj9mC"
      },
      "source": [
        "## **Import Libraries**\n"
      ]
    },
    {
      "cell_type": "code",
      "execution_count": null,
      "metadata": {
        "id": "lVf5buwkml_I"
      },
      "outputs": [],
      "source": [
        "#load libraries\n",
        "import pandas as pd #for data manipulation and analysis\n",
        "import numpy as np #for working with arrays\n",
        "\n",
        "#import data visualisation libraries\n",
        "import matplotlib.pyplot as plt\n",
        "import seaborn as sns"
      ]
    },
    {
      "cell_type": "markdown",
      "metadata": {
        "id": "eSIIzLgfNLtN"
      },
      "source": [
        "## **Mount your Google drive**"
      ]
    },
    {
      "cell_type": "code",
      "execution_count": null,
      "metadata": {
        "id": "F1_8DccH8qjZ"
      },
      "outputs": [],
      "source": [
        "from google.colab import drive\n",
        "drive.mount('/content/drive')"
      ]
    },
    {
      "cell_type": "markdown",
      "metadata": {
        "id": "B38Q50gZm1vQ"
      },
      "source": [
        "## **Load Data**\n",
        "\n",
        "\n",
        "1.   Load the dataset\n",
        "2.   Explore the data\n",
        "\n"
      ]
    },
    {
      "cell_type": "code",
      "execution_count": null,
      "metadata": {
        "id": "uYGvcxGZVBID"
      },
      "outputs": [],
      "source": [
        "# load dataset\n",
        "records = pd.read_csv(\"https://raw.githubusercontent.com/ABAL-DU/MIS710-T2_2023/main/Week%2001/titanic_train.csv\")\n",
        "\n",
        "#explore the dataset\n",
        "print(records)\n",
        "\n",
        "print('Sample size:', records.shape[0])\n",
        "print('Number of columns:', records.shape[1])\n",
        "\n"
      ]
    },
    {
      "cell_type": "markdown",
      "metadata": {
        "id": "ERODsAMHrPZk"
      },
      "source": [
        "## **Inspect data at a glance**"
      ]
    },
    {
      "cell_type": "code",
      "execution_count": null,
      "metadata": {
        "id": "J75MIJ22WU77"
      },
      "outputs": [],
      "source": [
        "print(records.info())\n",
        "print(records.shape)"
      ]
    },
    {
      "cell_type": "code",
      "execution_count": null,
      "metadata": {
        "id": "wQ_4G0LQW5i8"
      },
      "outputs": [],
      "source": [
        "records.head()\n",
        "#What is displayed?"
      ]
    },
    {
      "cell_type": "code",
      "execution_count": null,
      "metadata": {
        "id": "VAXdWumfW_cR"
      },
      "outputs": [],
      "source": [
        "records.tail(10)\n",
        "#What is displayed?"
      ]
    },
    {
      "cell_type": "code",
      "execution_count": null,
      "metadata": {
        "id": "28fSuPtSXMoC"
      },
      "outputs": [],
      "source": [
        "records.sample(10)\n",
        "#What is displayed?"
      ]
    },
    {
      "cell_type": "code",
      "execution_count": null,
      "metadata": {
        "id": "jhXa7x_tlfSn"
      },
      "outputs": [],
      "source": [
        "#print data from a certain column(s)\n",
        "names= records[['Name','Survived']]\n",
        "print(names.shape)\n",
        "print(type(names))\n",
        "print(names.head(5))\n"
      ]
    },
    {
      "cell_type": "code",
      "execution_count": null,
      "metadata": {
        "id": "l_3GE5UQwISu"
      },
      "outputs": [],
      "source": [
        "#select some other columns and print"
      ]
    },
    {
      "cell_type": "markdown",
      "metadata": {
        "id": "a5nysLfRr-Qn"
      },
      "source": [
        "## **Inspect missing data**\n",
        "\n",
        "The data preprocessing is cyclic with analysing and visualising data, handling missing data, and feature engineering. For the learning purpose, we show you some simple techniques, you should move between the activities yourself."
      ]
    },
    {
      "cell_type": "code",
      "execution_count": null,
      "metadata": {
        "id": "-FK2N3CLuW41"
      },
      "outputs": [],
      "source": [
        "#Learn to use for loop, and accessing elements of a dataframe using iloc\n",
        "#Count missing data\n",
        "for i in records.iloc[:,0:13]:\n",
        "  miss=records[i].isna().sum()\n",
        "  print(i,'missing: ', miss)\n"
      ]
    },
    {
      "cell_type": "code",
      "execution_count": null,
      "metadata": {
        "id": "PI1i0nBAyr7B"
      },
      "outputs": [],
      "source": [
        "#another way to find missing data is using the function isnull()\n",
        "#read about isnull() here https://pandas.pydata.org/docs/reference/api/pandas.isnull.html\n",
        "#useful site: https://www.sharpsightlabs.com/blog/pandas-isnull/\n",
        "print(records.isnull().sum())"
      ]
    },
    {
      "cell_type": "markdown",
      "metadata": {
        "id": "6NuVt14sdE30"
      },
      "source": [
        "## **Conduct Exploratory Data Analysis - EDA**\n",
        "\n",
        "Stats and visualtion\n",
        "1.  Univariate analysis\n",
        "2.  Bivariate analysis\n",
        "3.  Multivariate analysis\n",
        "\n",
        "\n"
      ]
    },
    {
      "cell_type": "markdown",
      "metadata": {
        "id": "QlRjqL73qYag"
      },
      "source": [
        "### **Univariate analysis**"
      ]
    },
    {
      "cell_type": "markdown",
      "metadata": {
        "id": "sUv7Rse2r1PL"
      },
      "source": [
        "**Univariate analysis explores centrality, summarise and visualises data distribution for each variable at a time**\n"
      ]
    },
    {
      "cell_type": "code",
      "execution_count": null,
      "metadata": {
        "id": "QfX3RkXzbdi9"
      },
      "outputs": [],
      "source": [
        "#descriptive stats for numerical variables\n",
        "records.describe()"
      ]
    },
    {
      "cell_type": "markdown",
      "metadata": {
        "id": "3Cyq04yxTA3N"
      },
      "source": [
        "Run the above code and write down here your observations:\n",
        "For example, centrality of age distribution, range, and std.\n",
        "\n",
        "What can you say about some other columns, for example PassengerID and Survived does it make sense?"
      ]
    },
    {
      "cell_type": "code",
      "execution_count": null,
      "metadata": {
        "id": "Uq2kPmNibTyv"
      },
      "outputs": [],
      "source": [
        "#set the formatting for floating numbers\n",
        "pd.set_option('display.float_format', lambda x: '%.3f' % x)\n",
        "\n",
        "#summarise categorical columns as well\n",
        "data_types =['object', 'float', 'int']\n",
        "records.describe(include=data_types)"
      ]
    },
    {
      "cell_type": "markdown",
      "metadata": {
        "id": "zuLcNFaRf_da"
      },
      "source": [
        "**Explore each numerical variable**"
      ]
    },
    {
      "cell_type": "code",
      "execution_count": null,
      "metadata": {
        "id": "1HwHCTvipf76"
      },
      "outputs": [],
      "source": [
        "#explore each numerical variable\n",
        "print('Age mean: ', (records['Age'].mean()))\n",
        "print('Age meadian: ', (records['Age'].median()))\n",
        "print('Age min: ', (records['Age'].min()))\n",
        "print('Age max: ', (records['Age'].max()))\n",
        "print('Age std: ', (records['Age'].std()))"
      ]
    },
    {
      "cell_type": "code",
      "execution_count": null,
      "metadata": {
        "id": "p-lscKMOcAzg"
      },
      "outputs": [],
      "source": [
        "#Visualise a numerical variable using histrograms using matplot\n",
        "records.Age.hist()"
      ]
    },
    {
      "cell_type": "code",
      "execution_count": null,
      "metadata": {
        "id": "3MHWAswjaa_e"
      },
      "outputs": [],
      "source": [
        "records['Age'].plot.hist(grid=True, bins=10, rwidth=2, color='#607e9f')\n",
        "plt.title('Age of passengers')\n",
        "plt.xlabel('Age')\n",
        "plt.ylabel('Frequency')\n",
        "plt.grid(axis='y', alpha=0.75)"
      ]
    },
    {
      "cell_type": "code",
      "execution_count": null,
      "metadata": {
        "id": "cangeJqbb-0H"
      },
      "outputs": [],
      "source": [
        "#using seaborn https://seaborn.pydata.org/generated/seaborn.histplot.html\n",
        "sns.histplot(data=records, x='Age', bins=50, kde=True)"
      ]
    },
    {
      "cell_type": "code",
      "execution_count": null,
      "metadata": {},
      "outputs": [],
      "source": [
        "import seaborn as sns\n",
        "\n",
        "# Assuming you have already computed the 'ages' variable containing the age values\n",
        "\n",
        "# Calculate the number of bins\n",
        "num_bins = int(max(records['Age']) - min(records['Age']) + 1)\n",
        "\n",
        "# Create the histogram with each bin representing 1 age\n",
        "sns.histplot(data=records, x='Age', bins=num_bins, kde=True)\n",
        "\n",
        "# Display the plot\n",
        "plt.show()\n"
      ]
    },
    {
      "cell_type": "code",
      "execution_count": null,
      "metadata": {
        "id": "VrrauM8heLZ9"
      },
      "outputs": [],
      "source": [
        "sns.boxplot(x=records['Age'], color='blue')\n"
      ]
    },
    {
      "cell_type": "code",
      "execution_count": null,
      "metadata": {
        "id": "M9fK2GOmemYR"
      },
      "outputs": [],
      "source": [
        "sns.violinplot(x=records['Age'], color='orange')"
      ]
    },
    {
      "cell_type": "code",
      "execution_count": null,
      "metadata": {
        "id": "-cSWKSBfe1EI"
      },
      "outputs": [],
      "source": [
        "sns.swarmplot(x=records['Age'], color='brown')\n",
        "sns.violinplot(x=records['Age'], color='orange')"
      ]
    },
    {
      "cell_type": "code",
      "execution_count": null,
      "metadata": {
        "id": "rOAR0iMbUGvJ"
      },
      "outputs": [],
      "source": [
        "sns.kdeplot(x=records['Age'], color='orange')"
      ]
    },
    {
      "cell_type": "markdown",
      "metadata": {
        "id": "bFURG_IVfbhX"
      },
      "source": [
        "**It's your turn: explore other numerical variables**"
      ]
    },
    {
      "cell_type": "code",
      "execution_count": null,
      "metadata": {
        "id": "cg8lglitXD3Q"
      },
      "outputs": [],
      "source": [
        "#write Python code to explore Fare yourself\n"
      ]
    },
    {
      "cell_type": "code",
      "execution_count": null,
      "metadata": {
        "id": "ecfOIXuSeBE-"
      },
      "outputs": [],
      "source": [
        "##write Python code to visualise Fare yourself"
      ]
    },
    {
      "cell_type": "markdown",
      "metadata": {
        "id": "sWkjpMIugDkb"
      },
      "source": [
        "**Explore each categorical variable**"
      ]
    },
    {
      "cell_type": "code",
      "execution_count": null,
      "metadata": {
        "id": "KJkrrgFR0UMT"
      },
      "outputs": [],
      "source": [
        "#describe categorical variables\n",
        "print(records['Sex'].describe(include='object'))\n",
        "print(records['Embarked'].describe())\n",
        "\n",
        "#run the code and answer: what does the result cell say?"
      ]
    },
    {
      "cell_type": "code",
      "execution_count": null,
      "metadata": {
        "id": "fMEqUtokWARJ"
      },
      "outputs": [],
      "source": [
        "#explore each categorial variable\n",
        "print(records['Embarked'].value_counts())\n",
        "print('Embarked mode: ', records['Embarked'].mode())"
      ]
    },
    {
      "cell_type": "code",
      "execution_count": null,
      "metadata": {
        "id": "gyo2GroIb3XE"
      },
      "outputs": [],
      "source": [
        "#Another way to do it\n",
        "records.Embarked.value_counts()"
      ]
    },
    {
      "cell_type": "code",
      "execution_count": null,
      "metadata": {
        "id": "t-ES3GfAXUta"
      },
      "outputs": [],
      "source": [
        "#explore other categorial variables yourself, for example Sex\n"
      ]
    },
    {
      "cell_type": "markdown",
      "metadata": {
        "id": "-i1gyOcIdjrM"
      },
      "source": [
        "**Visualise each categorical variable**"
      ]
    },
    {
      "cell_type": "code",
      "execution_count": null,
      "metadata": {
        "id": "WWWSiKPqjxme"
      },
      "outputs": [],
      "source": [
        "#Using seaborn\n",
        "sns.countplot(x=records['Pclass'])"
      ]
    },
    {
      "cell_type": "code",
      "execution_count": null,
      "metadata": {
        "id": "zNwuDjEpkv3y"
      },
      "outputs": [],
      "source": [
        "#You can use hist if code has been trsnformed into numeric\n",
        "plt.hist(records['Survived'])"
      ]
    },
    {
      "cell_type": "markdown",
      "metadata": {
        "id": "S59qd17alBS5"
      },
      "source": [
        "**Visualise other categorical variables**"
      ]
    },
    {
      "cell_type": "code",
      "execution_count": null,
      "metadata": {
        "id": "owNEshpvAb1G"
      },
      "outputs": [],
      "source": [
        "for i in ['Survived','Pclass', 'Sex', 'Embarked']:\n",
        "   plt.figure()\n",
        "   sns.countplot(x=records[i])\n"
      ]
    },
    {
      "cell_type": "markdown",
      "metadata": {
        "id": "rzDxFh11nybi"
      },
      "source": [
        "**You can use stats results to handle missing data**"
      ]
    },
    {
      "cell_type": "code",
      "execution_count": null,
      "metadata": {
        "id": "hrbtlNw2rucG"
      },
      "outputs": [],
      "source": [
        "#Fill in missing numerical data with mean and categorical data with mode\n",
        "records['Age'].fillna(records['Age'].mean(),inplace=True)\n",
        "records['Embarked'].fillna(records['Embarked'].mode()[0], inplace=True) #there can be more than one mode"
      ]
    },
    {
      "cell_type": "code",
      "execution_count": null,
      "metadata": {
        "id": "FN8cKZpqzUbT"
      },
      "outputs": [],
      "source": [
        "print(records.isnull().sum())"
      ]
    },
    {
      "cell_type": "markdown",
      "metadata": {
        "id": "a2n2XUQcn60C"
      },
      "source": [
        "**Explore these variables after you have filled in the missing data**"
      ]
    },
    {
      "cell_type": "markdown",
      "metadata": {
        "id": "sMfU2AGuwnYe"
      },
      "source": [
        "Drop irrelevant rows. For example"
      ]
    },
    {
      "cell_type": "code",
      "execution_count": null,
      "metadata": {
        "id": "AjJg8YY2xfBs"
      },
      "outputs": [],
      "source": [
        "records.drop(['PassengerId','Name'], axis=1, inplace=True)\n",
        "print(records.info())"
      ]
    },
    {
      "cell_type": "code",
      "execution_count": null,
      "metadata": {
        "id": "GOA9Vo-dwmsr"
      },
      "outputs": [],
      "source": [
        "#You can drop rows with missing data\n",
        "records.dropna(subset=['Embarked'], inplace=True)\n",
        "print(records.info())"
      ]
    },
    {
      "cell_type": "markdown",
      "metadata": {
        "id": "Mw-0A_d4WNQZ"
      },
      "source": [
        "**Do it yourself**"
      ]
    },
    {
      "cell_type": "code",
      "execution_count": null,
      "metadata": {
        "id": "t_-Jw_3dyboq"
      },
      "outputs": [],
      "source": [
        "#How to handle other missing data? Why?"
      ]
    },
    {
      "cell_type": "code",
      "execution_count": null,
      "metadata": {
        "id": "tReuwOvqy2Gt"
      },
      "outputs": [],
      "source": [
        "print(records.isnull().sum())"
      ]
    },
    {
      "cell_type": "markdown",
      "metadata": {
        "id": "3qFNG7wdoCRo"
      },
      "source": [
        "### **Biariate analysis**"
      ]
    },
    {
      "cell_type": "markdown",
      "metadata": {
        "id": "wVhE8RE3p6E9"
      },
      "source": [
        "**Display a countplot for one categorical variable grouped by a second categorical variable**\n",
        "https://seaborn.pydata.org/generated/seaborn.countplot.html"
      ]
    },
    {
      "cell_type": "code",
      "execution_count": null,
      "metadata": {
        "id": "ngWnxNtPoBvQ"
      },
      "outputs": [],
      "source": [
        "sns.countplot(data=records, x='Sex', hue='Survived')"
      ]
    },
    {
      "cell_type": "code",
      "execution_count": null,
      "metadata": {
        "id": "gQ7V5rm2qkNn"
      },
      "outputs": [],
      "source": [
        "sns.countplot(data=records, hue='Sex', x='Survived')"
      ]
    },
    {
      "cell_type": "markdown",
      "metadata": {
        "id": "gImjNDaxqsII"
      },
      "source": [
        "**Compare distributions of numerical variables using boxplots**\n",
        "https://seaborn.pydata.org/generated/seaborn.boxplot.html"
      ]
    },
    {
      "cell_type": "code",
      "execution_count": null,
      "metadata": {
        "id": "FPQlu_iNq5x1"
      },
      "outputs": [],
      "source": [
        "sns.boxplot(data=records, x='Age', y='Embarked')"
      ]
    },
    {
      "cell_type": "code",
      "execution_count": null,
      "metadata": {
        "id": "bmjsxihkuAiZ"
      },
      "outputs": [],
      "source": [
        "sns.boxplot(data=records, x=\"Age\", y=\"Embarked\", hue=\"Survived\")"
      ]
    },
    {
      "cell_type": "code",
      "execution_count": null,
      "metadata": {
        "id": "eGGJT2Hv_R5U"
      },
      "outputs": [],
      "source": [
        "#view Age distributions by Survival status\n",
        "sns.kdeplot(data=records, x=\"Age\", hue=\"Survived\", multiple=\"stack\")"
      ]
    },
    {
      "cell_type": "markdown",
      "metadata": {
        "id": "ctAlgYHWsvDt"
      },
      "source": [
        "**Ploting diagram to see relationships between two numerical variables**\n",
        "https://seaborn.pydata.org/generated/seaborn.scatterplot.html"
      ]
    },
    {
      "cell_type": "code",
      "execution_count": null,
      "metadata": {
        "id": "ugO4zhQjs6-N"
      },
      "outputs": [],
      "source": [
        "sns.scatterplot(data=records, x='Age', y='Fare')"
      ]
    },
    {
      "cell_type": "markdown",
      "metadata": {
        "id": "pr7KG-TaudQ9"
      },
      "source": [
        "### **Data conversion**"
      ]
    },
    {
      "cell_type": "code",
      "execution_count": null,
      "metadata": {
        "id": "lYuJWuFLXi35"
      },
      "outputs": [],
      "source": [
        "#Import LabelEncoder\n",
        "from sklearn.preprocessing import LabelEncoder"
      ]
    },
    {
      "cell_type": "code",
      "execution_count": null,
      "metadata": {
        "id": "oJz7BvR4yefn"
      },
      "outputs": [],
      "source": [
        "# convert categorical variables to numerical using LabelEncoder\n",
        "encoder = LabelEncoder()\n",
        "records['Sex_N'] = encoder.fit_transform(records['Sex'])\n",
        "records['Embarked_N'] = encoder.fit_transform(records['Embarked'])"
      ]
    },
    {
      "cell_type": "code",
      "execution_count": null,
      "metadata": {
        "id": "j3_4P6WL0PhN"
      },
      "outputs": [],
      "source": [
        "records.tail(20)"
      ]
    },
    {
      "cell_type": "code",
      "execution_count": null,
      "metadata": {
        "id": "f7bJDz-S2MfA"
      },
      "outputs": [],
      "source": [
        "#Turn Age to Age groups\n",
        "age_bins = [0, 20, 40, 60, np.inf]\n",
        "\n",
        "# assign categorical labels to the bins\n",
        "age_labels = ['under 20', '21 to 40', '41 to 60', '61 and above']\n",
        "\n",
        "# convert the numerical column to categorical\n",
        "records['Age_Gr'] = pd.cut(records['Age'], bins=age_bins, labels=age_labels, right=True) #if right=False then the intervals are closed on the left side and open on the right side."
      ]
    },
    {
      "cell_type": "markdown",
      "metadata": {
        "id": "LgyKpLedug5Q"
      },
      "source": [
        "### **Multivariate analysis with Heatmaps**\n",
        "\n",
        "Read https://seaborn.pydata.org/generated/seaborn.heatmap.html# and try it yourself\n",
        "\n"
      ]
    },
    {
      "cell_type": "code",
      "execution_count": null,
      "metadata": {
        "id": "4z2GDGldYYqZ"
      },
      "outputs": [],
      "source": [
        "records.info()"
      ]
    },
    {
      "cell_type": "code",
      "execution_count": null,
      "metadata": {
        "id": "BNOvcRM8Y9Uy"
      },
      "outputs": [],
      "source": [
        "records=records.drop(['Sex','Ticket','Cabin','Embarked', 'Age_Gr'], axis=1)"
      ]
    },
    {
      "cell_type": "markdown",
      "metadata": {
        "id": "yi3-epJbaDXq"
      },
      "source": [
        "Read https://seaborn.pydata.org/generated/seaborn.heatmap.html# and try it yourself"
      ]
    },
    {
      "cell_type": "code",
      "execution_count": null,
      "metadata": {
        "id": "ap7oat8upnHn"
      },
      "outputs": [],
      "source": [
        "#Example 1:\n",
        "sns.heatmap(records.corr(), cmap=\"crest\", square=True, annot=True, fmt=\".1f\")"
      ]
    },
    {
      "cell_type": "markdown",
      "metadata": {
        "id": "7be2tBqzaVXx"
      },
      "source": [
        "## **Feature selection**"
      ]
    },
    {
      "cell_type": "code",
      "execution_count": null,
      "metadata": {
        "id": "zTpflwboaUak"
      },
      "outputs": [],
      "source": [
        "#Select relevant predictors\n",
        "features=['Sex_N','Pclass', 'Fare', 'Embarked_N', 'Age', 'SibSp', 'Parch']\n",
        "X=records[features]\n",
        "\n",
        "#Select the target variable for prediction\n",
        "y=records['Survived']"
      ]
    },
    {
      "cell_type": "code",
      "execution_count": null,
      "metadata": {
        "id": "xpZgGc__bGV7"
      },
      "outputs": [],
      "source": [
        "X.shape\n"
      ]
    },
    {
      "cell_type": "code",
      "execution_count": null,
      "metadata": {
        "id": "GDcX1y22bKSz"
      },
      "outputs": [],
      "source": [
        "y.shape"
      ]
    },
    {
      "cell_type": "markdown",
      "metadata": {
        "id": "VcuebXJWbPnb"
      },
      "source": [
        "## **Split data**"
      ]
    },
    {
      "cell_type": "code",
      "execution_count": null,
      "metadata": {
        "id": "GkpwBodJbU6w"
      },
      "outputs": [],
      "source": [
        "#import the train_test_split function\n",
        "from sklearn.model_selection import train_test_split"
      ]
    },
    {
      "cell_type": "code",
      "execution_count": null,
      "metadata": {
        "id": "tvY5Pivfbn6J"
      },
      "outputs": [],
      "source": [
        "# Split dataset into training set and test set\n",
        "X_train, X_test, y_train, y_test = train_test_split(X, y, test_size=0.2, random_state=1)  # 80% training and 20% testing\n"
      ]
    },
    {
      "cell_type": "markdown",
      "metadata": {
        "id": "0qe2xZt_3weE"
      },
      "source": [
        "# **Task 2: Housing dataset**\n",
        "\n",
        "**Do it yourself:** Repeat the above steps with the housing dataset to consilidate your learning"
      ]
    },
    {
      "cell_type": "code",
      "execution_count": null,
      "metadata": {
        "id": "SATSGaTexwOr"
      },
      "outputs": [],
      "source": [
        "# Import packages\n",
        "import pandas as pd\n",
        "import matplotlib.pyplot as plt\n",
        "import seaborn as sns"
      ]
    },
    {
      "cell_type": "markdown",
      "metadata": {
        "id": "KIEESZELtSov"
      },
      "source": [
        "**Import Melbourne housing data**"
      ]
    },
    {
      "cell_type": "code",
      "execution_count": null,
      "metadata": {
        "id": "dfq3xWWWtC39"
      },
      "outputs": [],
      "source": [
        "url = 'https://raw.githubusercontent.com/thwc/MIS710-T12023/main/Week%201/Melbourne_housing_FULL.csv'\n",
        "df = pd.read_csv(url)"
      ]
    },
    {
      "cell_type": "markdown",
      "metadata": {
        "id": "BdTKbz99tSIU"
      },
      "source": [
        "## **Data at a glance**\n",
        "* Print out the first and last 10 records of the datataframe (`head()` and `tail`)\n",
        "* What are data type and number of records for each attribute? (`info()`)\n",
        "* Are there any missing values? Remove missing values for `Price` column. Compare number of rows before and after removing missing values. (`isnull()`)\n",
        "\n"
      ]
    },
    {
      "cell_type": "code",
      "execution_count": null,
      "metadata": {
        "id": "XGd92uIyYZHX"
      },
      "outputs": [],
      "source": [
        "# Execute these codes in separate code cell to see output\n",
        "# Print out the first and last 10 records of the datataframe (head() and tail)\n",
        "df.head(10)\n",
        "df.tail(10)\n",
        "\n",
        "# What are data type and number of records for each attribute? (info())\n",
        "df.info()\n",
        "\n",
        "# Are there any missing values? Remove missing values for `Price` column. Compare number of rows before and after removing missing values. (`isnull()`)\n",
        "df.isnull().sum().sort_values(ascending=False) # Return number of missing values for each column\n",
        "df.dropna(subset=['Price'], inplace=True) # Remove missing values in Price column\n",
        "df.info() # df from 34857 row to 27247 rows after removing missing values"
      ]
    },
    {
      "cell_type": "markdown",
      "metadata": {
        "id": "n_QY3KutvER5"
      },
      "source": [
        "## Numerical analysis and visualisation\n",
        "\n",
        "* Calculate the mean, median, min, max and std of `Price`, `Landsize` (`describe()`)\n",
        "* Plot overall `Price` and `Landsize` distribution using boxplot and histogram (`plot()`)\n",
        "* Plot price distribution for each region. and house type\n"
      ]
    },
    {
      "cell_type": "code",
      "execution_count": null,
      "metadata": {
        "id": "1G_LU_SXZEpj"
      },
      "outputs": [],
      "source": [
        "# Calculate the mean, median, min, max and std of Price, Landsize (describe())\n",
        "pd.set_option('display.float_format', lambda x: '%.2f' % x) # Set display format for pandas\n",
        "df[['Price', 'Landsize']].describe() # Select only Price and Landsize columns\n",
        "\n",
        "# Plot overall Price and Landsize distribution using boxplot and histogram (plot())\n",
        "# Plot histogram for Price and Landsize columns\n",
        "for i in ['Price', 'Landsize']:\n",
        "    sns.histplot(data=df, x=i , bins=100)\n",
        "    plt.figure()\n",
        "\n",
        "# Plot boxplot for Price and Landsize columns\n",
        "for i in ['Price', 'Landsize']:\n",
        "    sns.boxplot(x=df[i], color='blue')\n",
        "    plt.figure()\n",
        "\n",
        "# Plot price distribution for each region. and house type\n",
        "# Plot price distribution for each region\n",
        "ax = df['Price'].hist(by=df['Regionname'],figsize=(10,10), bins=100, sharex=True)\n",
        "plt.figure()\n",
        "\n",
        "# Plot price distribution for each house type\n",
        "df['Price'].hist(by=df['Type'],figsize=(10,10), bins=100, sharex=True)\n",
        "plt.figure()"
      ]
    },
    {
      "cell_type": "markdown",
      "metadata": {
        "id": "jGBkcM4_u9Iz"
      },
      "source": [
        "## Categorical data analysis and visualisation\n",
        "\n",
        "* Count unique values in `Suburb`\n",
        "* List unique values in `Regionname`\n",
        "* Plot a bar chart of number of sales for top 10 suburbs with the most sales\n"
      ]
    },
    {
      "cell_type": "code",
      "execution_count": null,
      "metadata": {
        "id": "nZ5_byS-6Q3G"
      },
      "outputs": [],
      "source": [
        "# Count unique values in Suburb\n",
        "df['Suburb'].value_counts()\n",
        "\n",
        "# List unique values in Regionname\n",
        "df['Regionname'].value_counts()\n",
        "\n",
        "# Plot a bar chart of number of sales for top 10 suburbs with the most sales\n",
        "n = 10 # Assign n_th index\n",
        "top_10_suburb_list = df['Suburb'].value_counts()[:n].index.tolist() # Return top 10 suburbs with the most sales as a list\n",
        "df_top_10_suburb = df[df['Suburb'].isin(top_10_suburb_list)] # Make a df contain only top 10 suburbs\n",
        "df_top_10_suburb['Suburb'].value_counts(ascending=True).plot(kind=\"barh\") # Plot value counts of top 10 suburbs\n",
        "df_top_10_suburb[['Suburb', 'Price']].boxplot(by='Suburb', vert=False, figsize=(10,6)) # Plot boxplot of prices grouped by top 10 suburbs\n",
        "df_top_10_suburb['Price'].hist(by=df['Suburb'],figsize=(10,10), bins=100, sharex=True) # Plot price distribution of top 10 suburbs\n",
        "plt.figure()"
      ]
    },
    {
      "cell_type": "markdown",
      "metadata": {
        "id": "HbWQAdmuvFcX"
      },
      "source": [
        "## Relationship between the columns\n",
        "* Plot a matrix of scatter plots for Price, Rooms, Landsize, Car, Distance"
      ]
    },
    {
      "cell_type": "code",
      "execution_count": null,
      "metadata": {
        "id": "XZmbIodO6RE1"
      },
      "outputs": [],
      "source": [
        "pd.plotting.scatter_matrix(df[['Price', 'Rooms', 'Landsize', 'Car', 'Distance']], alpha=0.2, figsize=(16,16))"
      ]
    },
    {
      "cell_type": "markdown",
      "metadata": {
        "id": "akVdDllay8G2"
      },
      "source": [
        "## Column wrangling\n",
        "* Calculate a new `Price per room` column\n",
        "* Calculate a new `Age` column in 2023\n"
      ]
    },
    {
      "cell_type": "code",
      "execution_count": null,
      "metadata": {
        "id": "ZskXf6Zb6RSO"
      },
      "outputs": [],
      "source": [
        "df['Price per room'] = df['Price'] / df['Rooms']\n",
        "df['Age'] = 2023 - df.YearBuilt"
      ]
    },
    {
      "cell_type": "markdown",
      "metadata": {
        "id": "crh3GGjkzAEo"
      },
      "source": [
        "## Selection & Indexing\n",
        "* Get all the sales made in `Melbourne City Council`. Calculate mean, median, min, max and std for the specified records\n",
        "* Get all the sales made in `Manningham City Council` having more than 4 rooms"
      ]
    },
    {
      "cell_type": "code",
      "execution_count": null,
      "metadata": {
        "id": "43G88Sz-2WND"
      },
      "outputs": [],
      "source": [
        "# Get all the sales made in Melbourne City Council.\n",
        "df[df.CouncilArea == 'Melbourne City Council']\n",
        "\n",
        "# Calculate mean, median, min, max and std for the specified records\n",
        "df[df.CouncilArea == 'Melbourne City Council']['Price'].describe()\n",
        "\n",
        "# Get all the sales made in Manningham City Council having more than 4 rooms\n",
        "df[(df.CouncilArea == 'Melbourne City Council') & (df.Rooms > 4)]\n"
      ]
    }
  ],
  "metadata": {
    "colab": {
      "provenance": [],
      "toc_visible": true
    },
    "kernelspec": {
      "display_name": "Python 3",
      "name": "python3"
    },
    "language_info": {
      "codemirror_mode": {
        "name": "ipython",
        "version": 3
      },
      "file_extension": ".py",
      "mimetype": "text/x-python",
      "name": "python",
      "nbconvert_exporter": "python",
      "pygments_lexer": "ipython3",
      "version": "3.9.13"
    }
  },
  "nbformat": 4,
  "nbformat_minor": 0
}
