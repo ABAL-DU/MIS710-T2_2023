{
  "cells": [
    {
      "attachments": {},
      "cell_type": "markdown",
      "metadata": {
        "id": "MNkJtLWoPpW7"
      },
      "source": [
        "\n",
        "# **MIS710 Lab 1 Week 1**\n",
        "Authors: Associate Professor Lemai Nguyen, Thuc Nguyen\n",
        "\n",
        "Objectives:\n",
        "1. To set up and familiarise with the Google Colab environment for MIS710\n",
        "2. Build up Python programming basic knowledge and skills\n",
        "\n",
        "Prerequisite: Completion of Lab 0 exercises prior to Lab 1\n",
        "\n",
        "Dataset: [Titanic](https://www.kaggle.com/c/titanic)\n",
        "\n",
        "Dataset: [Melbourne Housing Market](https://www.kaggle.com/datasets/anthonypino/melbourne-housing-market)\n"
      ]
    },
    {
      "attachments": {},
      "cell_type": "markdown",
      "metadata": {
        "id": "XpKsWxRj5byD"
      },
      "source": [
        "**To do before the class:**\n",
        "1. Read the Lab slides\n",
        "2. Access Colab\n",
        "3. Make sure you have a google account, and Drive\n",
        "4. Download the titanic dataset and store it in your Google drive\n",
        "5. Try as many exercises as you can before the lab"
      ]
    },
    {
      "attachments": {},
      "cell_type": "markdown",
      "metadata": {
        "id": "cFlk7601zt-l"
      },
      "source": [
        "**Student name:**\n",
        "\n",
        "Student ID:"
      ]
    },
    {
      "attachments": {},
      "cell_type": "markdown",
      "metadata": {
        "id": "jxTV1VTuj9mC"
      },
      "source": [
        "# **Task 1: Week 0 Revision**\n"
      ]
    },
    {
      "attachments": {},
      "cell_type": "markdown",
      "metadata": {
        "id": "00BHWD3ryS-C"
      },
      "source": [
        "**Python is an interpreted language and it is interactive**"
      ]
    },
    {
      "cell_type": "code",
      "execution_count": null,
      "metadata": {
        "colab": {
          "base_uri": "https://localhost:8080/"
        },
        "id": "tNpNdLzf54FI",
        "outputId": "685d21e2-d61d-46f6-a734-12f95a253555"
      },
      "outputs": [],
      "source": [
        "#execute a command\n",
        "print('Hello world')"
      ]
    },
    {
      "cell_type": "code",
      "execution_count": null,
      "metadata": {
        "colab": {
          "base_uri": "https://localhost:8080/"
        },
        "id": "h390XYlQySll",
        "outputId": "a1726618-ab0a-46c1-8e52-80fad09d55e9"
      },
      "outputs": [],
      "source": [
        "#use operators on data values\n",
        "1+2+3"
      ]
    },
    {
      "attachments": {},
      "cell_type": "markdown",
      "metadata": {
        "id": "4VIG_bVYiC00"
      },
      "source": [
        "**Use variables to store and manipuulate data: strings, integers, and floats**\n",
        "\n",
        "**Use the built-in function print() with arguments/parameters**"
      ]
    },
    {
      "cell_type": "code",
      "execution_count": null,
      "metadata": {
        "colab": {
          "base_uri": "https://localhost:8080/"
        },
        "id": "NfKGuL6NiHgS",
        "outputId": "57b88e58-bca4-4198-c03f-e02aeef04b82"
      },
      "outputs": [],
      "source": [
        "#assignment\n",
        "x=2\n",
        "y=5\n",
        "\n",
        "#addition\n",
        "print('sum: ', x+y)\n",
        "\n",
        "#now can you print results of substraction, multiplication, power, division"
      ]
    },
    {
      "cell_type": "code",
      "execution_count": null,
      "metadata": {
        "colab": {
          "base_uri": "https://localhost:8080/"
        },
        "id": "13B_k6SuitbP",
        "outputId": "870dc6ae-9145-4c44-ed15-a2d29838c524"
      },
      "outputs": [],
      "source": [
        "%whos"
      ]
    },
    {
      "cell_type": "code",
      "execution_count": null,
      "metadata": {
        "colab": {
          "base_uri": "https://localhost:8080/"
        },
        "id": "NfWkqhecjsf7",
        "outputId": "0d6eeca1-228d-4b5b-d354-5b06a193df74"
      },
      "outputs": [],
      "source": [
        "#assignment\n",
        "message='Python is an powerful programming language'\n",
        "\n",
        "print('Please note that: ', message)\n",
        "\n",
        "#edit your message and print it again"
      ]
    },
    {
      "attachments": {},
      "cell_type": "markdown",
      "metadata": {
        "id": "terGuuD6pw2F"
      },
      "source": [
        "## **Let's keep learning**"
      ]
    },
    {
      "attachments": {},
      "cell_type": "markdown",
      "metadata": {
        "id": "hQzX8DhakQEt"
      },
      "source": [
        "**Boolean is another built-in data type in Python**"
      ]
    },
    {
      "cell_type": "code",
      "execution_count": null,
      "metadata": {
        "colab": {
          "base_uri": "https://localhost:8080/"
        },
        "id": "jz0BCrr2kTTk",
        "outputId": "031d96a5-5973-459a-cc62-d987d52c3bbe"
      },
      "outputs": [],
      "source": [
        "#evaluate a statement\n",
        "1>2"
      ]
    },
    {
      "cell_type": "code",
      "execution_count": null,
      "metadata": {
        "colab": {
          "base_uri": "https://localhost:8080/"
        },
        "id": "HmgW9wx-kWMM",
        "outputId": "20f8c450-f93b-4ef6-bee8-1ae5f0347db3"
      },
      "outputs": [],
      "source": [
        "#apply bollean operators: and, or, not\n",
        "x=1\n",
        "y=2\n",
        "my_name='Lemai Nguyen'\n",
        "\n",
        "print((x>y) or (y>x))\n",
        "print((x>y) and (y>x))\n",
        "print((x!=y) or (my_name == 'Lizzy Nguyen'))\n",
        "print((x==y))\n",
        "print(not(x==y))"
      ]
    },
    {
      "attachments": {},
      "cell_type": "markdown",
      "metadata": {
        "id": "p4DwLzmjoZf5"
      },
      "source": [
        "**Conditional statements**"
      ]
    },
    {
      "cell_type": "code",
      "execution_count": null,
      "metadata": {
        "colab": {
          "base_uri": "https://localhost:8080/"
        },
        "id": "YpSgpsFwoY_V",
        "outputId": "0ecf17e7-df9e-4024-dab7-d3e8e5f0d4f9"
      },
      "outputs": [],
      "source": [
        "Jan_sales_in_K= 435.56\n",
        "Feb_sales_in_K=300.75\n",
        "if (Feb_sales_in_K < Jan_sales_in_K):\n",
        "  print('Sales dropped by: $',Jan_sales_in_K - Feb_sales_in_K,'K' )\n",
        "else:\n",
        "  print('Sales increased by: $', Feb_sales_in_K - Jan_sales_in_K,'K' )"
      ]
    },
    {
      "attachments": {},
      "cell_type": "markdown",
      "metadata": {
        "id": "Ky3XhtYhlMD0"
      },
      "source": [
        "**List**\n",
        "\n",
        "Lists are a common Python data structure to hold an ordered sequence of elements. List elements can be of different types. Each element can be accessed by an index. Python indexes start with 0.\n",
        "https://docs.python.org/3/library/index.html"
      ]
    },
    {
      "cell_type": "code",
      "execution_count": null,
      "metadata": {
        "colab": {
          "base_uri": "https://localhost:8080/"
        },
        "id": "11ilv4lMlhPZ",
        "outputId": "ceaa8872-6374-494d-b4d0-39defbabe6a7"
      },
      "outputs": [],
      "source": [
        "fibonacci = [1, 2, 3, 5, 8]\n",
        "my_desk=['Python Machine Learning', 1, 2, 4, fibonacci, 'flowers']\n",
        "print('fibonacci: ', fibonacci)\n",
        "print('My desk is messy: ', my_desk)\n",
        "\n",
        "#now print the second, third and other numbers, note the indiex starts from 0\n",
        "\n",
        "#use variables to store index\n",
        "i=4\n",
        "print('The fourth number in fibonacci is:', fibonacci[i-1])"
      ]
    },
    {
      "attachments": {},
      "cell_type": "markdown",
      "metadata": {
        "id": "EkUcu4P7s5JT"
      },
      "source": [
        "**More built-in functions**\n",
        "https://docs.python.org/3/library/stdtypes.html#sequence-types-list-tuple-range"
      ]
    },
    {
      "cell_type": "code",
      "execution_count": null,
      "metadata": {
        "colab": {
          "base_uri": "https://localhost:8080/"
        },
        "id": "f4cDGEVlxrWT",
        "outputId": "81c14f96-cacb-48d2-d782-d77ed84a9e2f"
      },
      "outputs": [],
      "source": [
        "n=len(fibonacci)\n",
        "print('the number of elements: ', n)\n",
        "print(fibonacci[len(fibonacci)-1])\n",
        "fibonacci.append((fibonacci[n-1]+fibonacci[n-2]))\n",
        "print('Now the number of elements: ', len(fibonacci))\n",
        "print(fibonacci)"
      ]
    },
    {
      "cell_type": "code",
      "execution_count": null,
      "metadata": {
        "colab": {
          "base_uri": "https://localhost:8080/"
        },
        "id": "PmxXcVDSmITs",
        "outputId": "2bea2cef-e534-4243-d3c1-51c016c72dee"
      },
      "outputs": [],
      "source": [
        "check_number=13\n",
        "print(check_number in fibonacci)\n",
        "print(fibonacci.count(check_number))"
      ]
    },
    {
      "cell_type": "code",
      "execution_count": null,
      "metadata": {
        "colab": {
          "base_uri": "https://localhost:8080/"
        },
        "id": "dGWFPRxQCZmP",
        "outputId": "a94aceb3-b74a-4a2b-f5bb-81fa6ec17bd5"
      },
      "outputs": [],
      "source": [
        "#print my_desk\n",
        "print(my_desk)"
      ]
    },
    {
      "cell_type": "code",
      "execution_count": null,
      "metadata": {
        "id": "N2qjG5rjvYK1",
        "outputId": "1c46a05f-7fbc-4c1b-c062-a60dfbe2ab05"
      },
      "outputs": [],
      "source": [
        "#check if my_desk has a certain item and count how many time it appears there\n",
        "check_number=9\n",
        "print(check_number in fibonacci)\n",
        "print(fibonacci.count(check_number))"
      ]
    },
    {
      "cell_type": "code",
      "execution_count": null,
      "metadata": {
        "colab": {
          "base_uri": "https://localhost:8080/"
        },
        "id": "iwPCosDyviO1",
        "outputId": "d11e527a-203a-4ea4-de5c-f1684a96ade9"
      },
      "outputs": [],
      "source": [
        "check_item='flowers'\n",
        "print(check_item in my_desk)\n",
        "print(my_desk.count(check_item))"
      ]
    },
    {
      "cell_type": "code",
      "execution_count": null,
      "metadata": {
        "colab": {
          "base_uri": "https://localhost:8080/"
        },
        "id": "_GvTvuzFCIJD",
        "outputId": "b5df852e-615f-4a0d-fa1a-1ec314fab16c"
      },
      "outputs": [],
      "source": [
        "print(type(my_desk[4]))"
      ]
    },
    {
      "cell_type": "code",
      "execution_count": null,
      "metadata": {
        "colab": {
          "base_uri": "https://localhost:8080/"
        },
        "id": "bAd-ijrszKzQ",
        "outputId": "6757e4a5-3b33-4677-d05e-277b36fdc52d"
      },
      "outputs": [],
      "source": [
        "#use type and help functions\n",
        "type(fibonacci)"
      ]
    },
    {
      "attachments": {},
      "cell_type": "markdown",
      "metadata": {
        "id": "0_VOw3m_C9lq"
      },
      "source": [
        "**Array**\n",
        "\n",
        "Accessing elements of a large list is computationally expensive. **NumPy offers an extension to Python that adds support for large, multidimensional arrays and matrices. Arrays are more efficient.** All elements in an array must be of the same type."
      ]
    },
    {
      "cell_type": "code",
      "execution_count": null,
      "metadata": {
        "id": "7eSd0nljDi_c"
      },
      "outputs": [],
      "source": [
        "#Before using NumPy, you need to import the NumPy package\n",
        "import numpy as np #for working with arrays"
      ]
    },
    {
      "cell_type": "code",
      "execution_count": null,
      "metadata": {
        "colab": {
          "base_uri": "https://localhost:8080/"
        },
        "id": "0LEy2h8PERsC",
        "outputId": "8f1f3b74-d966-4395-f8df-04aff4b39895"
      },
      "outputs": [],
      "source": [
        "#One way to create a NumPy array is to create it from a Python list:\n",
        "my_array=np.array(fibonacci)\n",
        "print(my_array)\n",
        "print(type(my_array))"
      ]
    },
    {
      "cell_type": "code",
      "execution_count": null,
      "metadata": {
        "colab": {
          "base_uri": "https://localhost:8080/"
        },
        "id": "kZZj7Gb0FXFP",
        "outputId": "13159538-dda4-4041-8219-f8999acd0cd3"
      },
      "outputs": [],
      "source": [
        "#access array elements, examine the use of indices\n",
        "print(my_array[3])\n",
        "print(my_array[3:])\n",
        "print(my_array[:3])\n",
        "\n",
        "#now print elements from 5 to 8\n",
        "\n",
        "\n",
        "i=3\n",
        "#now print 5 elements from i\n"
      ]
    },
    {
      "cell_type": "code",
      "execution_count": null,
      "metadata": {
        "id": "NcJZems-HTnq"
      },
      "outputs": [],
      "source": [
        "#you can have 2 dimentional arrays, the first axis has a length of 2 and the second axis has a length of 3.\n",
        "new_array = np.array([[1,2,3,4,5], [6,7,8,9,10], [11,12,13,14,15]])"
      ]
    },
    {
      "cell_type": "code",
      "execution_count": null,
      "metadata": {
        "colab": {
          "base_uri": "https://localhost:8080/"
        },
        "id": "UI0TWVtaHl0h",
        "outputId": "23b781bd-3626-4d2c-8f23-8d7709856bde"
      },
      "outputs": [],
      "source": [
        "print(new_array)"
      ]
    },
    {
      "cell_type": "code",
      "execution_count": null,
      "metadata": {
        "colab": {
          "base_uri": "https://localhost:8080/"
        },
        "id": "ujGLU11HIfBB",
        "outputId": "71aa085e-3814-4fb1-fd74-ee6beee796a6"
      },
      "outputs": [],
      "source": [
        "#access elements of a 2 dimentional array\n",
        "#print the second row\n",
        "print(new_array[1,:])\n",
        "#print the first row, element 2\n",
        "print(new_array[0,1])\n",
        "\n",
        "#print the third column\n",
        "print(new_array[:,2])"
      ]
    },
    {
      "attachments": {},
      "cell_type": "markdown",
      "metadata": {
        "id": "7hQ2mcLh3jve"
      },
      "source": [
        "**Dataframe**\n",
        "\n",
        "Pandas extends Python by providing fast, flexible, and expressive data structures designed to make working with “relational” or “labeled” data both easy and intuitive.\n",
        "\n",
        "**Pandas' Dataframes are a 2-dimensional data structure that can store data of different types (strings, integers, floating numbers, and more) in columns. Index starts from 0.**\n",
        "\n",
        "*Pandas stands for Panel Data Analysis.*\n",
        "\n",
        "Read more https://learning.oreilly.com/library/view/python-machine-learning/9781119545637/c03.xhtml#head-2-13"
      ]
    },
    {
      "cell_type": "code",
      "execution_count": null,
      "metadata": {
        "colab": {
          "base_uri": "https://localhost:8080/"
        },
        "id": "m-xS5wB433-B",
        "outputId": "684544ce-cee6-421e-f8a3-0bc99017589f"
      },
      "outputs": [],
      "source": [
        "#First you need to load the Pandas library\n",
        "import pandas as pd\n",
        "\n",
        "'''The code below creates a DataFrame of 3 rows and 4 columns. Each column has a label: “A”, “B”, “C”, and “D”'''\n",
        "\n",
        "df = pd.DataFrame([[1,2,3,4],[5,6,7,8],[9,10,11,12]],\n",
        "\t\t  columns=list('ABCD'))\n",
        "print(df)\n",
        "print(df.shape)"
      ]
    },
    {
      "cell_type": "code",
      "execution_count": null,
      "metadata": {
        "colab": {
          "base_uri": "https://localhost:8080/"
        },
        "id": "RakKoepGM-bh",
        "outputId": "0b1dfa18-00cd-4dab-9143-1ce146961de4"
      },
      "outputs": [],
      "source": [
        "#access columns\n",
        "print(df[['C']])\n",
        "print(df[['A','C']]) #if we want to access more than one columns we need to have a list\n",
        "\n",
        "#access a row, note only the first index is counted\n",
        "print(df[2:3])"
      ]
    },
    {
      "cell_type": "code",
      "execution_count": null,
      "metadata": {
        "colab": {
          "base_uri": "https://localhost:8080/"
        },
        "id": "wJQErkVC0CQf",
        "outputId": "3aaf0bb7-40ac-4454-f4f0-9cc40585d422"
      },
      "outputs": [],
      "source": [
        "#now print B and C collumns\n",
        "features=['B','C']\n",
        "print(df[features])\n",
        "#now print the first and second rows\n",
        "print(df[1:3])\n",
        "#next line\n",
        "print(\"\\n\")\n",
        "#print the last column\n",
        "print(df['D'])\n",
        "print(df.iloc[:,[3]])"
      ]
    },
    {
      "attachments": {},
      "cell_type": "markdown",
      "metadata": {
        "id": "xRXnN_FszzTO"
      },
      "source": [
        "**OPTIONAL: A dictionary is a Python data structure that holds pairs of objects - keys and values.**"
      ]
    },
    {
      "cell_type": "code",
      "execution_count": null,
      "metadata": {
        "colab": {
          "base_uri": "https://localhost:8080/"
        },
        "id": "hYzQDbudzxqR",
        "outputId": "8aaad167-6335-47c5-fb5d-fc850f22ae47"
      },
      "outputs": [],
      "source": [
        "toUpper = {'a': 'A', 'b': 'B'}\n",
        "print(toUpper['a'])"
      ]
    },
    {
      "cell_type": "code",
      "execution_count": null,
      "metadata": {
        "id": "jWzGUg2g0eRh"
      },
      "outputs": [],
      "source": [
        "#print toUpper with key c\n",
        "#print toUpper"
      ]
    },
    {
      "cell_type": "code",
      "execution_count": null,
      "metadata": {
        "colab": {
          "base_uri": "https://localhost:8080/"
        },
        "id": "tiMqk8eQ097E",
        "outputId": "4779c79f-13aa-45f6-b53a-19b1924aff45"
      },
      "outputs": [],
      "source": [
        "for i in toUpper.keys():\n",
        "  print(i, ': ', toUpper[i])"
      ]
    },
    {
      "attachments": {},
      "cell_type": "markdown",
      "metadata": {
        "id": "B38Q50gZm1vQ"
      },
      "source": [
        "# **Task 2: Hands on the Titanic dataset**\n",
        "\n",
        "1.   Load the dataset\n",
        "2.   Explore the data\n",
        "\n",
        "Data source: https://www.kaggle.com/c/titanic"
      ]
    },
    {
      "attachments": {},
      "cell_type": "markdown",
      "metadata": {
        "id": "32lvKkgSTUt4"
      },
      "source": [
        "**Import libraries**"
      ]
    },
    {
      "cell_type": "code",
      "execution_count": null,
      "metadata": {
        "id": "B07Ny7yzTQEv"
      },
      "outputs": [],
      "source": [
        "import pandas as pd\n",
        "import matplotlib.pyplot as plt"
      ]
    },
    {
      "attachments": {},
      "cell_type": "markdown",
      "metadata": {
        "id": "gWJTQVOXRWhX"
      },
      "source": [
        "## **2.1 Loading the dataset**"
      ]
    },
    {
      "cell_type": "code",
      "execution_count": null,
      "metadata": {
        "colab": {
          "base_uri": "https://localhost:8080/",
          "height": 424
        },
        "id": "uYGvcxGZVBID",
        "outputId": "4c9d7135-9090-42f2-e009-5ceadb43c6b4"
      },
      "outputs": [],
      "source": [
        "# load dataset, use your own folder, or create Colab Notebooks/MIS710/\n",
        "\n",
        "records = pd.read_csv(\"https://raw.githubusercontent.com/Advanced-Business-Analytics-Lab/MIS710-T2_2023/main/Week%2001/titanic_train.csv\")\n",
        "\n",
        "records"
      ]
    },
    {
      "attachments": {},
      "cell_type": "markdown",
      "metadata": {
        "id": "H05b5OMoRisj"
      },
      "source": [
        "## **2.2 Data at a glance**"
      ]
    },
    {
      "attachments": {},
      "cell_type": "markdown",
      "metadata": {
        "id": "M0bFzHsj4OL9"
      },
      "source": [
        "**DataFrame**\n",
        "Dataframes are a 2-dimensional data structure that can store data of different types (strings, integers, floating numbers, and more) in columns. Index starts from 0."
      ]
    },
    {
      "cell_type": "code",
      "execution_count": null,
      "metadata": {
        "colab": {
          "base_uri": "https://localhost:8080/"
        },
        "id": "4pTUBJKZ4ySo",
        "outputId": "4b4038c2-a2e3-41a3-9a0c-9f5858375291"
      },
      "outputs": [],
      "source": [
        "print('Sample size:', records.shape[0])\n",
        "print('Number of columns:', records.shape[1])"
      ]
    },
    {
      "attachments": {},
      "cell_type": "markdown",
      "metadata": {
        "id": "jfb9Oi4jSF5v"
      },
      "source": [
        "**Data columns and data types**"
      ]
    },
    {
      "cell_type": "code",
      "execution_count": null,
      "metadata": {
        "colab": {
          "base_uri": "https://localhost:8080/"
        },
        "id": "J75MIJ22WU77",
        "outputId": "ba72df09-dd5e-42fe-ded4-2a7f8f407b9a"
      },
      "outputs": [],
      "source": [
        "records.info()"
      ]
    },
    {
      "cell_type": "code",
      "execution_count": null,
      "metadata": {
        "colab": {
          "base_uri": "https://localhost:8080/",
          "height": 206
        },
        "id": "wQ_4G0LQW5i8",
        "outputId": "2f77bdaa-d3e0-414b-9a3d-42bdeaa8be83"
      },
      "outputs": [],
      "source": [
        "records.head()"
      ]
    },
    {
      "cell_type": "code",
      "execution_count": null,
      "metadata": {
        "colab": {
          "base_uri": "https://localhost:8080/",
          "height": 363
        },
        "id": "VAXdWumfW_cR",
        "outputId": "42e4228c-5604-4003-e24c-f5af3b3ac97a"
      },
      "outputs": [],
      "source": [
        "records.tail(10)"
      ]
    },
    {
      "cell_type": "code",
      "execution_count": null,
      "metadata": {
        "colab": {
          "base_uri": "https://localhost:8080/",
          "height": 363
        },
        "id": "28fSuPtSXMoC",
        "outputId": "c843551e-e42e-41a9-ee95-59fd405593ac"
      },
      "outputs": [],
      "source": [
        "records.sample(10)"
      ]
    },
    {
      "attachments": {},
      "cell_type": "markdown",
      "metadata": {
        "id": "EilMM8LFSPoJ"
      },
      "source": [
        "**Select collumns**"
      ]
    },
    {
      "cell_type": "code",
      "execution_count": null,
      "metadata": {
        "colab": {
          "base_uri": "https://localhost:8080/"
        },
        "id": "jkvzSMuDPNVv",
        "outputId": "2aeb2e63-4a78-4998-f22a-7a4c835180c5"
      },
      "outputs": [],
      "source": [
        "print(records[['Survived','Sex']])"
      ]
    },
    {
      "cell_type": "code",
      "execution_count": null,
      "metadata": {
        "colab": {
          "base_uri": "https://localhost:8080/"
        },
        "id": "L2x55UU9Uppx",
        "outputId": "6e6e4d33-3612-4f17-a263-2d905f807304"
      },
      "outputs": [],
      "source": [
        "print(records.iloc[:,1:3])"
      ]
    },
    {
      "cell_type": "code",
      "execution_count": null,
      "metadata": {
        "colab": {
          "base_uri": "https://localhost:8080/"
        },
        "id": "dC7mncNJU4HU",
        "outputId": "25407f4f-6c01-45c6-808a-ccbd17c72f37"
      },
      "outputs": [],
      "source": [
        "print(records.iloc[:,[1,4]])"
      ]
    },
    {
      "attachments": {},
      "cell_type": "markdown",
      "metadata": {
        "id": "xvjqEncBSWfe"
      },
      "source": [
        "**Select rows**"
      ]
    },
    {
      "cell_type": "code",
      "execution_count": null,
      "metadata": {
        "colab": {
          "base_uri": "https://localhost:8080/"
        },
        "id": "Bdwqs6YyPcX_",
        "outputId": "f948e750-a0cb-42bf-f705-966349377525"
      },
      "outputs": [],
      "source": [
        "print(records.iloc[2,:])"
      ]
    },
    {
      "attachments": {},
      "cell_type": "markdown",
      "metadata": {
        "id": "yelgLT1WSbd-"
      },
      "source": [
        "**Explore descriptive stats**"
      ]
    },
    {
      "cell_type": "code",
      "execution_count": null,
      "metadata": {
        "colab": {
          "base_uri": "https://localhost:8080/",
          "height": 300
        },
        "id": "XdEGVnNDSh3X",
        "outputId": "3824a5ef-f364-43ee-e9a0-4097b77b9899"
      },
      "outputs": [],
      "source": [
        "records.describe()"
      ]
    },
    {
      "attachments": {},
      "cell_type": "markdown",
      "metadata": {
        "id": "uGAesz3OVMe_"
      },
      "source": [
        "**Examine missing data**"
      ]
    },
    {
      "cell_type": "code",
      "execution_count": null,
      "metadata": {
        "colab": {
          "base_uri": "https://localhost:8080/"
        },
        "id": "DAd0ouDLVI7p",
        "outputId": "93753a86-78a6-4588-e57d-6fcb4226f872"
      },
      "outputs": [],
      "source": [
        "records.isnull().sum().sort_values(ascending=False)"
      ]
    },
    {
      "attachments": {},
      "cell_type": "markdown",
      "metadata": {
        "id": "Ct9HIiXMkYez"
      },
      "source": [
        "# **Task 3: Hands on Melbourne Housing Market datasets**\n",
        "\n",
        "1.   Load the dataset\n",
        "2.   Explore the data\n",
        "\n",
        "Data source: https://www.kaggle.com/datasets/anthonypino/melbourne-housing-market"
      ]
    },
    {
      "attachments": {},
      "cell_type": "markdown",
      "metadata": {
        "id": "KlLWRXiCZyE7"
      },
      "source": [
        "**Import libraries**"
      ]
    },
    {
      "cell_type": "code",
      "execution_count": null,
      "metadata": {
        "colab": {
          "base_uri": "https://localhost:8080/"
        },
        "id": "m0qGNGcVGvIz",
        "outputId": "530d7efd-04d3-49ae-997c-67387ec3c55b"
      },
      "outputs": [],
      "source": [
        "!pip install squarify"
      ]
    },
    {
      "cell_type": "code",
      "execution_count": null,
      "metadata": {
        "colab": {
          "base_uri": "https://localhost:8080/",
          "height": 17
        },
        "id": "-O-NAexglOyC",
        "outputId": "b8562b9c-59df-433e-ab00-34bdce5bac9d"
      },
      "outputs": [],
      "source": [
        "import pandas as pd\n",
        "import matplotlib.pyplot as plt\n",
        "import squarify\n",
        "import plotly.graph_objs as go\n",
        "from plotly.offline import init_notebook_mode, iplot\n",
        "init_notebook_mode(connected=True)\n"
      ]
    },
    {
      "attachments": {},
      "cell_type": "markdown",
      "metadata": {
        "id": "V8Nfs9LOZ5vE"
      },
      "source": [
        "## **Loading datasets**"
      ]
    },
    {
      "cell_type": "code",
      "execution_count": null,
      "metadata": {
        "id": "_mrojZR_lar7"
      },
      "outputs": [],
      "source": [
        "url = 'https://raw.githubusercontent.com/thwc/MIS710-T12023/main/Week%201/MELBOURNE_HOUSE_PRICES_LESS.csv'\n",
        "url_full = 'https://raw.githubusercontent.com/thwc/MIS710-T12023/main/Week%201/Melbourne_housing_FULL.csv'"
      ]
    },
    {
      "cell_type": "code",
      "execution_count": null,
      "metadata": {
        "id": "e1IjQWSelSld"
      },
      "outputs": [],
      "source": [
        "sales = pd.read_csv(url_full)"
      ]
    },
    {
      "attachments": {},
      "cell_type": "markdown",
      "metadata": {
        "id": "rXvv7O_k1s_X"
      },
      "source": [
        "## **Data at a glance**"
      ]
    },
    {
      "cell_type": "code",
      "execution_count": null,
      "metadata": {
        "colab": {
          "base_uri": "https://localhost:8080/",
          "height": 404
        },
        "id": "K-qJX0DDpc34",
        "outputId": "4bda95ef-cfca-4860-8b28-6bafd0272d67"
      },
      "outputs": [],
      "source": [
        "sales.head()"
      ]
    },
    {
      "cell_type": "code",
      "execution_count": null,
      "metadata": {
        "colab": {
          "base_uri": "https://localhost:8080/"
        },
        "id": "HLdoIJbOp0VI",
        "outputId": "29acd5ea-aeda-45a6-e9ea-acf15a677c70"
      },
      "outputs": [],
      "source": [
        "sales.shape"
      ]
    },
    {
      "cell_type": "code",
      "execution_count": null,
      "metadata": {
        "colab": {
          "base_uri": "https://localhost:8080/"
        },
        "id": "A-du306xxI1Z",
        "outputId": "f1c3c910-7fc8-4f54-a5ec-0563ff6035a0"
      },
      "outputs": [],
      "source": [
        "sales.info()"
      ]
    },
    {
      "cell_type": "code",
      "execution_count": null,
      "metadata": {
        "colab": {
          "base_uri": "https://localhost:8080/",
          "height": 364
        },
        "id": "Wvzu6bGExL51",
        "outputId": "7138d38d-b3ff-4002-b000-91b384b07492"
      },
      "outputs": [],
      "source": [
        "sales.describe()"
      ]
    },
    {
      "cell_type": "code",
      "execution_count": null,
      "metadata": {
        "colab": {
          "base_uri": "https://localhost:8080/"
        },
        "id": "Cq8JAZOS7BA3",
        "outputId": "5e7ac330-5f94-42f9-cf54-1c9b7f9c5855"
      },
      "outputs": [],
      "source": [
        "sales.isnull().sum().sort_values(ascending=False)"
      ]
    },
    {
      "cell_type": "code",
      "execution_count": null,
      "metadata": {
        "colab": {
          "base_uri": "https://localhost:8080/"
        },
        "id": "zTFphOvB7Rj-",
        "outputId": "beba1206-f9d1-436e-944f-90a1a7ef2499"
      },
      "outputs": [],
      "source": [
        "no_missing_df = sales[sales['Price'].notnull()]\n",
        "no_missing_df.isnull().sum().sort_values(ascending=False)"
      ]
    },
    {
      "cell_type": "code",
      "execution_count": null,
      "metadata": {
        "colab": {
          "base_uri": "https://localhost:8080/"
        },
        "id": "XAjCqz7M7x_q",
        "outputId": "3e9a8cbb-7709-474d-f055-ccf8b5a161e9"
      },
      "outputs": [],
      "source": [
        "no_missing_df.shape"
      ]
    },
    {
      "attachments": {},
      "cell_type": "markdown",
      "metadata": {
        "id": "63MtLSQXxPao"
      },
      "source": [
        "## **Numerical analysis and visualisation**\n",
        "We'll analyse the `Price` column only"
      ]
    },
    {
      "cell_type": "code",
      "execution_count": null,
      "metadata": {
        "id": "syoGY9bs7_gd"
      },
      "outputs": [],
      "source": [
        "sales = no_missing_df.copy()"
      ]
    },
    {
      "cell_type": "code",
      "execution_count": null,
      "metadata": {
        "colab": {
          "base_uri": "https://localhost:8080/"
        },
        "id": "WXvmVrlV1-4o",
        "outputId": "9b14e4de-2711-4dbf-ac08-5cf3aff9bc7d"
      },
      "outputs": [],
      "source": [
        " sales.Price.describe().astype(int)"
      ]
    },
    {
      "cell_type": "code",
      "execution_count": null,
      "metadata": {
        "colab": {
          "base_uri": "https://localhost:8080/",
          "height": 357
        },
        "id": "L6qdwOHi20eX",
        "outputId": "a7597da0-7ecd-4787-c608-d892e4c679b5"
      },
      "outputs": [],
      "source": [
        "ax = sales.Price.plot(kind='box', vert=False, figsize=(16,4))\n",
        "ax.xaxis.get_major_formatter().set_scientific(False)"
      ]
    },
    {
      "attachments": {},
      "cell_type": "markdown",
      "metadata": {
        "id": "eFHw3xOLaKbE"
      },
      "source": [
        "*Write your interpretation of the data distribution in the graph above:*"
      ]
    },
    {
      "cell_type": "code",
      "execution_count": null,
      "metadata": {
        "colab": {
          "base_uri": "https://localhost:8080/",
          "height": 369
        },
        "id": "kkfhpTpd3jeC",
        "outputId": "4a6f9c3a-e386-44f0-d174-6b5aeb134220"
      },
      "outputs": [],
      "source": [
        "ax = sales.Price.plot(kind='density', figsize=(16,4))\n",
        "ax.xaxis.get_major_formatter().set_scientific(False)"
      ]
    },
    {
      "attachments": {},
      "cell_type": "markdown",
      "metadata": {
        "id": "LoyUGD2oaatR"
      },
      "source": [
        "*Write your interpretation of the data distribution in the graph above:*"
      ]
    },
    {
      "cell_type": "code",
      "execution_count": null,
      "metadata": {
        "colab": {
          "base_uri": "https://localhost:8080/",
          "height": 386
        },
        "id": "3Ii62gB34NCD",
        "outputId": "d5b39fa4-e8b3-43d9-9fcd-0908d7476ddf"
      },
      "outputs": [],
      "source": [
        "ax = sales.Price.plot(kind='density', figsize=(16,4))\n",
        "ax.xaxis.get_major_formatter().set_scientific(False)\n",
        "ax.axvline(sales.Price.mean(), color='red')\n",
        "ax.axvline(sales.Price.median(), color='green')"
      ]
    },
    {
      "attachments": {},
      "cell_type": "markdown",
      "metadata": {
        "id": "dgk0mnuhacvf"
      },
      "source": [
        "*Write your interpretation of the data distribution in the graph above:*"
      ]
    },
    {
      "attachments": {},
      "cell_type": "markdown",
      "metadata": {
        "id": "CEz6YfwW5YGT"
      },
      "source": [
        "## **Categorical data analysis and visualisation**"
      ]
    },
    {
      "cell_type": "code",
      "execution_count": null,
      "metadata": {
        "colab": {
          "base_uri": "https://localhost:8080/"
        },
        "id": "_V20l7rr51eJ",
        "outputId": "7ae71ba4-16ad-401d-fc8a-3e0d10ee4863"
      },
      "outputs": [],
      "source": [
        "sales['Regionname'].unique()"
      ]
    },
    {
      "cell_type": "code",
      "execution_count": null,
      "metadata": {
        "colab": {
          "base_uri": "https://localhost:8080/"
        },
        "id": "OzwP1r308PSA",
        "outputId": "014e4be1-6912-4dfa-dd2e-8b00e5310074"
      },
      "outputs": [],
      "source": [
        "sales['Regionname'].value_counts()"
      ]
    },
    {
      "cell_type": "code",
      "execution_count": null,
      "metadata": {
        "colab": {
          "base_uri": "https://localhost:8080/",
          "height": 516
        },
        "id": "CF99AcuJ8bxl",
        "outputId": "0a466f07-3273-43ae-cfc9-475b51b7c650"
      },
      "outputs": [],
      "source": [
        "sales['Regionname'].value_counts().plot(kind='pie', figsize=(6,6))"
      ]
    },
    {
      "attachments": {},
      "cell_type": "markdown",
      "metadata": {
        "id": "3gXGuC1CakDN"
      },
      "source": [
        "*Write your interpretation of the data distribution in the graph above:*"
      ]
    },
    {
      "cell_type": "code",
      "execution_count": null,
      "metadata": {
        "colab": {
          "base_uri": "https://localhost:8080/",
          "height": 715
        },
        "id": "QRMfI7Wb8hil",
        "outputId": "9380daa5-6ea1-40e0-851f-4d665216f861"
      },
      "outputs": [],
      "source": [
        "ax = sales['Regionname'].value_counts().plot(kind='bar', figsize=(6,6))\n",
        "ax.set_ylabel('Number of Sales')"
      ]
    },
    {
      "attachments": {},
      "cell_type": "markdown",
      "metadata": {
        "id": "Ng5MjWp_9rSI"
      },
      "source": [
        "## **Relationship between the columns**"
      ]
    },
    {
      "cell_type": "code",
      "execution_count": null,
      "metadata": {
        "colab": {
          "base_uri": "https://localhost:8080/",
          "height": 590
        },
        "id": "gZhE-4s7A-Xg",
        "outputId": "62c678f5-254e-442e-fd81-6c988d4ad1a8"
      },
      "outputs": [],
      "source": [
        "corr = sales.corr()\n",
        "\n",
        "corr"
      ]
    },
    {
      "cell_type": "code",
      "execution_count": null,
      "metadata": {
        "colab": {
          "base_uri": "https://localhost:8080/",
          "height": 769
        },
        "id": "ZKfoncf1BNnw",
        "outputId": "51fa42b9-530a-46ba-e9a7-22372bb4d87d"
      },
      "outputs": [],
      "source": [
        "fig = plt.figure(figsize=(8,8))\n",
        "plt.matshow(corr, cmap='RdBu', fignum=fig.number)\n",
        "plt.xticks(range(len(corr.columns)), corr.columns, rotation='vertical');\n",
        "plt.yticks(range(len(corr.columns)), corr.columns);"
      ]
    },
    {
      "attachments": {},
      "cell_type": "markdown",
      "metadata": {
        "id": "59JFlD0iarSx"
      },
      "source": [
        "*Write your interpretation of the heat map analysis here:*"
      ]
    },
    {
      "cell_type": "code",
      "execution_count": null,
      "metadata": {
        "colab": {
          "base_uri": "https://localhost:8080/",
          "height": 542
        },
        "id": "JkKHe8nvBR3Z",
        "outputId": "b886d033-3e66-4e2f-ac81-6c3bd75b622a"
      },
      "outputs": [],
      "source": [
        "ax = sales.plot(kind='scatter', x='Price', y='Rooms', figsize=(6,6))\n",
        "ax.xaxis.get_major_formatter().set_scientific(False)"
      ]
    },
    {
      "attachments": {},
      "cell_type": "markdown",
      "metadata": {
        "id": "PKPRf6nhaxyq"
      },
      "source": [
        "*Write your interpretation of the data distribution in the graph above:*"
      ]
    },
    {
      "cell_type": "code",
      "execution_count": null,
      "metadata": {
        "colab": {
          "base_uri": "https://localhost:8080/",
          "height": 558
        },
        "id": "ECzjxduaB2TT",
        "outputId": "46281dfc-3666-49df-e0a5-d5749282a5cd"
      },
      "outputs": [],
      "source": [
        "ax = sales[['Price', 'Regionname']].boxplot(by='Regionname', vert=False, figsize=(10,6))\n",
        "ax.xaxis.get_major_formatter().set_scientific(False)\n"
      ]
    },
    {
      "cell_type": "code",
      "execution_count": null,
      "metadata": {
        "colab": {
          "base_uri": "https://localhost:8080/",
          "height": 717
        },
        "id": "9gMYzHCfFnBB",
        "outputId": "3ce30a26-0572-4848-856d-2d73102c7023"
      },
      "outputs": [],
      "source": [
        "# Number of houses sold by region\n",
        "x = 0\n",
        "y = 0\n",
        "width = 100\n",
        "height = 100\n",
        "\n",
        "region_names = sales['Regionname'].value_counts().index\n",
        "values = sales['Regionname'].value_counts().tolist()\n",
        "\n",
        "normed = squarify.normalize_sizes(values, width, height)\n",
        "rects = squarify.squarify(normed, x, y, width, height)\n",
        "\n",
        "colors = ['rgb(200, 255, 144)','rgb(135, 206, 235)',\n",
        "          'rgb(235, 164, 135)','rgb(220, 208, 255)',\n",
        "          'rgb(253, 253, 150)','rgb(255, 127, 80)',\n",
        "         'rgb(218, 156, 133)', 'rgb(245, 92, 76)']\n",
        "\n",
        "shapes = []\n",
        "annotations = []\n",
        "counter = 0\n",
        "\n",
        "for r in rects:\n",
        "    shapes.append(\n",
        "        dict(\n",
        "            type = 'rect',\n",
        "            x0 = r['x'],\n",
        "            y0 = r['y'],\n",
        "            x1 = r['x'] + r['dx'],\n",
        "            y1 = r['y'] + r['dy'],\n",
        "            line = dict(width=2),\n",
        "            fillcolor = colors[counter]\n",
        "        )\n",
        "    )\n",
        "    annotations.append(\n",
        "        dict(\n",
        "            x = r['x']+(r['dx']/2),\n",
        "            y = r['y']+(r['dy']/2),\n",
        "            text = values[counter],\n",
        "            showarrow = False\n",
        "        )\n",
        "    )\n",
        "    counter = counter + 1\n",
        "    if counter >= len(colors):\n",
        "        counter = 0\n",
        "\n",
        "# For hover text\n",
        "trace0 = go.Scatter(\n",
        "    x = [ r['x']+(r['dx']/2) for r in rects],\n",
        "    y = [ r['y']+(r['dy']/2) for r in rects],\n",
        "    text = [ str(v) for v in region_names],\n",
        "    mode='text',\n",
        ")\n",
        "\n",
        "layout = dict(\n",
        "    title='Number of Houses Sold <br> <i>(Segmented by Region)</i>',\n",
        "    height=700,\n",
        "    width=700,\n",
        "    xaxis=dict(showgrid=False,zeroline=False),\n",
        "    yaxis=dict(showgrid=False,zeroline=False),\n",
        "    shapes=shapes,\n",
        "    annotations=annotations,\n",
        "    hovermode='closest'\n",
        ")\n",
        "\n",
        "# With hovertext\n",
        "figure = dict(data=[trace0], layout=layout)\n",
        "\n",
        "iplot(figure, filename='squarify-treemap')"
      ]
    },
    {
      "cell_type": "code",
      "execution_count": null,
      "metadata": {
        "id": "TayfGbnCPPLE"
      },
      "outputs": [],
      "source": [
        "CA_by_region = sales.groupby('Regionname')['CouncilArea'].unique()"
      ]
    },
    {
      "cell_type": "code",
      "execution_count": null,
      "metadata": {
        "colab": {
          "base_uri": "https://localhost:8080/"
        },
        "id": "CNB538cqQN0y",
        "outputId": "5d4fa463-6559-4821-8434-77e238ba7032"
      },
      "outputs": [],
      "source": [
        "print(CA_by_region.to_string())"
      ]
    },
    {
      "cell_type": "code",
      "execution_count": null,
      "metadata": {
        "colab": {
          "base_uri": "https://localhost:8080/"
        },
        "id": "rRLNWTxzQ65A",
        "outputId": "04a15db0-34ef-409f-b545-01b485a10569"
      },
      "outputs": [],
      "source": [
        "for idx, i in zip(CA_by_region.index, CA_by_region):\n",
        "    print(idx, i)"
      ]
    },
    {
      "cell_type": "code",
      "execution_count": null,
      "metadata": {
        "id": "x-R4CtqALomv"
      },
      "outputs": [],
      "source": [
        "CA_count = sales.CouncilArea.value_counts()\n",
        "top_10_CA = sales[sales['CouncilArea'].isin(CA_count.index[:10])]"
      ]
    },
    {
      "cell_type": "code",
      "execution_count": null,
      "metadata": {
        "colab": {
          "base_uri": "https://localhost:8080/",
          "height": 748
        },
        "id": "akX4Y3sIOJux",
        "outputId": "2fbc0f4a-9dac-4c3e-fb9c-22493d1e5818"
      },
      "outputs": [],
      "source": [
        "top_10_CA"
      ]
    },
    {
      "cell_type": "code",
      "execution_count": null,
      "metadata": {
        "colab": {
          "base_uri": "https://localhost:8080/",
          "height": 420
        },
        "id": "9ryTKmDRLp69",
        "outputId": "6b6c42ba-5ae2-4d13-c267-c74c7e6f5728"
      },
      "outputs": [],
      "source": [
        "ax = top_10_CA[['Price', 'CouncilArea']].boxplot(by='CouncilArea', vert=False, figsize=(10,6))\n",
        "ax.xaxis.get_major_formatter().set_scientific(False)"
      ]
    },
    {
      "attachments": {},
      "cell_type": "markdown",
      "metadata": {
        "id": "geBTbxijRuN5"
      },
      "source": [
        "## **Column wrangling**"
      ]
    },
    {
      "attachments": {},
      "cell_type": "markdown",
      "metadata": {
        "id": "CJgctuoLRz4c"
      },
      "source": [
        "Add and calculate a new `Price per room` column\n"
      ]
    },
    {
      "cell_type": "code",
      "execution_count": null,
      "metadata": {
        "colab": {
          "base_uri": "https://localhost:8080/",
          "height": 421
        },
        "id": "9Z-29NDER7wS",
        "outputId": "f25fe982-e1af-466f-8e1c-40b2b507572f"
      },
      "outputs": [],
      "source": [
        "sales['Price per m2'] = sales['Price'] / sales['Landsize']\n",
        "\n",
        "sales.head()"
      ]
    },
    {
      "attachments": {},
      "cell_type": "markdown",
      "metadata": {
        "id": "5RISu0M8UL9z"
      },
      "source": [
        "Add and calculate `Price in USD` column"
      ]
    },
    {
      "cell_type": "code",
      "execution_count": null,
      "metadata": {
        "id": "WvIz1zD3TRUO"
      },
      "outputs": [],
      "source": [
        "AUD2USD = 0.68"
      ]
    },
    {
      "cell_type": "code",
      "execution_count": null,
      "metadata": {
        "colab": {
          "base_uri": "https://localhost:8080/",
          "height": 421
        },
        "id": "TFbgGXHhT7Hn",
        "outputId": "fca78861-0b27-4ef6-a117-77a82361d4e6"
      },
      "outputs": [],
      "source": [
        "sales['Price_USD'] = sales['Price'] * AUD2USD\n",
        "\n",
        "sales.head()"
      ]
    },
    {
      "attachments": {},
      "cell_type": "markdown",
      "metadata": {
        "id": "CfA0V54TDG8G"
      },
      "source": [
        "## **Selection & Indexing**\n"
      ]
    },
    {
      "attachments": {},
      "cell_type": "markdown",
      "metadata": {
        "id": "wWX6dObgRZB5"
      },
      "source": [
        "Get all the sales made in `Boroondara City Council`"
      ]
    },
    {
      "cell_type": "code",
      "execution_count": null,
      "metadata": {
        "colab": {
          "base_uri": "https://localhost:8080/",
          "height": 765
        },
        "id": "z3oOFLM5UrnL",
        "outputId": "dee8b08c-6d02-4325-9f6a-bc8728eafe81"
      },
      "outputs": [],
      "source": [
        "sales.loc[sales['CouncilArea'] == 'Boroondara City Council']\n"
      ]
    },
    {
      "attachments": {},
      "cell_type": "markdown",
      "metadata": {
        "id": "KABwfcciUbIj"
      },
      "source": [
        "Get the mean Price of all the sales made in `Boroondara City Council`\n",
        "\n",
        "\n"
      ]
    },
    {
      "cell_type": "code",
      "execution_count": null,
      "metadata": {
        "colab": {
          "base_uri": "https://localhost:8080/"
        },
        "id": "_aUMIn3XU03x",
        "outputId": "cd2fc1f9-a9c1-4be5-e7b6-7636542c61aa"
      },
      "outputs": [],
      "source": [
        "sales.loc[sales['CouncilArea'] == 'Boroondara City Council', 'Price'].describe().astype(int)\n"
      ]
    },
    {
      "attachments": {},
      "cell_type": "markdown",
      "metadata": {
        "id": "Tq9MlEMdUc0k"
      },
      "source": [
        "How many records belong to all the sales made in `Boroondara City Council` or `Bayside City Council`\n"
      ]
    },
    {
      "cell_type": "code",
      "execution_count": null,
      "metadata": {
        "colab": {
          "base_uri": "https://localhost:8080/"
        },
        "id": "7qRXMZNfWQ1s",
        "outputId": "c8579e35-fa64-423d-bc1b-95fecb5fa2cc"
      },
      "outputs": [],
      "source": [
        "sales.loc[(sales['CouncilArea'] == 'Boroondara City Council') | (sales['CouncilArea'] == 'Bayside City Council'), 'Price'].describe().astype(int)\n"
      ]
    },
    {
      "attachments": {},
      "cell_type": "markdown",
      "metadata": {
        "id": "kCi_2yC_UfZd"
      },
      "source": [
        "Get the mean Sales price of all the sales made in `Boroondara City Council` having more than 5 rooms by Barry seller\n"
      ]
    },
    {
      "cell_type": "code",
      "execution_count": null,
      "metadata": {
        "colab": {
          "base_uri": "https://localhost:8080/"
        },
        "id": "y4p4b5f4UexN",
        "outputId": "266bed4a-9052-4a9e-dd3d-f10e37259e53"
      },
      "outputs": [],
      "source": [
        "sales.loc[(sales['CouncilArea'] == 'Boroondara City Council') & (sales['Rooms'] > 5) * (sales['SellerG'] == 'Barry'), 'Price'].describe().astype(int)\n"
      ]
    },
    {
      "cell_type": "code",
      "execution_count": null,
      "metadata": {
        "colab": {
          "base_uri": "https://localhost:8080/",
          "height": 713
        },
        "id": "M5h_vhI0W6Du",
        "outputId": "c2096bc6-8296-4a66-83b4-f19584124cdd"
      },
      "outputs": [],
      "source": [
        "sales"
      ]
    },
    {
      "attachments": {},
      "cell_type": "markdown",
      "metadata": {
        "id": "J-pcQu2pVzNK"
      },
      "source": [
        "# **Task 4. Homework**"
      ]
    },
    {
      "attachments": {},
      "cell_type": "markdown",
      "metadata": {
        "id": "hAt8AOXnbZyo"
      },
      "source": [
        "**Congratulations!**\n",
        "\n",
        "You have completed the MIS710 Lab 1 exercise set!"
      ]
    },
    {
      "attachments": {},
      "cell_type": "markdown",
      "metadata": {
        "id": "OhJjcNMd7th6"
      },
      "source": [
        "**Homework**\n",
        "\n",
        "1.   Revise the above exerices and challenge yourself with addtional tasks, for example apply what you have learned in Task 3 on the dataset in Task 2\n",
        "2.   Download another dataset and explore\n",
        "https://datacarpentry.org/python-ecology-lesson/02-starting-with-data/index.html\n",
        "\n",
        "\n"
      ]
    }
  ],
  "metadata": {
    "colab": {
      "provenance": [],
      "toc_visible": true
    },
    "kernelspec": {
      "display_name": "Python 3 (ipykernel)",
      "language": "python",
      "name": "python3"
    },
    "language_info": {
      "codemirror_mode": {
        "name": "ipython",
        "version": 3
      },
      "file_extension": ".py",
      "mimetype": "text/x-python",
      "name": "python",
      "nbconvert_exporter": "python",
      "pygments_lexer": "ipython3",
      "version": "3.9.13"
    }
  },
  "nbformat": 4,
  "nbformat_minor": 0
}
