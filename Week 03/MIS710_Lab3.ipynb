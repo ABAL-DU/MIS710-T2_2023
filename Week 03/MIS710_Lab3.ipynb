{
  "cells": [
    {
      "cell_type": "markdown",
      "metadata": {
        "id": "view-in-github"
      },
      "source": [
        "<a href=\"https://colab.research.google.com/github/thuc-github/MIS710-T12023/blob/main/Week%203/MIS710_Lab3-Solution.ipynb\" target=\"_parent\"><img src=\"https://colab.research.google.com/assets/colab-badge.svg\" alt=\"Open In Colab\"/></a>"
      ]
    },
    {
      "cell_type": "markdown",
      "metadata": {
        "id": "MNkJtLWoPpW7"
      },
      "source": [
        "# **MIS710 Lab 3 Week 3**\n",
        "Authors: Associate Professor Lemai Nguyen and Thuc Nguyen\n",
        "\n",
        "Objective: to learn and practise linear regression models with scikit-learn\n"
      ]
    },
    {
      "cell_type": "markdown",
      "metadata": {
        "id": "XpKsWxRj5byD"
      },
      "source": [
        "**To do before the class:**\n",
        "1. complete Labs 0, 1 and 2\n",
        "2. learn Lecture 3: Supervised Machine Learning: Linear Regression\n",
        "3. download the housing.csv dataset and store it in your Google drive, Colab folder, MIS710 folder. This is for Task 1."
      ]
    },
    {
      "cell_type": "markdown",
      "metadata": {
        "id": "cFlk7601zt-l"
      },
      "source": [
        "**Student name:**\n",
        "\n",
        "Student ID:"
      ]
    },
    {
      "cell_type": "markdown",
      "metadata": {
        "id": "yjqh_F0BdW3C"
      },
      "source": [
        "# **Task 1: House Price Prediction**\n",
        "\n",
        "Dataset: HousingPrice\n",
        "\n",
        "Source: https://www.kaggle.com/datasets/yasserh/housing-prices-dataset\n",
        "\n",
        "The dataset was modified to allow you deal with missing data.\n",
        "**Download the modified data at the unit site.**"
      ]
    },
    {
      "cell_type": "markdown",
      "metadata": {
        "id": "jxTV1VTuj9mC"
      },
      "source": [
        "## **1.1 Importing Libraries**\n"
      ]
    },
    {
      "cell_type": "code",
      "execution_count": null,
      "metadata": {
        "id": "lVf5buwkml_I"
      },
      "outputs": [],
      "source": [
        "#load libraries\n",
        "import pandas as pd #for data manipulation and analysis\n",
        "import numpy as np #for working with arrays\n",
        "\n",
        "#import data visualisation libraries\n",
        "import matplotlib.pyplot as plt\n",
        "import seaborn as sns\n",
        "\n"
      ]
    },
    {
      "cell_type": "markdown",
      "metadata": {
        "id": "eSIIzLgfNLtN"
      },
      "source": [
        "## **1.2 Mount your Google drive**"
      ]
    },
    {
      "cell_type": "code",
      "execution_count": null,
      "metadata": {
        "colab": {
          "base_uri": "https://localhost:8080/"
        },
        "id": "F1_8DccH8qjZ",
        "outputId": "75453df5-5a3e-452c-8277-82426e038326"
      },
      "outputs": [],
      "source": [
        "from google.colab import drive\n",
        "drive.mount('/content/drive')"
      ]
    },
    {
      "cell_type": "markdown",
      "metadata": {
        "id": "B38Q50gZm1vQ"
      },
      "source": [
        "## **1.3 Load data**\n",
        "\n",
        "\n",
        "1.   Load the dataset\n",
        "2.   Inspect the data\n",
        "\n"
      ]
    },
    {
      "cell_type": "code",
      "execution_count": null,
      "metadata": {
        "id": "uYGvcxGZVBID"
      },
      "outputs": [],
      "source": [
        "# load dataset\n",
        "records = pd.read_csv(\"Housing.csv\")\n",
        "\n",
        "#explore the dataset\n",
        "print(records)\n",
        "\n",
        "print('Sample size:', records.shape[0])\n",
        "print('Number of columns:', records.shape[1])"
      ]
    },
    {
      "cell_type": "code",
      "execution_count": null,
      "metadata": {
        "id": "J75MIJ22WU77"
      },
      "outputs": [],
      "source": [
        "print(records.info())\n",
        "print(records.shape)"
      ]
    },
    {
      "cell_type": "code",
      "execution_count": null,
      "metadata": {
        "id": "7K1sy-LES5i5"
      },
      "outputs": [],
      "source": [
        "#area is wrongly documented as string, convert it to numeric\n",
        "records['area'] = pd.to_numeric(records['area'], errors='coerce')"
      ]
    },
    {
      "cell_type": "markdown",
      "metadata": {
        "id": "a5nysLfRr-Qn"
      },
      "source": [
        "## **1.4 Inspect missing data**\n",
        "\n",
        "The data preprocessing is cyclic with analysing and visualising data, handling missing data, and feature engineering. For the learning purpose, we show you some simple techniques, you should move between the activities yourself."
      ]
    },
    {
      "cell_type": "code",
      "execution_count": null,
      "metadata": {
        "id": "-FK2N3CLuW41"
      },
      "outputs": [],
      "source": [
        "#learn to use for loop, and accessing elements of a dataframe using iloc\n",
        "#Count missing data\n",
        "for i in records.iloc[:,0:]:\n",
        "  miss=records[i].isna().sum()\n",
        "  print(i,'missing: ', miss)"
      ]
    },
    {
      "cell_type": "code",
      "execution_count": null,
      "metadata": {
        "id": "PI1i0nBAyr7B"
      },
      "outputs": [],
      "source": [
        "#another way to find missing data is using the function isnull()\n",
        "#read about isnull() here https://pandas.pydata.org/docs/reference/api/pandas.isnull.html\n",
        "#read further at https://www.sharpsightlabs.com/blog/pandas-isnull/\n",
        "print(records.isnull().sum().sort_values(ascending=0))"
      ]
    },
    {
      "cell_type": "markdown",
      "metadata": {
        "id": "6NuVt14sdE30"
      },
      "source": [
        "## **1.5 Variable analysis**\n",
        "\n",
        "Stats and visualtion\n",
        "1.  Univariate analysis\n",
        "2.  Bivariate analysis\n",
        "3.  Multivariate analysis\n",
        "\n",
        "\n"
      ]
    },
    {
      "cell_type": "markdown",
      "metadata": {
        "id": "sUv7Rse2r1PL"
      },
      "source": [
        "### **1.5.1 Univariate analysis**\n",
        "Explore and visualise each variable at a time\n"
      ]
    },
    {
      "cell_type": "code",
      "execution_count": null,
      "metadata": {
        "id": "QfX3RkXzbdi9"
      },
      "outputs": [],
      "source": [
        "#overview of numeric data\n",
        "records.describe()\n"
      ]
    },
    {
      "cell_type": "code",
      "execution_count": null,
      "metadata": {
        "id": "Uq2kPmNibTyv"
      },
      "outputs": [],
      "source": [
        "#set the formatting for floating numbers\n",
        "pd.set_option('display.float_format', lambda x: '%.3f' % x)\n",
        "\n",
        "data_types =['object', 'float', 'int']\n",
        "records.describe(include=data_types)"
      ]
    },
    {
      "cell_type": "markdown",
      "metadata": {
        "id": "rzDxFh11nybi"
      },
      "source": [
        "**Use stats results to decide on and handle missing data**"
      ]
    },
    {
      "cell_type": "code",
      "execution_count": null,
      "metadata": {
        "id": "rTxkh6jBlM5C"
      },
      "outputs": [],
      "source": [
        "#describe categorical variables\n",
        "records['area'].describe()"
      ]
    },
    {
      "cell_type": "code",
      "execution_count": null,
      "metadata": {
        "id": "ZPPKZomxgvzl"
      },
      "outputs": [],
      "source": [
        "sns.histplot(data=records, x='area')"
      ]
    },
    {
      "cell_type": "code",
      "execution_count": null,
      "metadata": {
        "id": "W1-fslGOg5MX"
      },
      "outputs": [],
      "source": [
        "sns.boxplot(data=records, x='area', showmeans=True)"
      ]
    },
    {
      "cell_type": "markdown",
      "metadata": {
        "id": "_vVnuhpghJC4"
      },
      "source": [
        "Area is skewed so replace missing data with median. Let's do it later."
      ]
    },
    {
      "cell_type": "markdown",
      "metadata": {
        "id": "hv66WewbWuRJ"
      },
      "source": [
        "Write your own code to analyse price and generate histogram and boxplot for price"
      ]
    },
    {
      "cell_type": "code",
      "execution_count": null,
      "metadata": {
        "id": "LZiNoGrAW70Q"
      },
      "outputs": [],
      "source": [
        "#Write your code below to explore the variable price\n"
      ]
    },
    {
      "cell_type": "code",
      "execution_count": null,
      "metadata": {
        "id": "KJkrrgFR0UMT"
      },
      "outputs": [],
      "source": [
        "#describe categorical variables\n",
        "sns.countplot(data=records, x='furnishingstatus')"
      ]
    },
    {
      "cell_type": "markdown",
      "metadata": {
        "id": "kRdE9Zo1hln3"
      },
      "source": [
        "Mode is semi-furnished; can you see the space ' '? is it valid?"
      ]
    },
    {
      "cell_type": "code",
      "execution_count": null,
      "metadata": {
        "id": "ZqERGxN8Xaki"
      },
      "outputs": [],
      "source": [
        "#you can also use the built=in function mode; it returns a series, so get the first index, there can be more than one mode\n",
        "\n",
        "print(records['furnishingstatus'].mode()[0])\n"
      ]
    },
    {
      "cell_type": "code",
      "execution_count": null,
      "metadata": {
        "id": "9N1d43DQhuqh"
      },
      "outputs": [],
      "source": [
        "#write your code to visualise other categorical variables, e.g. mainroad\n"
      ]
    },
    {
      "cell_type": "code",
      "execution_count": null,
      "metadata": {
        "id": "JrI8LwQvkrv8"
      },
      "outputs": [],
      "source": [
        "#write code to display mode of mainroad\n"
      ]
    },
    {
      "cell_type": "markdown",
      "metadata": {
        "id": "zuLcNFaRf_da"
      },
      "source": [
        "**Visualise numerical variables using a for loop**"
      ]
    },
    {
      "cell_type": "code",
      "execution_count": null,
      "metadata": {
        "id": "cangeJqbb-0H"
      },
      "outputs": [],
      "source": [
        "#using seaborn https://seaborn.pydata.org/generated/seaborn.histplot.html\n",
        "# Get the numerical variables from the dataset\n",
        "numerical_variables = records.select_dtypes(include=['int64', 'float64']).columns.tolist()\n",
        "\n",
        "# Print the list of numerical variables\n",
        "print(\"Numerical Variables:\", numerical_variables)\n",
        "\n",
        "# Display histograms using seaborn\n",
        "for variable in numerical_variables:\n",
        "    sns.histplot(data=records, x=variable)\n",
        "    plt.title(f\"Histogram of {variable}\")\n",
        "    plt.show()\n",
        "\n"
      ]
    },
    {
      "cell_type": "code",
      "execution_count": null,
      "metadata": {
        "id": "VrrauM8heLZ9"
      },
      "outputs": [],
      "source": [
        "# Create boxplots using seaborn\n",
        "sns.boxplot(data=records, x='area', showmeans=True)\n",
        "plt.title(f\"Boxplot of area\")\n",
        "plt.show()\n"
      ]
    },
    {
      "cell_type": "code",
      "execution_count": null,
      "metadata": {
        "colab": {
          "base_uri": "https://localhost:8080/",
          "height": 472
        },
        "id": "ecfOIXuSeBE-",
        "outputId": "374bcd6f-504f-4a66-b0b7-2bc621dccc04"
      },
      "outputs": [],
      "source": [
        "#It's your turn: display the boxplot of price\n",
        "\n"
      ]
    },
    {
      "cell_type": "markdown",
      "metadata": {
        "id": "sWkjpMIugDkb"
      },
      "source": [
        "**Explore each categorical variable**"
      ]
    },
    {
      "cell_type": "code",
      "execution_count": null,
      "metadata": {
        "id": "fMEqUtokWARJ"
      },
      "outputs": [],
      "source": [
        "#explore each categorial variable\n",
        "print(records['furnishingstatus'].value_counts())\n"
      ]
    },
    {
      "cell_type": "code",
      "execution_count": null,
      "metadata": {
        "id": "gyo2GroIb3XE"
      },
      "outputs": [],
      "source": [
        "#find mode\n",
        "print('Furnishing Status mode: ', records['furnishingstatus'].mode())"
      ]
    },
    {
      "cell_type": "markdown",
      "metadata": {
        "id": "GV9tbbwlQ727"
      },
      "source": [
        "Do it yourself for other categorical variables"
      ]
    },
    {
      "cell_type": "markdown",
      "metadata": {
        "id": "-i1gyOcIdjrM"
      },
      "source": [
        "**Visualise each categorical variable**"
      ]
    },
    {
      "cell_type": "code",
      "execution_count": null,
      "metadata": {
        "colab": {
          "base_uri": "https://localhost:8080/"
        },
        "id": "PZtmsIoEGbMj",
        "outputId": "1a440d87-736f-43b2-e6cd-347be8be2e01"
      },
      "outputs": [],
      "source": [
        "#explore each categorial variable\n",
        "print(records['bathrooms'].value_counts())"
      ]
    },
    {
      "cell_type": "code",
      "execution_count": null,
      "metadata": {
        "id": "WWWSiKPqjxme"
      },
      "outputs": [],
      "source": [
        "#Using seaborn\n",
        "sns.countplot(x=records['bathrooms'])"
      ]
    },
    {
      "cell_type": "code",
      "execution_count": null,
      "metadata": {
        "id": "iuQE6X_cYJ4w"
      },
      "outputs": [],
      "source": [
        "#write your code to visualise other categorical variables, one at a time\n"
      ]
    },
    {
      "cell_type": "markdown",
      "metadata": {
        "id": "S59qd17alBS5"
      },
      "source": [
        "**Visualise multiple categorical variables**"
      ]
    },
    {
      "cell_type": "code",
      "execution_count": null,
      "metadata": {
        "id": "owNEshpvAb1G"
      },
      "outputs": [],
      "source": [
        "cat_variables = ['bedrooms', 'bathrooms','stories', 'parking','mainroad','guestroom','basement', 'hotwaterheating', 'airconditioning', 'prefarea', 'furnishingstatus']\n",
        "for i in cat_variables:\n",
        "   plt.figure()\n",
        "   sns.countplot(x=records[i])\n"
      ]
    },
    {
      "cell_type": "markdown",
      "metadata": {
        "id": "-4sTeEF1Pa4D"
      },
      "source": [
        "Note spaces are included in some catagorical variables. They should be treated as missing data."
      ]
    },
    {
      "cell_type": "markdown",
      "metadata": {
        "id": "0-1LhyVSQh71"
      },
      "source": [
        "### **1.5.3 Treat missing data**"
      ]
    },
    {
      "cell_type": "code",
      "execution_count": null,
      "metadata": {
        "id": "M2ihKyOQPoAi"
      },
      "outputs": [],
      "source": [
        "# Replace empty strings (\" \") with NaN\n",
        "records.replace(\" \", pd.NA, inplace=True)"
      ]
    },
    {
      "cell_type": "code",
      "execution_count": null,
      "metadata": {
        "colab": {
          "base_uri": "https://localhost:8080/"
        },
        "id": "Cd6JWMUvPtqv",
        "outputId": "09ac3d16-9864-42d7-8e43-c5025998cfe8"
      },
      "outputs": [],
      "source": [
        "#Write your code to review missing data, note the changes; now there are missing data, why?\n"
      ]
    },
    {
      "cell_type": "code",
      "execution_count": null,
      "metadata": {
        "id": "u2IdfMM7Q0fg"
      },
      "outputs": [],
      "source": [
        "#Fill in missing numerical data with mean and categorical data with mode\n",
        "records['area'].fillna(records['area'].median(),inplace=True)\n",
        "records['furnishingstatus'].fillna(records['furnishingstatus'].mode()[0], inplace=True) #note, there can be more than one mode\n",
        "\n",
        "#do it yourself for other missing data\n",
        "\n",
        "\n",
        "\n"
      ]
    },
    {
      "cell_type": "code",
      "execution_count": null,
      "metadata": {
        "colab": {
          "base_uri": "https://localhost:8080/"
        },
        "id": "PU1n3U9vRYPp",
        "outputId": "2048922b-dc6a-4753-9b2d-e82e87f15ed5"
      },
      "outputs": [],
      "source": [
        "print(records.isnull().sum().sort_values(ascending=0))"
      ]
    },
    {
      "cell_type": "markdown",
      "metadata": {
        "id": "3qFNG7wdoCRo"
      },
      "source": [
        "### **1.5.2 Multivariate visualisation**"
      ]
    },
    {
      "cell_type": "markdown",
      "metadata": {
        "id": "wVhE8RE3p6E9"
      },
      "source": [
        "**Display a countplot for one categorical variable grouped by a second categorical variable**\n",
        "https://seaborn.pydata.org/generated/seaborn.countplot.html"
      ]
    },
    {
      "cell_type": "code",
      "execution_count": null,
      "metadata": {
        "colab": {
          "base_uri": "https://localhost:8080/",
          "height": 466
        },
        "id": "ngWnxNtPoBvQ",
        "outputId": "7e5c68da-3730-4081-abaf-0e692a25bb4c"
      },
      "outputs": [],
      "source": [
        "sns.countplot(data=records, x='prefarea', hue='mainroad')"
      ]
    },
    {
      "cell_type": "code",
      "execution_count": null,
      "metadata": {
        "colab": {
          "base_uri": "https://localhost:8080/",
          "height": 466
        },
        "id": "gQ7V5rm2qkNn",
        "outputId": "b8c2eb06-c3a0-4cbe-86a2-984e9ea25d8a"
      },
      "outputs": [],
      "source": [
        "#Do it yourself for other categorical variables\n",
        "\n"
      ]
    },
    {
      "cell_type": "markdown",
      "metadata": {
        "id": "gImjNDaxqsII"
      },
      "source": [
        "**Compare distributions of numerical variables using boxplots**\n",
        "https://seaborn.pydata.org/generated/seaborn.boxplot.html"
      ]
    },
    {
      "cell_type": "code",
      "execution_count": null,
      "metadata": {
        "colab": {
          "base_uri": "https://localhost:8080/",
          "height": 466
        },
        "id": "FPQlu_iNq5x1",
        "outputId": "a9226629-47e8-4ada-897a-3fdf06bc2520"
      },
      "outputs": [],
      "source": [
        "sns.boxplot(data=records, x='price', y='mainroad')"
      ]
    },
    {
      "cell_type": "markdown",
      "metadata": {
        "id": "xhmFPwrpaqj9"
      },
      "source": [
        "**Encoding categorical data**"
      ]
    },
    {
      "cell_type": "code",
      "execution_count": null,
      "metadata": {
        "id": "rMCaDrkPM1Kf"
      },
      "outputs": [],
      "source": [
        "#convert categorical variables to numeric\n",
        "# Define the custom mapping\n",
        "furnishing_mapping = {\n",
        "    'furnished': 2,\n",
        "    'semi-furnished': 1,\n",
        "    'unfurnished': 0\n",
        "}\n",
        "# Convert the categories to numerical values using replace()\n",
        "records['furnishingstatus_N'] = records['furnishingstatus'].replace(furnishing_mapping)"
      ]
    },
    {
      "cell_type": "code",
      "execution_count": null,
      "metadata": {},
      "outputs": [],
      "source": [
        "records"
      ]
    },
    {
      "cell_type": "code",
      "execution_count": null,
      "metadata": {
        "id": "5HOEAZLSOiT-"
      },
      "outputs": [],
      "source": [
        "other_cat_variables = ['mainroad', 'guestroom', 'basement', 'hotwaterheating', 'airconditioning', 'prefarea']\n",
        "\n",
        "# Convert categorical variables into numeric using dummy encoding\n",
        "records = pd.get_dummies(records, columns=other_cat_variables, drop_first=True)"
      ]
    },
    {
      "cell_type": "code",
      "execution_count": null,
      "metadata": {
        "id": "Jo5ImoA4Ysbe"
      },
      "outputs": [],
      "source": [
        "#Write code to examine the dataset info()\n",
        "records"
      ]
    },
    {
      "cell_type": "code",
      "execution_count": null,
      "metadata": {
        "id": "bmjsxihkuAiZ"
      },
      "outputs": [],
      "source": [
        "#Do it yourself for other variables, hint: using x=  y= and hue=\n"
      ]
    },
    {
      "cell_type": "markdown",
      "metadata": {
        "id": "ctAlgYHWsvDt"
      },
      "source": [
        "**Ploting diagram to see relationships between two numerical variables**\n",
        "https://seaborn.pydata.org/generated/seaborn.scatterplot.html"
      ]
    },
    {
      "cell_type": "code",
      "execution_count": null,
      "metadata": {
        "colab": {
          "base_uri": "https://localhost:8080/",
          "height": 482
        },
        "id": "ugO4zhQjs6-N",
        "outputId": "8df5ab41-7053-436b-a966-7e94d75b5f9f"
      },
      "outputs": [],
      "source": [
        "sns.scatterplot(data=records, x='area', y='price')"
      ]
    },
    {
      "cell_type": "code",
      "execution_count": null,
      "metadata": {
        "colab": {
          "base_uri": "https://localhost:8080/",
          "height": 496
        },
        "id": "jbTAr7iU1lu1",
        "outputId": "49e1c7d9-b322-4471-ad73-4a62f78e1e0f"
      },
      "outputs": [],
      "source": [
        "#generate heatmaps to explore relationships\n",
        "sns.heatmap(records[numerical_variables].corr(), square=True, cmap='Blues', annot=True)\n",
        "plt.show()"
      ]
    },
    {
      "cell_type": "code",
      "execution_count": null,
      "metadata": {
        "colab": {
          "base_uri": "https://localhost:8080/",
          "height": 1000
        },
        "id": "UmdChe8cr7ay",
        "outputId": "343601ef-910e-4322-bc85-46274b79ba63"
      },
      "outputs": [],
      "source": [
        "#generate dendrograms to show hierarchical clustering\n",
        "sns.clustermap(records[numerical_variables].corr(), square=True, cmap='Blues', annot=True, row_cluster=False)\n",
        "plt.show()"
      ]
    },
    {
      "cell_type": "markdown",
      "metadata": {
        "id": "mGzU2RYjHn91"
      },
      "source": [
        "## **1.6 Optional exercise: Practise accessing columns and rows**"
      ]
    },
    {
      "cell_type": "code",
      "execution_count": null,
      "metadata": {
        "id": "CEW7Dam4q5h2"
      },
      "outputs": [],
      "source": [
        "#Let't move price to the first column\n",
        "first_column=records.pop('price')\n",
        "records.insert(0,'price',first_column)"
      ]
    },
    {
      "cell_type": "code",
      "execution_count": null,
      "metadata": {
        "colab": {
          "base_uri": "https://localhost:8080/",
          "height": 488
        },
        "id": "PRTy59xwHgJH",
        "outputId": "55947714-b456-4729-dc36-68f3c6b4f53b"
      },
      "outputs": [],
      "source": [
        "records"
      ]
    },
    {
      "cell_type": "code",
      "execution_count": null,
      "metadata": {
        "colab": {
          "base_uri": "https://localhost:8080/",
          "height": 270
        },
        "id": "RAXcBLe_rQ45",
        "outputId": "2fe16296-234a-4de0-8171-ce245c8239c9"
      },
      "outputs": [],
      "source": [
        "records.iloc[9:14]"
      ]
    },
    {
      "cell_type": "markdown",
      "metadata": {
        "id": "pr7KG-TaudQ9"
      },
      "source": [
        "## **1.7 Practise: Encoding data (Optional)**"
      ]
    },
    {
      "cell_type": "code",
      "execution_count": null,
      "metadata": {
        "id": "oJz7BvR4yefn"
      },
      "outputs": [],
      "source": [
        "#Last week, we learned to convert categorical variables to numerical using LabelEncoder\n",
        "from sklearn.preprocessing import LabelEncoder\n",
        "\n",
        "encoder = LabelEncoder()\n",
        "records['mainroad_N'] = encoder.fit_transform(records['mainroad'])\n",
        "records['basement_N'] = encoder.fit_transform(records['basement'])\n"
      ]
    },
    {
      "cell_type": "code",
      "execution_count": null,
      "metadata": {
        "colab": {
          "base_uri": "https://localhost:8080/",
          "height": 427
        },
        "id": "PP9w1Qkcf2Z2",
        "outputId": "9d44205b-d936-4c7d-d3fd-ef7e103334af"
      },
      "outputs": [],
      "source": [
        "#there are other ways of doing this, for example\n",
        "records['hotwaterheating_N'] = records['hotwaterheating'].apply(lambda x: 1 if x == 'yes' else 0)\n",
        "\n",
        "records.sample(10)"
      ]
    },
    {
      "cell_type": "code",
      "execution_count": null,
      "metadata": {
        "id": "xizqm2pi3MVB"
      },
      "outputs": [],
      "source": [
        "#Another way is getting all catagorical columns\n",
        "cat_variables = records.select_dtypes(include=['object']).columns\n",
        "#Convert categorical columns to numeric\n",
        "records[cat_variables] = records[cat_variables].apply(encoder.fit_transform)\n",
        "\n",
        "# Display the updated dataset\n",
        "print(records)"
      ]
    },
    {
      "cell_type": "code",
      "execution_count": null,
      "metadata": {
        "colab": {
          "base_uri": "https://localhost:8080/",
          "height": 270
        },
        "id": "jQQdYSUSmxv0",
        "outputId": "9ca833b8-28e8-4656-d1ba-c536fe5c084b"
      },
      "outputs": [],
      "source": [
        "#OPTIONAL\n",
        "#another day, defining your OWN function\n",
        "#convert categorical data to numerical\n",
        "def coding_furnishingstatus(x):\n",
        "        if x=='furnished': return 3\n",
        "        if x=='semi-furnished': return 2\n",
        "        if x=='unfurnished': return 1\n",
        "\n",
        "records['furnishingstatus_N'] = records['furnishingstatus'].apply(coding_furnishingstatus)\n",
        "\n",
        "records.iloc[9:14]"
      ]
    },
    {
      "cell_type": "code",
      "execution_count": null,
      "metadata": {
        "colab": {
          "base_uri": "https://localhost:8080/"
        },
        "id": "2a30-j2gSrkY",
        "outputId": "7190d4f7-83b9-431d-d59b-819be6f00990"
      },
      "outputs": [],
      "source": [
        "#write code to drop redudant columns\n",
        "records= records.drop(['mainroad_N','basement_N','hotwaterheating_N','furnishingstatus_N'], axis=1)\n",
        "print(records.info())"
      ]
    },
    {
      "cell_type": "markdown",
      "metadata": {
        "id": "DgjXYmLkaPzL"
      },
      "source": [
        "**Let's go back to the previous way**"
      ]
    },
    {
      "cell_type": "code",
      "execution_count": null,
      "metadata": {
        "id": "zPqfAFcWaOs5"
      },
      "outputs": [],
      "source": [
        "# Define the custom mapping\n",
        "furnishing_mapping = {\n",
        "    'furnished': 2,\n",
        "    'semi-furnished': 1,\n",
        "    'unfurnished': 0\n",
        "}\n",
        "# Convert the categories to numerical values using replace()\n",
        "records['furnishingstatus_N'] = records['furnishingstatus'].replace(furnishing_mapping)"
      ]
    },
    {
      "cell_type": "code",
      "execution_count": null,
      "metadata": {
        "id": "I3iG4FmyaTDB"
      },
      "outputs": [],
      "source": [
        "records[['furnishingstatus', 'furnishingstatus_N']]"
      ]
    },
    {
      "cell_type": "code",
      "execution_count": null,
      "metadata": {
        "id": "h1Vopskqa7VZ"
      },
      "outputs": [],
      "source": [
        "other_cat_variables = ['mainroad', 'guestroom', 'basement', 'hotwaterheating', 'airconditioning', 'prefarea']\n",
        "\n",
        "# Convert categorical variables into numeric using dummy encoding\n",
        "records = pd.get_dummies(records, columns=other_cat_variables, drop_first=True)"
      ]
    },
    {
      "cell_type": "code",
      "execution_count": null,
      "metadata": {
        "colab": {
          "base_uri": "https://localhost:8080/"
        },
        "id": "OYbJdrfxa7Va",
        "outputId": "6e333e2c-8332-4dd9-b53b-3ab5c504452e"
      },
      "outputs": [],
      "source": [
        "#Write code to examine the dataset info()\n"
      ]
    },
    {
      "cell_type": "markdown",
      "metadata": {
        "id": "e8w0AH6goeGH"
      },
      "source": [
        "## **1.8 Feature selection**"
      ]
    },
    {
      "cell_type": "code",
      "execution_count": null,
      "metadata": {
        "colab": {
          "base_uri": "https://localhost:8080/",
          "height": 206
        },
        "id": "A1yuaf3dojEa",
        "outputId": "e5d8da8b-0cc8-40f3-b0cc-ce9f79ab7dd3"
      },
      "outputs": [],
      "source": [
        "#feature selection\n",
        "features=['area']\n",
        "X=records[features]\n",
        "X.head()"
      ]
    },
    {
      "cell_type": "code",
      "execution_count": null,
      "metadata": {
        "colab": {
          "base_uri": "https://localhost:8080/"
        },
        "id": "BgpVhBuosoeH",
        "outputId": "21cf8b72-af84-44be-bb4e-92e26c10164b"
      },
      "outputs": [],
      "source": [
        "#specify the label\n",
        "y=records['price']\n",
        "y.head()"
      ]
    },
    {
      "cell_type": "markdown",
      "metadata": {
        "id": "7ZZL19jGNYpv"
      },
      "source": [
        "## **1.9 Split the dataset**\n",
        "\n",
        "Split arrays or matrices into random train and test subsets\n",
        "https://scikit-learn.org/stable/modules/generated/sklearn.model_selection.train_test_split.html?highlight=train_test_split#sklearn.model_selection.train_test_split"
      ]
    },
    {
      "cell_type": "code",
      "execution_count": null,
      "metadata": {
        "colab": {
          "base_uri": "https://localhost:8080/"
        },
        "id": "5WQVc9ZINezn",
        "outputId": "b80d3bcb-2ace-48f0-afd2-86401d8c5847"
      },
      "outputs": [],
      "source": [
        "from sklearn.model_selection import train_test_split # Import train_test_split function\n",
        "\n",
        "# Split dataset into training set 80% and test set 20%\n",
        "X_train, X_test, y_train, y_test = train_test_split(X, y, test_size=0.2, random_state=2023)\n",
        "\n",
        "#inspect the split datasets\n",
        "print(X_train.head())\n",
        "print(y_train.head())\n",
        "\n",
        "print('Training dataset size:',X_train.shape)\n",
        "print('Test dataset size:',X_test.shape)\n"
      ]
    },
    {
      "cell_type": "markdown",
      "metadata": {
        "id": "nTtxQ1QBNuCM"
      },
      "source": [
        "## **1.10 Training a Linear Regression Model**\n",
        "\n",
        "1.   Train a model using the training dataset\n",
        "2.   Make prediction using the model for the test dataset\n",
        "\n",
        "Read about Linear Regression https://scikit-learn.org/stable/modules/linear_model.html\n",
        "\n",
        "LinearRegression will take in its fit method arrays X, y and will store the coefficients of the linear model in its coef_ member\n",
        "\n",
        "\n",
        "\n",
        "\n"
      ]
    },
    {
      "cell_type": "code",
      "execution_count": null,
      "metadata": {
        "id": "RR3ToASD9gQn"
      },
      "outputs": [],
      "source": [
        "#import linear_model\n",
        "from sklearn import linear_model\n",
        "\n",
        "#create a linear_model object\n",
        "reg = linear_model.LinearRegression()"
      ]
    },
    {
      "cell_type": "markdown",
      "metadata": {
        "id": "VdDReKfo-y_a"
      },
      "source": [
        "**Train a model**"
      ]
    },
    {
      "cell_type": "code",
      "execution_count": null,
      "metadata": {
        "id": "dXKo616v-2QR"
      },
      "outputs": [],
      "source": [
        "# Train a Regression model (regressor) with the training dataset\n",
        "reg=reg.fit(X_train, y_train)"
      ]
    },
    {
      "cell_type": "markdown",
      "metadata": {
        "id": "WsV73z5p_0JN"
      },
      "source": [
        "**Make predictions using the model and the test set**"
      ]
    },
    {
      "cell_type": "code",
      "execution_count": null,
      "metadata": {
        "id": "2wJ257lt_nQu"
      },
      "outputs": [],
      "source": [
        "#Make predictions for the test dataset\n",
        "y_pred = reg.predict(X_test)\n"
      ]
    },
    {
      "cell_type": "markdown",
      "metadata": {
        "id": "u36dEmg-AaAY"
      },
      "source": [
        "**Inspect the predictions and the original labels**"
      ]
    },
    {
      "cell_type": "code",
      "execution_count": null,
      "metadata": {
        "colab": {
          "base_uri": "https://localhost:8080/",
          "height": 472
        },
        "id": "3hdMwjK0Ae_I",
        "outputId": "5dd0db40-b133-4402-e1a8-b4fc3c1a3d92"
      },
      "outputs": [],
      "source": [
        "plt.scatter(y_test, y_pred)\n",
        "plt.xlabel(\"Actual prices\")\n",
        "plt.ylabel(\"Predicted prices\")\n",
        "plt.title(\"Actual prices vs Predicted prices\")\n",
        "plt.show()"
      ]
    },
    {
      "cell_type": "code",
      "execution_count": null,
      "metadata": {
        "colab": {
          "base_uri": "https://localhost:8080/",
          "height": 677
        },
        "id": "1X3Nu4SCOGnI",
        "outputId": "f3326d21-a898-4227-bf0d-c7bd9c074f69"
      },
      "outputs": [],
      "source": [
        "#set the formatting for floating numbers\n",
        "pd.set_option('display.float_format', lambda x: '%.0f' % x)\n",
        "area=X_test['area']\n",
        "#inspection\n",
        "inspection=pd.DataFrame({'Actual':y_test, 'Predicted':y_pred})\n",
        "inspection=pd.DataFrame({'Area':area, 'Actual':y_test, 'Predicted':y_pred})\n",
        "inspection.head(20)"
      ]
    },
    {
      "cell_type": "markdown",
      "metadata": {
        "id": "4qeFLgTpBuaI"
      },
      "source": [
        "**Getting the Intercept and Coefficients**"
      ]
    },
    {
      "cell_type": "code",
      "execution_count": null,
      "metadata": {
        "colab": {
          "base_uri": "https://localhost:8080/"
        },
        "id": "tXUyxJU_Bj3_",
        "outputId": "802903df-9dea-4487-eda3-d2169dcc336e"
      },
      "outputs": [],
      "source": [
        "print('%.2f' % reg.intercept_)\n",
        "print('%.2f' % reg.coef_)\n",
        "print('Price = ', '%.2f' % reg.intercept_, ' + ', '%.2f' % reg.coef_, ' * ', 'Area' )\n"
      ]
    },
    {
      "cell_type": "code",
      "execution_count": null,
      "metadata": {
        "colab": {
          "base_uri": "https://localhost:8080/",
          "height": 482
        },
        "id": "Xrls5sSrD0lM",
        "outputId": "57672ccc-15cf-4420-fdb9-c2f76a1eb876"
      },
      "outputs": [],
      "source": [
        "sns.scatterplot(data=inspection, x='Area', y='Actual')\n",
        "sns.regplot(data=inspection, x='Area', y='Predicted', color='blue')"
      ]
    },
    {
      "cell_type": "markdown",
      "metadata": {
        "id": "gt9r3oheFQec"
      },
      "source": [
        "## **1.11 Performance evaluation**"
      ]
    },
    {
      "cell_type": "code",
      "execution_count": null,
      "metadata": {
        "id": "JKKFXd68CIQd"
      },
      "outputs": [],
      "source": [
        "from sklearn.metrics import r2_score\n",
        "r2 = r2_score(y_test, y_pred)\n",
        "print(f\"R-squared: {r2:.2f}\")"
      ]
    },
    {
      "cell_type": "code",
      "execution_count": null,
      "metadata": {
        "id": "fsA4H5wNK6E9"
      },
      "outputs": [],
      "source": [
        "from sklearn.metrics import mean_absolute_error\n",
        "\n",
        "# Calculate and print the mean absolute error\n",
        "mae = mean_absolute_error(y_test, y_pred)\n",
        "print(f\"Mean Absolute Error: {mae:.0f}\")"
      ]
    },
    {
      "cell_type": "code",
      "execution_count": null,
      "metadata": {
        "id": "5BJhHRUkLwhc"
      },
      "outputs": [],
      "source": [
        "from sklearn.metrics import mean_squared_error\n",
        "\n",
        "# Calculate and print the root mean square error\n",
        "rmse = np.sqrt(mean_squared_error(y_test, y_pred))\n",
        "print(f\"Root Mean Square Error: {rmse:.0f}\")"
      ]
    },
    {
      "cell_type": "code",
      "execution_count": null,
      "metadata": {
        "id": "afZrnYEJObag"
      },
      "outputs": [],
      "source": [
        "#Examine the performance using the descriptive stats of price\n",
        "inspection['Actual'].describe()"
      ]
    },
    {
      "cell_type": "code",
      "execution_count": null,
      "metadata": {
        "id": "T4uDiOWMKYwS"
      },
      "outputs": [],
      "source": [
        "#Examine the performance using the descriptive stats of predicted price\n",
        "inspection['Predicted'].describe()"
      ]
    },
    {
      "cell_type": "markdown",
      "metadata": {
        "id": "CeHpkqHcTmC6"
      },
      "source": [
        "## **1.12 Multi-linear regression**\n",
        "Repeat from the previous steps to train and test a multiple linear regression model"
      ]
    },
    {
      "cell_type": "markdown",
      "metadata": {
        "id": "YehZHzSpSaJa"
      },
      "source": [
        "### **1.12.1 Select features**"
      ]
    },
    {
      "cell_type": "code",
      "execution_count": null,
      "metadata": {
        "id": "dOZOFVU9EaKp"
      },
      "outputs": [],
      "source": [
        "#Examine the heatmap\n",
        "plt.figure(figsize=(10, 8))\n",
        "sns.heatmap(records[numerical_variables].corr(), annot=True, cmap='Blues')\n",
        "plt.title(\"Correlation Matrix\")\n",
        "plt.show()"
      ]
    },
    {
      "cell_type": "code",
      "execution_count": null,
      "metadata": {
        "colab": {
          "base_uri": "https://localhost:8080/"
        },
        "id": "q_XSjg51Oxxk",
        "outputId": "6dd73b5d-6d0f-4752-b736-e7613334ab5e"
      },
      "outputs": [],
      "source": [
        "#write code to show info()"
      ]
    },
    {
      "cell_type": "code",
      "execution_count": null,
      "metadata": {
        "id": "Gaz_MZbBUHCO"
      },
      "outputs": [],
      "source": [
        "#select your own features and train and evaluate a model. For example\n",
        "features=['area','bedrooms', 'bathrooms','stories', 'parking','mainroad_yes','guestroom_yes','basement_yes', 'hotwaterheating_yes', 'airconditioning_yes', 'prefarea_yes', 'furnishingstatus_N']\n",
        "X=records[features]"
      ]
    },
    {
      "cell_type": "code",
      "execution_count": null,
      "metadata": {
        "id": "pzJ9NzkuSYCQ"
      },
      "outputs": [],
      "source": [
        "#specify the label y=\n",
        "\n"
      ]
    },
    {
      "cell_type": "markdown",
      "metadata": {
        "id": "9a-nhPDwSjtJ"
      },
      "source": [
        "### **1.12.2 Split data**"
      ]
    },
    {
      "cell_type": "code",
      "execution_count": null,
      "metadata": {
        "id": "qj6notwXSowT"
      },
      "outputs": [],
      "source": [
        "# Split dataset into training set 80% and test set 20%\n",
        "X_train, X_test, y_train, y_test = train_test_split(X, y, test_size=0.2, random_state=2023)\n",
        "\n",
        "#inspect the split datasets\n",
        "print(X_train.head())\n",
        "print(y_train.head())\n",
        "\n",
        "print('Training dataset size:',X_train.shape)\n",
        "print('Test dataset size:',X_test.shape)\n"
      ]
    },
    {
      "cell_type": "markdown",
      "metadata": {
        "id": "ifwE93fwTLOD"
      },
      "source": [
        "### **1.12.3. Train a linear model**"
      ]
    },
    {
      "cell_type": "code",
      "execution_count": null,
      "metadata": {
        "id": "Dw1TK32ATKra"
      },
      "outputs": [],
      "source": [
        "#create a linear_model object, hint reg=\n"
      ]
    },
    {
      "cell_type": "code",
      "execution_count": null,
      "metadata": {
        "id": "lpvL0KI3Tq4L"
      },
      "outputs": [],
      "source": [
        "# Train a Regression model (regressor) with the training dataset, hint: fit(X_train, y_train)\n",
        "\n"
      ]
    },
    {
      "cell_type": "markdown",
      "metadata": {
        "id": "gimnTjH0Tq4L"
      },
      "source": [
        "### **1.12.4 Make predictions**\n",
        "Make predictions using the model and the test set"
      ]
    },
    {
      "cell_type": "code",
      "execution_count": null,
      "metadata": {
        "id": "qPyDc3UGTq4L"
      },
      "outputs": [],
      "source": [
        "#Make predictions for the test dataset, hint y_pred=\n",
        "\n"
      ]
    },
    {
      "cell_type": "markdown",
      "metadata": {
        "id": "VNKkDdUiTq4L"
      },
      "source": [
        "**Inspect the predictions and the original labels**"
      ]
    },
    {
      "cell_type": "code",
      "execution_count": null,
      "metadata": {
        "id": "MKaML9AtTq4M"
      },
      "outputs": [],
      "source": [
        "plt.scatter(y_test, y_pred)\n",
        "plt.xlabel(\"Actual prices\")\n",
        "plt.ylabel(\"Predicted prices\")\n",
        "plt.title(\"Actual prices vs Predicted prices\")\n",
        "plt.show()"
      ]
    },
    {
      "cell_type": "code",
      "execution_count": null,
      "metadata": {
        "id": "JIqXj7Z9Tq4M"
      },
      "outputs": [],
      "source": [
        "#set the formatting for floating numbers\n",
        "pd.set_option('display.float_format', lambda x: '%.0f' % x)\n",
        "area=X_test['area']\n",
        "#inspection\n",
        "inspection=pd.DataFrame({'Actual':y_test, 'Predicted':y_pred})\n",
        "inspection=pd.DataFrame({'Area':area, 'Actual':y_test, 'Predicted':y_pred})\n",
        "inspection.head(20)"
      ]
    },
    {
      "cell_type": "markdown",
      "metadata": {
        "id": "wteUZlQyUMhS"
      },
      "source": [
        "### **1.12.5 Performance evaluation**"
      ]
    },
    {
      "cell_type": "code",
      "execution_count": null,
      "metadata": {
        "id": "4TFSZk7oUMqc"
      },
      "outputs": [],
      "source": [
        "from sklearn.metrics import r2_score\n",
        "r2 = r2_score(y_test, y_pred)\n",
        "print(f\"R-squared: {r2:.2f}\")"
      ]
    },
    {
      "cell_type": "code",
      "execution_count": null,
      "metadata": {
        "id": "-ypKZknXUMqd"
      },
      "outputs": [],
      "source": [
        "from sklearn.metrics import mean_absolute_error\n",
        "\n",
        "# Calculate and print the mean absolute error\n",
        "mae = mean_absolute_error(y_test, y_pred)\n",
        "print(f\"Mean Absolute Error: {mae:.0f}\")"
      ]
    },
    {
      "cell_type": "code",
      "execution_count": null,
      "metadata": {
        "id": "rwYNMbIXUMqd"
      },
      "outputs": [],
      "source": [
        "from sklearn.metrics import mean_squared_error\n",
        "\n",
        "# Calculate and print the root mean square error\n",
        "rmse = np.sqrt(mean_squared_error(y_test, y_pred))\n",
        "print(f\"Root Mean Square Error: {rmse:.0f}\")"
      ]
    },
    {
      "cell_type": "code",
      "execution_count": null,
      "metadata": {
        "id": "FBzTQXEVUMqd"
      },
      "outputs": [],
      "source": [
        "#Examine the performance using the descriptive stats of price\n",
        "inspection['Actual'].describe()"
      ]
    },
    {
      "cell_type": "code",
      "execution_count": null,
      "metadata": {
        "id": "LajTLldUUMqe"
      },
      "outputs": [],
      "source": [
        "#Examine the performance using the descriptive stats of predicted price\n",
        "inspection['Predicted'].describe()"
      ]
    },
    {
      "cell_type": "markdown",
      "metadata": {
        "id": "0qe2xZt_3weE"
      },
      "source": [
        "# **Task 2: Insurance cost estimation**\n",
        "\n",
        "**Do it yourself:** Repeat the above steps with the insurance dataset to consilidate your learning"
      ]
    },
    {
      "cell_type": "markdown",
      "metadata": {
        "id": "R90z3fZlnfr2"
      },
      "source": [
        "## **2.1 Import libraries**"
      ]
    },
    {
      "cell_type": "code",
      "execution_count": null,
      "metadata": {
        "id": "RkAnAyf8wpOy"
      },
      "outputs": [],
      "source": [
        "import numpy as np\n",
        "import pandas as pd\n",
        "import os\n",
        "import matplotlib.pyplot as plt\n",
        "import seaborn as sns\n",
        "from sklearn.linear_model import LinearRegression\n",
        "from sklearn.model_selection import train_test_split\n",
        "from sklearn.preprocessing import PolynomialFeatures\n",
        "from sklearn.metrics import r2_score,mean_squared_error, mean_absolute_error"
      ]
    },
    {
      "cell_type": "markdown",
      "metadata": {
        "id": "JyiY1CzHxcHZ"
      },
      "source": [
        "## **2.2 Load dataset**"
      ]
    },
    {
      "cell_type": "code",
      "execution_count": null,
      "metadata": {
        "id": "0_ThSWV7ws1W"
      },
      "outputs": [],
      "source": [
        "# Load data using pandas.read_csv(filepath_or_url, sep=',')\n",
        "url = 'https://raw.githubusercontent.com/thuc-github/MIS710-T12023/main/Week%203/insurance.csv'\n",
        "\n",
        "df = pd.read_csv(url)\n"
      ]
    },
    {
      "cell_type": "markdown",
      "metadata": {
        "id": "hTe1NMnwx6eD"
      },
      "source": [
        "## **2.3 EDA**\n",
        "\n",
        "* How many rows and columns in the dataset?\n",
        "* Return the first n rows.\n",
        "* What are the columns and their datatypes?\n",
        "* Is there any missing values?\n",
        "* How to deal with categorical features?\n",
        "* Any strong correlation from the dataset?  \n",
        "* What are the stats for the `charges`? Plot overall distribution of `charges`; and ditribution of chareges for smoker and non-smokers. Practice more with `bmi`, `age` and `sex` variables.\n",
        "\n"
      ]
    },
    {
      "cell_type": "code",
      "execution_count": null,
      "metadata": {
        "id": "716hxouZV81v"
      },
      "outputs": [],
      "source": [
        "# How many rows and columns in the dataset?\n",
        "df\n",
        "\n",
        "# Return the first n rows.\n",
        "df.head()\n",
        "\n",
        "# What are the columns and their datatypes?\n",
        "df.info()\n",
        "\n",
        "# Is there any missing values?\n",
        "df.isnull().sum()\n",
        "\n",
        "# Any strong correlation from the dataset?\n",
        "df.corr()"
      ]
    },
    {
      "cell_type": "code",
      "execution_count": null,
      "metadata": {
        "colab": {
          "base_uri": "https://localhost:8080/",
          "height": 806
        },
        "id": "0N8FHWVPAICT",
        "outputId": "19171fa4-9c88-430e-fb50-db784bebad08"
      },
      "outputs": [],
      "source": [
        "# Correlation plot\n",
        "f, ax = plt.subplots(figsize=(10, 8))\n",
        "corr = df.corr()\n",
        "sns.heatmap(corr, mask=np.zeros_like(corr, dtype=np.bool), cmap=sns.diverging_palette(240,10,as_cmap=True),\n",
        "            square=True, ax=ax)"
      ]
    },
    {
      "cell_type": "code",
      "execution_count": null,
      "metadata": {
        "id": "x7XhrQLN2vQy"
      },
      "outputs": [],
      "source": [
        "# How to deal with categorical features?\n",
        "\n",
        "from sklearn.preprocessing import LabelEncoder\n",
        "#sex\n",
        "le = LabelEncoder()\n",
        "le.fit(df.sex.drop_duplicates())\n",
        "df.sex = le.transform(df.sex)\n",
        "# smoker or not\n",
        "le.fit(df.smoker.drop_duplicates())\n",
        "df.smoker = le.transform(df.smoker)\n",
        "#region\n",
        "le.fit(df.region.drop_duplicates())\n",
        "df.region = le.transform(df.region)\n"
      ]
    },
    {
      "cell_type": "code",
      "execution_count": null,
      "metadata": {
        "id": "ifzyfkCzWgEH"
      },
      "outputs": [],
      "source": [
        "'''\n",
        "What are the stats for the charges? Plot overall distribution of charges;\n",
        "and ditribution of chareges for smoker and non-smokers.\n",
        "'''\n",
        "df.charges.describe()"
      ]
    },
    {
      "cell_type": "code",
      "execution_count": null,
      "metadata": {
        "id": "fcS7URxjWrM3"
      },
      "outputs": [],
      "source": [
        "df.charges.hist(bins=50, figsize=(12,8))"
      ]
    },
    {
      "cell_type": "code",
      "execution_count": null,
      "metadata": {
        "id": "DhnsWD_sWz26"
      },
      "outputs": [],
      "source": [
        "df.charges.hist(by=df.smoker, bins=50, figsize=(12,8))"
      ]
    },
    {
      "cell_type": "code",
      "execution_count": null,
      "metadata": {
        "colab": {
          "base_uri": "https://localhost:8080/",
          "height": 504
        },
        "id": "85DCFc2uBsRd",
        "outputId": "6c3773b1-3327-44e5-cc4b-e1aef6e14eda"
      },
      "outputs": [],
      "source": [
        "# Alternative using seaborn\n",
        "\n",
        "f= plt.figure(figsize=(12,5))\n",
        "\n",
        "ax=f.add_subplot(121)\n",
        "sns.histplot(df[(df.smoker == 1)][\"charges\"],color='c',ax=ax)\n",
        "ax.set_title('Distribution of charges for smokers')\n",
        "\n",
        "ax=f.add_subplot(122, sharex = ax)\n",
        "sns.histplot(df[(df.smoker == 0)]['charges'],color='b',ax=ax)\n",
        "ax.set_title('Distribution of charges for non-smokers')"
      ]
    },
    {
      "cell_type": "markdown",
      "metadata": {
        "id": "KmoCcKvKyOHx"
      },
      "source": [
        "## **2.4 Data preparation**\n",
        "\n",
        "\n",
        "1.   Prepare X, y\n",
        "2.   Prepare X_train, X_test, y_train, y_test (hint: using `train_test_split')\n",
        "\n"
      ]
    },
    {
      "cell_type": "code",
      "execution_count": null,
      "metadata": {
        "id": "ZSbs7Hu42vL_"
      },
      "outputs": [],
      "source": [
        "X = df.drop(['charges'], axis = 1)\n",
        "y = df.charges\n",
        "\n",
        "X_train, X_test, y_train, y_test = train_test_split(X, y, test_size=0.2, random_state = 0)"
      ]
    },
    {
      "cell_type": "markdown",
      "metadata": {
        "id": "vtvVRhsy0P29"
      },
      "source": [
        "## **2.5 Model implementation**\n",
        "\n",
        "1. Try with the original data. What's the performance?\n",
        "2. Let's add data normalisation. Has the performance been improved?"
      ]
    },
    {
      "cell_type": "code",
      "execution_count": null,
      "metadata": {
        "id": "rclQ0qPI2rq3"
      },
      "outputs": [],
      "source": [
        "lr = LinearRegression().fit(X_train,y_train)\n",
        "\n",
        "y_train_pred = lr.predict(X_train)\n",
        "y_test_pred = lr.predict(X_test)\n",
        "\n",
        "print('MSE_Train: {}, MSE_Test: {}, MAE_Train: {}, MAE_Test: {}'.format(mean_squared_error(y_train, y_train_pred),\n",
        "                                                      mean_squared_error(y_test, y_test_pred),\n",
        "                                                      mean_absolute_error(y_train, y_train_pred),\n",
        "                                                      mean_absolute_error(y_test, y_test_pred)))\n",
        "\n",
        "print('R2 train data: %.3f, R2 test data: %.3f' % (\n",
        "r2_score(y_train,y_train_pred),\n",
        "r2_score(y_test,y_test_pred)))"
      ]
    },
    {
      "cell_type": "code",
      "execution_count": null,
      "metadata": {
        "id": "2zKC9yW8C2Kt"
      },
      "outputs": [],
      "source": [
        "plt.figure(figsize=(10,6))\n",
        "\n",
        "plt.scatter(y_train_pred, y_train_pred - y_train,\n",
        "          c = 'black', marker = 'o', s = 35, alpha = 0.5,\n",
        "          label = 'Train data')\n",
        "plt.scatter(y_test_pred, y_test_pred - y_test,\n",
        "          c = 'c', marker = 'o', s = 35, alpha = 0.7,\n",
        "          label = 'Test data')\n",
        "plt.xlabel('Predicted values')\n",
        "plt.ylabel('Tailings')\n",
        "plt.legend(loc = 'upper left')\n",
        "plt.hlines(y = 0, xmin = 0, xmax = 60000, lw = 2, color = 'red')\n",
        "plt.show()"
      ]
    },
    {
      "cell_type": "code",
      "execution_count": null,
      "metadata": {
        "id": "EUz7srT_CY0O"
      },
      "outputs": [],
      "source": [
        "quad = PolynomialFeatures(degree = 2)\n",
        "X_quad = quad.fit_transform(X)\n",
        "\n",
        "X_train, X_test, y_train, y_test = train_test_split(X_quad, y, test_size=0.2, random_state = 0)\n",
        "\n",
        "plr = LinearRegression().fit(X_train, y_train)\n",
        "\n",
        "y_train_pred = plr.predict(X_train)\n",
        "y_test_pred = plr.predict(X_test)\n",
        "\n",
        "print('MSE_Train: {}, MSE_Test: {}, MAE_Train: {}, MAE_Test: {}'.format(mean_squared_error(y_train, y_train_pred),\n",
        "                                                      mean_squared_error(y_test, y_test_pred),\n",
        "                                                      mean_absolute_error(y_train, y_train_pred),\n",
        "                                                      mean_absolute_error(y_test, y_test_pred)))\n",
        "\n",
        "print('R2 train data: %.3f, R2 test data: %.3f' % (\n",
        "r2_score(y_train,y_train_pred),\n",
        "r2_score(y_test,y_test_pred)))"
      ]
    },
    {
      "cell_type": "code",
      "execution_count": null,
      "metadata": {
        "id": "pXD5O4tGCsx_"
      },
      "outputs": [],
      "source": [
        "plt.figure(figsize=(10,6))\n",
        "\n",
        "plt.scatter(y_train_pred, y_train_pred - y_train,\n",
        "          c = 'black', marker = 'o', s = 35, alpha = 0.5,\n",
        "          label = 'Train data')\n",
        "plt.scatter(y_test_pred, y_test_pred - y_test,\n",
        "          c = 'c', marker = 'o', s = 35, alpha = 0.7,\n",
        "          label = 'Test data')\n",
        "plt.xlabel('Predicted values')\n",
        "plt.ylabel('Tailings')\n",
        "plt.legend(loc = 'upper left')\n",
        "plt.hlines(y = 0, xmin = 0, xmax = 60000, lw = 2, color = 'red')\n",
        "plt.show()"
      ]
    }
  ],
  "metadata": {
    "colab": {
      "provenance": [],
      "toc_visible": true
    },
    "kernelspec": {
      "display_name": "Python 3",
      "name": "python3"
    },
    "language_info": {
      "codemirror_mode": {
        "name": "ipython",
        "version": 3
      },
      "file_extension": ".py",
      "mimetype": "text/x-python",
      "name": "python",
      "nbconvert_exporter": "python",
      "pygments_lexer": "ipython3",
      "version": "3.9.13"
    }
  },
  "nbformat": 4,
  "nbformat_minor": 0
}
