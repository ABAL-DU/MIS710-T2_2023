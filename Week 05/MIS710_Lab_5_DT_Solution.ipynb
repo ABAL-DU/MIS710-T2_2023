{
  "nbformat": 4,
  "nbformat_minor": 0,
  "metadata": {
    "colab": {
      "provenance": [],
      "toc_visible": true
    },
    "kernelspec": {
      "display_name": "Python 3",
      "name": "python3"
    },
    "language_info": {
      "name": "python"
    }
  },
  "cells": [
    {
      "cell_type": "markdown",
      "metadata": {
        "id": "MNkJtLWoPpW7"
      },
      "source": [
        "\n",
        "# **MIS710 Lab 5 - Introduction to Decision Tree**\n",
        "\n",
        "**Author: Associate Professor Lemai Nguyen**\n",
        "\n",
        "Objective: To learn ML using decision trees for classification and estimatatiom, and gain practical skills to develop decision tree models and evaluate their performances\n"
      ]
    },
    {
      "cell_type": "markdown",
      "metadata": {
        "id": "jxTV1VTuj9mC"
      },
      "source": [
        "**Import Libraries and Functions**\n",
        "\n",
        "Train Test Split:\n",
        "https://scikit-learn.org/stable/modules/generated/sklearn.model_selection.train_test_split.html?highlight=train_test_split#sklearn.model_selection.train_test_split\n",
        "\n",
        "Classification metrics:\n",
        "https://scikit-learn.org/stable/modules/model_evaluation.html#classification-metrics"
      ]
    },
    {
      "cell_type": "markdown",
      "source": [
        "# **Task 1: Breast Cancer Diagnosis**\n",
        "\n",
        "**Breast Cancer Diagnosis**\n",
        "Predict the diagnosis (healthy or cancerous) based on a biopsy dataset.\n",
        "\n",
        "**Context**: The dataset was adapted from a biospy dataset. The dataset contains five (5) biological variables and the target variable.\n",
        "\n",
        "**Data**:\n",
        "V1, V2, V7-V9: biological variables\n",
        "\n",
        "Diagnosis: healthy or cancerous\n",
        "\n",
        "**Source**: adapted from a dataset provided by Dr Mark Griffin, Industry Fellow, University of Queensland; also available at: https://www.kaggle.com/datasets/ukveteran/biopsy-data-on-breast-cancer-patients"
      ],
      "metadata": {
        "id": "MzWC-EbFV9sM"
      }
    },
    {
      "cell_type": "markdown",
      "source": [
        "## **1.1 Import libraries and functions**"
      ],
      "metadata": {
        "id": "sJ6XLBAWQQiV"
      }
    },
    {
      "cell_type": "code",
      "metadata": {
        "id": "p9_TVAw2FOsS"
      },
      "source": [
        "!pip install pydotplus #interface for graph visualisation\n",
        "!pip install graphviz #for graph visualisation"
      ],
      "execution_count": null,
      "outputs": []
    },
    {
      "cell_type": "code",
      "metadata": {
        "id": "lVf5buwkml_I"
      },
      "source": [
        "# import libraries\n",
        "import pandas as pd #for data manipulation and analysis\n",
        "import numpy as np\n",
        "\n",
        "import seaborn as sns\n",
        "import matplotlib.pyplot as plt\n",
        "#from pandas.io.parsers.readers import annotations\n",
        "\n",
        "from sklearn.tree import DecisionTreeClassifier # Import Decision Tree Classifi\n",
        "\n",
        "from sklearn.model_selection import train_test_split # Import train_test_split function\n",
        "from sklearn import metrics #Import scikit-learn metrics module for model evaluation\n",
        "\n",
        "#print confusion matrix and evaluation report\n",
        "from sklearn.metrics import classification_report, confusion_matrix\n",
        "from sklearn.metrics import RocCurveDisplay\n",
        "from sklearn.metrics import ConfusionMatrixDisplay"
      ],
      "execution_count": null,
      "outputs": []
    },
    {
      "cell_type": "markdown",
      "source": [
        "## **1.2 Load data**"
      ],
      "metadata": {
        "id": "03lf4AIsXoBh"
      }
    },
    {
      "cell_type": "code",
      "source": [
        "url='https://raw.githubusercontent.com/VanLan0/MIS710-ML/main/Datasets/biopsy_ln.csv'"
      ],
      "metadata": {
        "id": "cSRAUmkvXrmC"
      },
      "execution_count": null,
      "outputs": []
    },
    {
      "cell_type": "code",
      "source": [
        "# load dataset\n",
        "records = pd.read_csv('https://raw.githubusercontent.com/VanLan0/MIS710-ML/main/Datasets/biopsy_ln.csv')\n"
      ],
      "metadata": {
        "id": "q3oiwzyLX4Kt"
      },
      "execution_count": null,
      "outputs": []
    },
    {
      "cell_type": "markdown",
      "source": [
        "## **1.3 Inspect and pre-process data**"
      ],
      "metadata": {
        "id": "kWfqWUzFYGVt"
      }
    },
    {
      "cell_type": "code",
      "source": [
        "#explore the dataset\n",
        "print(records)"
      ],
      "metadata": {
        "id": "PCFgngnrYciK"
      },
      "execution_count": null,
      "outputs": []
    },
    {
      "cell_type": "code",
      "source": [
        "#examine shape and data types\n",
        "records.info()"
      ],
      "metadata": {
        "id": "NtvvD4G6YfNY"
      },
      "execution_count": null,
      "outputs": []
    },
    {
      "cell_type": "markdown",
      "source": [
        "### **Inspect missing data**"
      ],
      "metadata": {
        "id": "0dLGq9DioLAv"
      }
    },
    {
      "cell_type": "code",
      "source": [
        "#Inspect missing data\n",
        "records.isnull().sum()"
      ],
      "metadata": {
        "id": "FT8xEzM8YFl8"
      },
      "execution_count": null,
      "outputs": []
    },
    {
      "cell_type": "code",
      "source": [
        "#drop irrelevant variables\n",
        "records=records.drop(['ID'], axis=1)"
      ],
      "metadata": {
        "id": "yDtPnFyxYWg3"
      },
      "execution_count": null,
      "outputs": []
    },
    {
      "cell_type": "markdown",
      "source": [
        "## **1.4 Conduct Exploratory Data Analysis (EDA)**\n",
        "1. Univariate analysis\n",
        "2. Bivariate analysis\n",
        "3. Multivariate analysis\n",
        "\n",
        "Note:\n",
        "> Numeric variables\n",
        "*   Summarise data through mean, median (Q2), Q1, Q3, range, Interquartile Range (IQR), outliers, standard deviation, and variance.\n",
        "*   Explore distributions using histograms, boxplots, kernel density estimates, and QQ plots of continuous variables.\n",
        "\n",
        "> Categorical variables\n",
        "*   Summarise data through mode(s), counts and percentages of unique categories.\n",
        "*   Explore bar charts, pie charts, or frequency tables of categorical variables.\n",
        "\n",
        "> Explore relationships between two or more variables  \n",
        "*   Compare two continuous variables using their descriptive statistics (such as means, medians, and Inter Quartile Range (IQR), range) and explore the relationship between them using scatterplots and correlation coefficients.\n",
        "*   Explore the relationship between two categorical variables using a two-way contingency table (crosstab), clustered bar charts, stacked bar charts or a mosaic plot.\n",
        "*   Explore the relationship between one numeric and one categorical variable, through using and grouped boxplots, violin plots, and histograms.\n",
        "*   Explore correlations among multiple (selected) numeric variables using heatmaps of the correlation matrix.\n",
        "\n",
        "\n",
        "Note: You can also explore relationships between two variables. Convert data as needed"
      ],
      "metadata": {
        "id": "RJhziPbjRRem"
      }
    },
    {
      "cell_type": "code",
      "source": [
        "#create histograms\n",
        "for i in records.iloc[:,:6]:\n",
        "    sns.histplot(records[i], kde=True)\n",
        "    plt.title(i)\n",
        "    plt.show()"
      ],
      "metadata": {
        "id": "owNEshpvAb1G"
      },
      "execution_count": null,
      "outputs": []
    },
    {
      "cell_type": "code",
      "source": [
        "#create barchats\n",
        "plot=sns.countplot(data=records, x='diagnosis')\n",
        "plt.show()"
      ],
      "metadata": {
        "id": "VEcOor4L84Fe"
      },
      "execution_count": null,
      "outputs": []
    },
    {
      "cell_type": "code",
      "source": [
        "#create histograms\n",
        "for i in records.iloc[:,:5]:\n",
        "    sns.kdeplot(data=records, x=records[i], hue= 'diagnosis', legend=True)\n",
        "    plt.title(i)\n",
        "    plt.show()"
      ],
      "metadata": {
        "id": "luQAouMOp3Aw"
      },
      "execution_count": null,
      "outputs": []
    },
    {
      "cell_type": "code",
      "source": [
        "sns.heatmap(data=records.corr(), cmap=\"Blues\", annot=True)"
      ],
      "metadata": {
        "id": "EwrpTLYjOIE1"
      },
      "execution_count": null,
      "outputs": []
    },
    {
      "cell_type": "markdown",
      "source": [
        "## **1.5 Convert categorical data to numeric**\n",
        "Define your own function and call it"
      ],
      "metadata": {
        "id": "kwliobbdu4AL"
      }
    },
    {
      "cell_type": "code",
      "source": [
        "#convert categorical data to numerical\n",
        "def coding_diagnosis(x):\n",
        "        if x=='cancerous': return 1\n",
        "        if x=='healthy': return 0\n",
        "\n",
        "records['diagnosis'] = records['diagnosis'].apply(coding_diagnosis)\n",
        "\n",
        "print(records.sample(10))"
      ],
      "metadata": {
        "id": "UjO7eTTgYuZN"
      },
      "execution_count": null,
      "outputs": []
    },
    {
      "cell_type": "code",
      "source": [
        "records.info()"
      ],
      "metadata": {
        "id": "m2lVZ2zbYxNa"
      },
      "execution_count": null,
      "outputs": []
    },
    {
      "cell_type": "markdown",
      "metadata": {
        "id": "WZn9TsB0IlVZ"
      },
      "source": [
        "## **1.6 Select Features and Target**\n",
        "\n",
        "Select predictors (attributes) for Classification\n",
        "\n",
        "Set role (Target)"
      ]
    },
    {
      "cell_type": "code",
      "metadata": {
        "id": "eklK57M5Iuba"
      },
      "source": [
        "#Selecting predictors and label\n",
        "features = records.columns[0:5]\n",
        "X=records[features]  #Input data\n",
        "y=records['diagnosis'] # Target variable"
      ],
      "execution_count": null,
      "outputs": []
    },
    {
      "cell_type": "markdown",
      "metadata": {
        "id": "7ZZL19jGNYpv"
      },
      "source": [
        "## **1.7 Split the Dataset**\n",
        "\n",
        "Split arrays or matrices into random train and test subsets\n",
        "https://scikit-learn.org/stable/modules/generated/sklearn.model_selection.train_test_split.html?highlight=train_test_split#sklearn.model_selection.train_test_split"
      ]
    },
    {
      "cell_type": "code",
      "metadata": {
        "id": "5WQVc9ZINezn"
      },
      "source": [
        "# Split dataset into training set and test set\n",
        "X_train, X_test, y_train, y_test = train_test_split(X, y, test_size=0.2, random_state=1, stratify=y)  # 80% training and 20% testing\n",
        "\n",
        "#inspect the split datasets\n",
        "print(X_train.head())\n",
        "print(y_train.head())\n",
        "\n",
        "print('Training dataset size:',X_train.shape[0])\n",
        "print('Test dataset size:',X_test.shape[0])\n"
      ],
      "execution_count": null,
      "outputs": []
    },
    {
      "cell_type": "markdown",
      "metadata": {
        "id": "nTtxQ1QBNuCM"
      },
      "source": [
        "## **1.8 Train a Decision Tree Model and Make Predictions**\n",
        "\n",
        "(Model implementation)\n",
        "\n",
        "1.  Initialise /create an empty object decisiontreeclassifier (model)\n",
        "2.  Train the model using the training dataset\n",
        "3.  Make prediction using the model for the test dataset\n",
        "\n",
        "\n",
        "Read about DecisionTreeClassifier at: https://scikit-learn.org/stable/modules/generated/sklearn.tree.DecisionTreeClassifier.html\n",
        "\n"
      ]
    },
    {
      "cell_type": "code",
      "metadata": {
        "id": "j42G9zCxN7xI"
      },
      "source": [
        "# Create Decision Tree classifier object\n",
        "clf = DecisionTreeClassifier(criterion=\"entropy\", max_depth=3) #default criterion is gini, max_depth=25"
      ],
      "execution_count": null,
      "outputs": []
    },
    {
      "cell_type": "code",
      "source": [
        "# Train Decision Tree Classifer with the traning dataset\n",
        "clf = clf.fit(X_train, y_train)\n"
      ],
      "metadata": {
        "id": "4UQSj6y2s2pK"
      },
      "execution_count": null,
      "outputs": []
    },
    {
      "cell_type": "code",
      "source": [
        "#Make predictions for the test dataset\n",
        "y_pred = clf.predict(X_test)\n"
      ],
      "metadata": {
        "id": "nZbsYHrCs3dw"
      },
      "execution_count": null,
      "outputs": []
    },
    {
      "cell_type": "markdown",
      "metadata": {
        "id": "LytoxXxiOIud"
      },
      "source": [
        "**Inspect Predictions**\n",
        "\n",
        "This is for learning purposes, so you can feel what predictions look like."
      ]
    },
    {
      "cell_type": "code",
      "metadata": {
        "id": "1X3Nu4SCOGnI"
      },
      "source": [
        "#join unseen y_test with predicted value into a data frame\n",
        "inspection=pd.DataFrame({'Actual':y_test, 'Predicted':y_pred})\n",
        "\n",
        "#join X_test with the new dataframe\n",
        "inspection=pd.concat([X_test,inspection], axis=1)\n",
        "\n",
        "inspection.sample(20)"
      ],
      "execution_count": null,
      "outputs": []
    },
    {
      "cell_type": "markdown",
      "metadata": {
        "id": "ACm74vWIOM7x"
      },
      "source": [
        "## **1.9 Evaluate Model Performance**\n",
        "\n",
        "\n",
        "(Performance Evaluation)\n",
        "\n",
        "\n",
        "1. Generate confusion matrix and classification report   \n",
        "2. Calculate Accuracy, Precision, Recall, F1 separately when needed\n",
        "\n",
        "\n",
        "Classification metrics: https://scikit-learn.org/stable/modules/model_evaluation.html#classification-metrics\n",
        "\n",
        "\n",
        "\n",
        "\n",
        "\n"
      ]
    },
    {
      "cell_type": "code",
      "metadata": {
        "id": "NvYek0KZ-SdW"
      },
      "source": [
        "#print confusion matrix and evaluation report\n",
        "from sklearn.metrics import classification_report, confusion_matrix\n",
        "print(confusion_matrix(y_test, y_pred))\n",
        "print(classification_report(y_test, y_pred))"
      ],
      "execution_count": null,
      "outputs": []
    },
    {
      "cell_type": "code",
      "source": [
        "#Model Evaluation, calculate metrics: Accuracy, Precision, Recall, F1,\n",
        "print(\"Accuracy: \", '%.3f' % metrics.accuracy_score(y_test,y_pred))\n",
        "print(\"Precision: \",'%.3f' % metrics.precision_score(y_test,y_pred))\n",
        "print(\"Recall: \", '%.3f' % metrics.recall_score(y_test,y_pred))\n",
        "print(\"F1: \", '%.3f' % metrics.f1_score(y_test,y_pred))\n"
      ],
      "metadata": {
        "id": "IY8ojSKAcwvq"
      },
      "execution_count": null,
      "outputs": []
    },
    {
      "cell_type": "markdown",
      "metadata": {
        "id": "hgbNM-FkRwcL"
      },
      "source": [
        "### **Plot ROC (Receiver operating characteristic) curve and confusion matrix**\n",
        "\n",
        "ROC surve\n",
        "https://scikit-learn.org/stable/modules/generated/sklearn.metrics.plot_roc_curve.html?highlight=plot_roc_curve#sklearn.metrics.plot_roc_curve\n",
        "\n",
        "Confusion matrix\n",
        "https://scikit-learn.org/stable/modules/generated/sklearn.metrics.plot_confusion_matrix.html?highlight=plot%20confusion%20matrix#sklearn.metrics.plot_confusion_matrix"
      ]
    },
    {
      "cell_type": "code",
      "source": [
        "#get predicted probabilities for the main class\n",
        "y_pred_probs = clf.predict_proba(X_test)\n",
        "y_pred_probs = y_pred_probs[:, 1]\n",
        "y_pred_probs"
      ],
      "metadata": {
        "id": "aDtrvCZxbp6G"
      },
      "execution_count": null,
      "outputs": []
    },
    {
      "cell_type": "code",
      "source": [
        "from sklearn.metrics import RocCurveDisplay\n",
        "from sklearn.metrics import ConfusionMatrixDisplay\n",
        "\n",
        "RocCurveDisplay.from_predictions(y_test, y_pred_probs)\n",
        "ConfusionMatrixDisplay.from_predictions(y_test, y_pred)\n",
        "plt.show()"
      ],
      "metadata": {
        "id": "QrxcQHBvyazT"
      },
      "execution_count": null,
      "outputs": []
    },
    {
      "cell_type": "markdown",
      "source": [
        "## **1.10 Visualise the trees**\n",
        "\n",
        "Not all classification machine learning models can be visualised."
      ],
      "metadata": {
        "id": "wQbx9dRLbl5P"
      }
    },
    {
      "cell_type": "markdown",
      "source": [
        "### **Option 1: Extract rules and visualise the model**"
      ],
      "metadata": {
        "id": "6AheIjXuSNPl"
      }
    },
    {
      "cell_type": "code",
      "source": [
        "#Import plot_tree to  extract rules and visualise the decition tree model\n",
        "from sklearn.tree import plot_tree, export_text\n",
        "from pandas.io.parsers.readers import annotations\n"
      ],
      "metadata": {
        "id": "ys1PhUQunph2"
      },
      "execution_count": null,
      "outputs": []
    },
    {
      "cell_type": "code",
      "source": [
        "# Convert feature_names to a list if it's an Index object\n",
        "feature_names = list(features) if isinstance(features, pd.Index) else features\n",
        "\n",
        "# Extract the decision rules\n",
        "rules = export_text(clf, feature_names=feature_names)\n",
        "print(rules)"
      ],
      "metadata": {
        "id": "iKYzjJqFSC6M"
      },
      "execution_count": null,
      "outputs": []
    },
    {
      "cell_type": "code",
      "source": [
        "# visualize the decision tree\n",
        "plt.figure(figsize=(20,10))\n",
        "plot_tree(clf, filled=True, feature_names=features, class_names=['0','1'])\n",
        "plt.show()"
      ],
      "metadata": {
        "id": "S6QXuEWsSHf-"
      },
      "execution_count": null,
      "outputs": []
    },
    {
      "cell_type": "markdown",
      "source": [
        "**Discuss the Interpretability vs Explainability of the model**\n",
        "\n",
        "Interpretability relates to understanding how a machine learning model works, i.e., how it makes predictions based on input data.\n",
        "\n",
        "Explainability focuses on whether the model's decision-making process makes sense from a human perspective.\n",
        "\n",
        "An explainable model not only provides predictions but also provides human-understandable explanations or justifications for those predictions.\n",
        "\n",
        "Observe the rules and discuss Explainable AI"
      ],
      "metadata": {
        "id": "j-X9YkSjY0-e"
      }
    },
    {
      "cell_type": "markdown",
      "source": [
        "### **Option 2: Use pydotplus**"
      ],
      "metadata": {
        "id": "RjNFC9VKSUty"
      }
    },
    {
      "cell_type": "code",
      "source": [
        "import six\n",
        "import sys\n",
        "sys.modules['sklearn.externals.six'] = six"
      ],
      "metadata": {
        "id": "_F46_pkocDcH"
      },
      "execution_count": null,
      "outputs": []
    },
    {
      "cell_type": "code",
      "source": [
        "#Import libraries and classes\n",
        "from six import StringIO\n",
        "from sklearn.tree import export_graphviz\n",
        "from sklearn.externals.six import StringIO\n",
        "from IPython.display import Image\n",
        "import pydotplus\n",
        "\n",
        "dot_data = StringIO()\n",
        "export_graphviz(clf, out_file=dot_data,\n",
        "                filled=True, rounded=True,\n",
        "                special_characters=True,feature_names = features,class_names=['0','1'])\n",
        "graph = pydotplus.graph_from_dot_data(dot_data.getvalue())\n",
        "graph.write_png('Biopsy.png')\n",
        "Image(graph.create_png())"
      ],
      "metadata": {
        "id": "9Udm90RKbxvR"
      },
      "execution_count": null,
      "outputs": []
    },
    {
      "cell_type": "markdown",
      "source": [
        "# **Task 2: Titanic**\n",
        "Dataset: Titanic\n",
        "\n",
        "Source: https://www.kaggle.com/c/titanic"
      ],
      "metadata": {
        "id": "xcSoSjFeI6kn"
      }
    },
    {
      "cell_type": "markdown",
      "source": [
        "## **2.1 Import libraries and functions**"
      ],
      "metadata": {
        "id": "YAa4r_b4RAx6"
      }
    },
    {
      "cell_type": "code",
      "source": [
        "# import libraries\n",
        "import pandas as pd #for data manipulation and analysis\n",
        "import numpy as np\n",
        "\n",
        "import seaborn as sns\n",
        "import matplotlib.pyplot as plt\n",
        "from pandas.io.parsers.readers import annotations\n",
        "\n",
        "from sklearn.tree import DecisionTreeClassifier # Import Decision Tree Classifier\n",
        "\n",
        "from sklearn.model_selection import train_test_split # Import train_test_split function\n",
        "from sklearn import metrics #Import scikit-learn metrics module for model evaluation\n",
        "\n",
        "#print confusion matrix and evaluation report\n",
        "from sklearn.metrics import classification_report, confusion_matrix\n",
        "from sklearn.metrics import RocCurveDisplay\n",
        "from sklearn.metrics import ConfusionMatrixDisplay"
      ],
      "metadata": {
        "id": "huOSqXxoRFvk"
      },
      "execution_count": null,
      "outputs": []
    },
    {
      "cell_type": "markdown",
      "source": [
        "## **2.2 Load data**"
      ],
      "metadata": {
        "id": "MzgEXmsoLSXo"
      }
    },
    {
      "cell_type": "code",
      "source": [
        "url='https://raw.githubusercontent.com/VanLan0/MIS710-ML/main/Datasets/titanic_train.csv'\n",
        "# load dataset\n",
        "records = pd.read_csv(url)"
      ],
      "metadata": {
        "id": "0OBn7H9oJ2fL"
      },
      "execution_count": null,
      "outputs": []
    },
    {
      "cell_type": "markdown",
      "source": [
        "## **2.3 Inspect and pre-process data**"
      ],
      "metadata": {
        "id": "_iOHRTtkLame"
      }
    },
    {
      "cell_type": "code",
      "source": [
        "records.head()"
      ],
      "metadata": {
        "id": "7eWrQ65YLg5U"
      },
      "execution_count": null,
      "outputs": []
    },
    {
      "cell_type": "code",
      "source": [
        "records.info()"
      ],
      "metadata": {
        "id": "rfFQkbaWLcRP"
      },
      "execution_count": null,
      "outputs": []
    },
    {
      "cell_type": "code",
      "source": [
        "#drop irrelevant variables\n",
        "records=records.drop(['PassengerId','Cabin','Name','Ticket'], axis=1)"
      ],
      "metadata": {
        "id": "Fok9F3y-x5mW"
      },
      "execution_count": null,
      "outputs": []
    },
    {
      "cell_type": "code",
      "source": [
        "records"
      ],
      "metadata": {
        "id": "4VAoRlrBue8g"
      },
      "execution_count": null,
      "outputs": []
    },
    {
      "cell_type": "markdown",
      "source": [
        "### **Inspect missing data**"
      ],
      "metadata": {
        "id": "wkHLY6xnurIe"
      }
    },
    {
      "cell_type": "code",
      "source": [
        "#Check missing data\n",
        "records.isnull().sum()"
      ],
      "metadata": {
        "id": "Fdp41nT2Lk7J"
      },
      "execution_count": null,
      "outputs": []
    },
    {
      "cell_type": "code",
      "source": [
        "#Fill in missing numerical data with mean and categorical data with mode\n",
        "records['Age'].fillna(records['Age'].median(),inplace=True)\n",
        "records['Embarked'].fillna(records['Embarked'].mode()[0], inplace=True) #there can be more than one mode"
      ],
      "metadata": {
        "id": "rBnBLCnty0RZ"
      },
      "execution_count": null,
      "outputs": []
    },
    {
      "cell_type": "markdown",
      "source": [
        "## **2.4 Conduct Exploratory Data Analysis (EDA)**\n",
        "1. Univariate analysis\n",
        "2. Bivariate analysis\n",
        "3. Multivariate analysis\n",
        "\n",
        "Note:\n",
        "> Numeric variables\n",
        "*   Summarise data through mean, median (Q2), Q1, Q3, range, Interquartile Range (IQR), outliers, standard deviation, and variance.\n",
        "*   Explore distributions using histograms, boxplots, kernel density estimates, and QQ plots of continuous variables.\n",
        "\n",
        "> Categorical variables\n",
        "*   Summarise data through mode(s), counts and percentages of unique categories.\n",
        "*   Explore bar charts, pie charts, or frequency tables of categorical variables.\n",
        "\n",
        "> Explore relationships between two or more variables  \n",
        "*   Compare two continuous variables using their descriptive statistics (such as means, medians, and Inter Quartile Range (IQR), range) and explore the relationship between them using scatterplots and correlation coefficients.\n",
        "*   Explore the relationship between two categorical variables using a two-way contingency table (crosstab), clustered bar charts, stacked bar charts or a mosaic plot.\n",
        "*   Explore the relationship between one numeric and one categorical variable, through using and grouped boxplots, violin plots, and histograms.\n",
        "*   Explore correlations among multiple (selected) numeric variables using heatmaps of the correlation matrix.\n",
        "\n",
        "\n",
        "3. Convert data as needed\n",
        "You can also explore relationships between two variables."
      ],
      "metadata": {
        "id": "o3GaRrvhLwiY"
      }
    },
    {
      "cell_type": "code",
      "source": [
        "records.info()"
      ],
      "metadata": {
        "id": "JO3eC-UzwbS8"
      },
      "execution_count": null,
      "outputs": []
    },
    {
      "cell_type": "code",
      "source": [
        "records.Age.describe()"
      ],
      "metadata": {
        "id": "DnFD2Nn9ygQb"
      },
      "execution_count": null,
      "outputs": []
    },
    {
      "cell_type": "code",
      "source": [
        "sns.boxplot(data=records, x='Age', showmeans=True)"
      ],
      "metadata": {
        "id": "yoUNOMuNy2sW"
      },
      "execution_count": null,
      "outputs": []
    },
    {
      "cell_type": "code",
      "source": [
        "records.Fare.describe()"
      ],
      "metadata": {
        "id": "NJiTf3ACwnAL"
      },
      "execution_count": null,
      "outputs": []
    },
    {
      "cell_type": "code",
      "source": [
        "sns.boxplot(data=records, x='Fare', showmeans=True)"
      ],
      "metadata": {
        "id": "61jUzp4xwfzw"
      },
      "execution_count": null,
      "outputs": []
    },
    {
      "cell_type": "markdown",
      "source": [
        "**Explore the target variable**"
      ],
      "metadata": {
        "id": "dvGbH0imwL7n"
      }
    },
    {
      "cell_type": "code",
      "source": [
        "sns.countplot(data=records, x='Survived')"
      ],
      "metadata": {
        "id": "IHraJBob2KIy"
      },
      "execution_count": null,
      "outputs": []
    },
    {
      "cell_type": "markdown",
      "source": [
        "**Explore other categorical data**"
      ],
      "metadata": {
        "id": "JtnII6_2wUwu"
      }
    },
    {
      "cell_type": "code",
      "source": [
        "records.Embarked.value_counts()"
      ],
      "metadata": {
        "id": "MfpEZRTnysle"
      },
      "execution_count": null,
      "outputs": []
    },
    {
      "cell_type": "code",
      "source": [
        "sns.countplot(data=records, x='Embarked')"
      ],
      "metadata": {
        "id": "e_6uw7k1zIla"
      },
      "execution_count": null,
      "outputs": []
    },
    {
      "cell_type": "code",
      "source": [
        "cat_columns=['Survived', 'Pclass', 'SibSp', 'Parch', 'Sex','Embarked']"
      ],
      "metadata": {
        "id": "Oc8v9jNvw_4p"
      },
      "execution_count": null,
      "outputs": []
    },
    {
      "cell_type": "code",
      "source": [
        "for col in cat_columns:\n",
        "  # Value counts\n",
        "  value_counts = records[col].value_counts()\n",
        "  print(f\"Value counts for column '{col}':\\n{value_counts}\\n\")\n",
        "\n",
        "  # Boxplot\n",
        "  plt.figure(figsize=(8, 6))\n",
        "  sns.countplot(data=records, x=records[col])\n",
        "  plt.title(f'Countplot of {col}')\n",
        "  plt.show()"
      ],
      "metadata": {
        "id": "80JwI3MCxQtx"
      },
      "execution_count": null,
      "outputs": []
    },
    {
      "cell_type": "code",
      "source": [
        "#for example, generate dendrograms to show hierarchical clustering\n",
        "sns.clustermap(records.corr(), square=True, cmap='Blues', annot=True, row_cluster=False)"
      ],
      "metadata": {
        "id": "bi5hBvCxLv6z"
      },
      "execution_count": null,
      "outputs": []
    },
    {
      "cell_type": "markdown",
      "source": [
        "## **2.5 Convert categorical data to numeric**\n"
      ],
      "metadata": {
        "id": "EN1UJCJSvFol"
      }
    },
    {
      "cell_type": "code",
      "source": [
        "cat_columns=['Sex','Embarked']\n",
        "#Convert categorical variables to numerical using get dummies\n",
        "records=pd.get_dummies(records, columns=cat_columns, drop_first=True)\n",
        "\n",
        "print(records.info())"
      ],
      "metadata": {
        "id": "QLkWz9h_04Xk"
      },
      "execution_count": null,
      "outputs": []
    },
    {
      "cell_type": "markdown",
      "source": [
        "## **2.6 Select Features and Target**\n",
        "Select predictors (attributes) for Classification Set role (Target)"
      ],
      "metadata": {
        "id": "BEHOBW9SMbht"
      }
    },
    {
      "cell_type": "code",
      "source": [
        "#Select predictors\n",
        "features=['Age','Sex_male', 'Pclass','Fare', 'SibSp','Parch','Embarked_Q','Embarked_S']\n",
        "X=records[features]"
      ],
      "metadata": {
        "id": "7qZiq_EVMa0K"
      },
      "execution_count": null,
      "outputs": []
    },
    {
      "cell_type": "code",
      "source": [
        "y=records['Survived']"
      ],
      "metadata": {
        "id": "BL1N74-o1b1d"
      },
      "execution_count": null,
      "outputs": []
    },
    {
      "cell_type": "markdown",
      "source": [
        "## **2.7 Split the Dataset**\n",
        "Split arrays or matrices into random train and test subsets https://scikit-learn.org/stable/modules/generated/sklearn.model_selection.train_test_split.html?highlight=train_test_split#sklearn.model_selection.train_test_split"
      ],
      "metadata": {
        "id": "kqsDppCq1joL"
      }
    },
    {
      "cell_type": "code",
      "source": [
        "# Split dataset into training set and test set\n",
        "X_train, X_test, y_train, y_test = train_test_split(X, y, test_size=0.2, random_state=1, stratify=y)  # 80% training and 20% testing\n",
        "\n",
        "#inspect the split datasets\n",
        "print(X_train.head())\n",
        "print(y_train.head())\n",
        "\n",
        "print('Training dataset size:',X_train.shape[0])\n",
        "print('Test dataset size:',X_test.shape[0])"
      ],
      "metadata": {
        "id": "-upwz4xK2RKB"
      },
      "execution_count": null,
      "outputs": []
    },
    {
      "cell_type": "markdown",
      "source": [
        "## **2.8 Train a Decision Tree Model and Make Predictions**\n",
        "\n",
        "(Model implementation)\n",
        "\n",
        "1.  Initialise /create an empty object decisiontreeclassifier (model)\n",
        "2.  Train the model using the training dataset\n",
        "3.  Make prediction using the model for the test dataset\n",
        "\n",
        "Train a model using the training dataset\n",
        "Make prediction using the model for the test dataset\n",
        "\n",
        "Read about DecisionTreeClassifier at: https://scikit-learn.org/stable/modules/generated/sklearn.tree.DecisionTreeClassifier.html"
      ],
      "metadata": {
        "id": "qLcDvlyj2Xin"
      }
    },
    {
      "cell_type": "code",
      "source": [
        "# Create Decision Tree classifer object\n",
        "clf = DecisionTreeClassifier(criterion=\"entropy\", max_depth=7) #default criterion is gini, max_depth=25\n",
        "\n",
        "# Train Decision Tree Classifer with the traning dataset\n",
        "clf = clf.fit(X_train, y_train)\n",
        "\n",
        "#Make predictions for the test dataset\n",
        "y_pred = clf.predict(X_test)\n"
      ],
      "metadata": {
        "id": "_UWPd3U_2Wwl"
      },
      "execution_count": null,
      "outputs": []
    },
    {
      "cell_type": "markdown",
      "source": [
        "### **Inspect Predictions**"
      ],
      "metadata": {
        "id": "oGJseH632i92"
      }
    },
    {
      "cell_type": "code",
      "source": [
        "#join unseen y_test with predicted value into a data frame\n",
        "inspection=pd.DataFrame({'Actual':y_test, 'Predicted':y_pred})\n",
        "\n",
        "#join X_test with the new dataframe\n",
        "inspection=pd.concat([X_test,inspection], axis=1)\n",
        "\n",
        "inspection.sample(20)"
      ],
      "metadata": {
        "id": "xlznwqbh2toK"
      },
      "execution_count": null,
      "outputs": []
    },
    {
      "cell_type": "markdown",
      "source": [
        "## **2.9 Evaluate Model Performance and Optimise Threshold**\n",
        "\n",
        "\n",
        "(Performance Evaluation)\n",
        "\n",
        "\n",
        "1. Generate confusion matrix and classification report   \n",
        "2. Calculate Accuracy, Precision, Recall, F1 separately when needed\n",
        "\n",
        "\n",
        "Classification metrics: https://scikit-learn.org/stable/modules/model_evaluation.html#classification-metrics\n"
      ],
      "metadata": {
        "id": "cTSPUW-E20-u"
      }
    },
    {
      "cell_type": "code",
      "source": [
        "#print confusion matrix and evaluation report\n",
        "from sklearn.metrics import classification_report, confusion_matrix\n",
        "print(confusion_matrix(y_test, y_pred))\n",
        "print(classification_report(y_test, y_pred))"
      ],
      "metadata": {
        "id": "VHltpQiy3Dwl"
      },
      "execution_count": null,
      "outputs": []
    },
    {
      "cell_type": "code",
      "source": [
        "#Model Evaluation, calculate metrics: Accuracy, Precision, Recall, F1,\n",
        "print(\"Accuracy: \", '%.3f' % metrics.accuracy_score(y_test,y_pred))\n",
        "print(\"Precision: \",'%.3f' % metrics.precision_score(y_test,y_pred))\n",
        "print(\"Recall: \", '%.3f' % metrics.recall_score(y_test,y_pred))\n",
        "print(\"F1: \", '%.3f' % metrics.f1_score(y_test,y_pred))"
      ],
      "metadata": {
        "id": "aNqjVpcN0vIz"
      },
      "execution_count": null,
      "outputs": []
    },
    {
      "cell_type": "markdown",
      "source": [
        "### **Plot ROC (Receiver operating characteristic) curve and confusion matrix**\n",
        "\n",
        "ROC surve\n",
        "https://scikit-learn.org/stable/modules/generated/sklearn.metrics.plot_roc_curve.html?highlight=plot_roc_curve#sklearn.metrics.plot_roc_curve\n",
        "\n",
        "Confusion matrix\n",
        "https://scikit-learn.org/stable/modules/generated/sklearn.metrics.plot_confusion_matrix.html?highlight=plot%20confusion%20matrix#sklearn.metrics.plot_confusion_matrix"
      ],
      "metadata": {
        "id": "s8wjL_3T05hp"
      }
    },
    {
      "cell_type": "code",
      "source": [
        "#get predicted probabilities for the main class\n",
        "y_pred_probs = clf.predict_proba(X_test)\n",
        "y_pred_probs = y_pred_probs[:, 1]\n"
      ],
      "metadata": {
        "id": "v25rCIr03O9h"
      },
      "execution_count": null,
      "outputs": []
    },
    {
      "cell_type": "code",
      "source": [
        "from sklearn.metrics import RocCurveDisplay\n",
        "from sklearn.metrics import ConfusionMatrixDisplay\n",
        "from sklearn.metrics import roc_auc_score\n",
        "from sklearn.metrics import roc_curve"
      ],
      "metadata": {
        "id": "Qr51ZNvJ0--G"
      },
      "execution_count": null,
      "outputs": []
    },
    {
      "cell_type": "code",
      "source": [
        "RocCurveDisplay.from_predictions(y_test, y_pred_probs)\n",
        "ConfusionMatrixDisplay.from_predictions(y_test, y_pred)\n",
        "plt.show()"
      ],
      "metadata": {
        "id": "pvUDqVvM3TWw"
      },
      "execution_count": null,
      "outputs": []
    },
    {
      "cell_type": "code",
      "source": [
        "#Calculate and print AUC\n",
        "auc = roc_auc_score(y_test, y_pred_probs)\n",
        "print('AUC:', auc)"
      ],
      "metadata": {
        "id": "JUAVWKQc1jnv"
      },
      "execution_count": null,
      "outputs": []
    },
    {
      "cell_type": "markdown",
      "source": [
        "### **Optimise the threshold**"
      ],
      "metadata": {
        "id": "UcS6-kcQ1EQp"
      }
    },
    {
      "cell_type": "code",
      "source": [
        "# Calculate ROC curve and AUC\n",
        "fpr, tpr, thresholds = roc_curve(y_test, y_pred_probs)"
      ],
      "metadata": {
        "id": "hJh3RQhF1ZZj"
      },
      "execution_count": null,
      "outputs": []
    },
    {
      "cell_type": "code",
      "source": [
        "# Find best threshold based on the distance between tpr - fpr\n",
        "optimal_idx = (tpr - fpr).argmax()\n",
        "best_threshold = thresholds[optimal_idx]\n",
        "\n",
        "print('Best thredshold', best_threshold)\n"
      ],
      "metadata": {
        "id": "GynEIKnx65A0"
      },
      "execution_count": null,
      "outputs": []
    },
    {
      "cell_type": "code",
      "source": [
        "# plot the ROC curve and the best point\n",
        "plt.plot(fpr, tpr, label='ROC curve')\n",
        "plt.scatter(fpr[optimal_idx], tpr[optimal_idx], marker='o', color='red', label='Best threshold')\n",
        "plt.xlabel('False Positive Rate')\n",
        "plt.ylabel('True Positive Rate')\n",
        "plt.title('Receiver Operating Characteristic (ROC) Curve')\n",
        "plt.legend()\n",
        "plt.show()"
      ],
      "metadata": {
        "id": "pk-apNYM3tNe"
      },
      "execution_count": null,
      "outputs": []
    },
    {
      "cell_type": "code",
      "source": [
        "# initialize variables to store the best threshold and the highest AUC score\n",
        "best_threshold = None\n",
        "highest_ac_score = 0\n"
      ],
      "metadata": {
        "id": "M-h2G5Sm2TUn"
      },
      "execution_count": null,
      "outputs": []
    },
    {
      "cell_type": "code",
      "source": [
        "# iterate over the thresholds and compute the AUC score for each\n",
        "for threshold in thresholds:\n",
        "  y_pred_test = (y_pred_probs >= threshold).astype(int)\n",
        "  ac_score = metrics.accuracy_score(y_test, y_pred_test)\n",
        "  if ac_score > highest_ac_score:\n",
        "    highest_ac_score = ac_score\n",
        "    best_threshold = threshold\n"
      ],
      "metadata": {
        "id": "hZYpN5y-3CYn"
      },
      "execution_count": null,
      "outputs": []
    },
    {
      "cell_type": "code",
      "source": [
        "# print the best threshold and the highest AUC score on the test data\n",
        "print('Best threshold:', best_threshold)\n",
        "print('Highest accuracy score:', highest_ac_score)"
      ],
      "metadata": {
        "id": "zQ5dugjk3HeJ"
      },
      "execution_count": null,
      "outputs": []
    },
    {
      "cell_type": "code",
      "source": [
        "# Assign predictions based on the new threshold\n",
        "y_pred = (y_pred_probs >= best_threshold).astype(int)"
      ],
      "metadata": {
        "id": "AZKBH84K4z6E"
      },
      "execution_count": null,
      "outputs": []
    },
    {
      "cell_type": "code",
      "source": [
        "print(confusion_matrix(y_test, y_pred))\n",
        "print(classification_report(y_test, y_pred))"
      ],
      "metadata": {
        "id": "JSP8DetB5QDY"
      },
      "execution_count": null,
      "outputs": []
    },
    {
      "cell_type": "markdown",
      "source": [
        "## **2.10 Visualise the trees**\n",
        "\n",
        "Not all classification machine learning models can be visualised."
      ],
      "metadata": {
        "id": "B1rk7M0tRze9"
      }
    },
    {
      "cell_type": "code",
      "source": [
        "import six\n",
        "import sys\n",
        "sys.modules['sklearn.externals.six'] = six"
      ],
      "metadata": {
        "id": "RSVkWhEfRze9"
      },
      "execution_count": null,
      "outputs": []
    },
    {
      "cell_type": "code",
      "source": [
        "#Import libraries and classes\n",
        "from six import StringIO\n",
        "from sklearn.tree import export_graphviz\n",
        "from sklearn.externals.six import StringIO\n",
        "from IPython.display import Image\n",
        "import pydotplus\n",
        "\n",
        "dot_data = StringIO()\n",
        "export_graphviz(clf, out_file=dot_data,\n",
        "                filled=True, rounded=True,\n",
        "                special_characters=True,feature_names = features,class_names=['0','1'])\n",
        "graph = pydotplus.graph_from_dot_data(dot_data.getvalue())\n",
        "graph.write_png('Biopsy.png')\n",
        "Image(graph.create_png())"
      ],
      "metadata": {
        "id": "ZdKy2SZTRze9"
      },
      "execution_count": null,
      "outputs": []
    },
    {
      "cell_type": "markdown",
      "source": [
        "# **Task 3: House Price Estimation**\n",
        "\n",
        "Dataset: HousingPrice\n",
        "\n",
        "Source: https://www.kaggle.com/datasets/yasserh/housing-prices-dataset\n",
        "\n",
        "The dataset was modified to allow you deal with missing data.\n",
        "**Download the modified data at the unit site.**"
      ],
      "metadata": {
        "id": "twt3fRE9cjmd"
      }
    },
    {
      "cell_type": "markdown",
      "source": [
        "## **3.1 Import libraries and functions**"
      ],
      "metadata": {
        "id": "ja2ArAiRVDbZ"
      }
    },
    {
      "cell_type": "code",
      "source": [
        "# import libraries\n",
        "import pandas as pd #for data manipulation and analysis\n",
        "import numpy as np\n",
        "\n",
        "import seaborn as sns\n",
        "import matplotlib.pyplot as plt\n",
        "from pandas.io.parsers.readers import annotations\n",
        "\n",
        "from sklearn.tree import DecisionTreeRegressor # Import Decision Tree Regressor\n",
        "\n",
        "from sklearn.model_selection import train_test_split # Import train_test_split function\n",
        "from sklearn import metrics #Import scikit-learn metrics module for model evaluation\n",
        "\n",
        "#print confusion matrix and evaluation report\n",
        "from sklearn.metrics import classification_report, confusion_matrix\n",
        "from sklearn.metrics import RocCurveDisplay\n",
        "from sklearn.metrics import ConfusionMatrixDisplay"
      ],
      "metadata": {
        "id": "tyL-EjFuUJHE"
      },
      "execution_count": null,
      "outputs": []
    },
    {
      "cell_type": "markdown",
      "source": [
        "## **3.2 Load data**"
      ],
      "metadata": {
        "id": "866MsrxHc0N0"
      }
    },
    {
      "cell_type": "code",
      "source": [
        "# load dataset\n",
        "records = pd.read_csv('https://raw.githubusercontent.com/VanLan0/MIS710-ML/main/Datasets/Housing3.csv')\n",
        "\n",
        "#explore the dataset\n",
        "print(records)\n",
        "\n",
        "print('Sample size:', records.shape[0])\n",
        "print('Number of columns:', records.shape[1])"
      ],
      "metadata": {
        "id": "4BGs5uFHc2v0"
      },
      "execution_count": null,
      "outputs": []
    },
    {
      "cell_type": "markdown",
      "source": [
        "## **3.3 Inspect and pre-process data**"
      ],
      "metadata": {
        "id": "m21qy24EefS2"
      }
    },
    {
      "cell_type": "code",
      "source": [
        "records.info()"
      ],
      "metadata": {
        "id": "lA-2hwgPdYu1"
      },
      "execution_count": null,
      "outputs": []
    },
    {
      "cell_type": "code",
      "source": [
        "#area is wrongly documented as string\n",
        "records['area'] = records['area'].apply(pd.to_numeric, errors='coerce')"
      ],
      "metadata": {
        "id": "ph2ZHFyVeaVW"
      },
      "execution_count": null,
      "outputs": []
    },
    {
      "cell_type": "markdown",
      "source": [
        "### **Inspect and treat missing data**"
      ],
      "metadata": {
        "id": "0-1LhyVSQh71"
      }
    },
    {
      "cell_type": "code",
      "source": [
        "records.isnull().sum().sort_values(ascending=False)"
      ],
      "metadata": {
        "id": "wK390-v8din0"
      },
      "execution_count": null,
      "outputs": []
    },
    {
      "cell_type": "markdown",
      "source": [
        "Note: in Lab 3 we detected spaces in some columns were also missing data"
      ],
      "metadata": {
        "id": "wGgFVcK76m0X"
      }
    },
    {
      "cell_type": "code",
      "source": [
        "# Replace empty strings (\" \") with NaN\n",
        "records.replace(\" \", pd.NA, inplace=True)"
      ],
      "metadata": {
        "id": "M2ihKyOQPoAi"
      },
      "execution_count": null,
      "outputs": []
    },
    {
      "cell_type": "code",
      "source": [
        "print(records.isnull().sum().sort_values(ascending=0))"
      ],
      "metadata": {
        "id": "Cd6JWMUvPtqv"
      },
      "execution_count": null,
      "outputs": []
    },
    {
      "cell_type": "code",
      "source": [
        "#Fill in missing numerical data with mean and categorical data with mode\n",
        "records['area'].fillna(records['area'].median(),inplace=True)\n",
        "records['furnishingstatus'].fillna(records['furnishingstatus'].mode()[0], inplace=True) #note, there can be more than one mode\n",
        "\n",
        "#do it yourself for other missing data\n",
        "records['mainroad'].fillna(records['mainroad'].mode()[0], inplace=True)\n",
        "records['basement'].fillna(records['basement'].mode()[0], inplace=True)\n",
        "records['airconditioning'].fillna(records['airconditioning'].mode()[0], inplace=True)\n",
        "records['prefarea'].fillna(records['prefarea'].mode()[0], inplace=True)"
      ],
      "metadata": {
        "id": "8feJRPclOOdu"
      },
      "execution_count": null,
      "outputs": []
    },
    {
      "cell_type": "code",
      "source": [
        "print(records.isnull().sum().sort_values(ascending=0))"
      ],
      "metadata": {
        "id": "PU1n3U9vRYPp"
      },
      "execution_count": null,
      "outputs": []
    },
    {
      "cell_type": "markdown",
      "source": [
        "## **3.4 Conduct Exploratory Data Analysis (EDA)**\n",
        "1. Univariate analysis\n",
        "2. Bivariate analysis\n",
        "3. Multivariate analysis\n",
        "\n",
        "Note:\n",
        "> Numeric variables\n",
        "*   Summarise data through mean, median (Q2), Q1, Q3, range, Interquartile Range (IQR), outliers, standard deviation, and variance.\n",
        "*   Explore distributions using histograms, boxplots, kernel density estimates, and QQ plots of continuous variables.\n",
        "\n",
        "> Categorical variables\n",
        "*   Summarise data through mode(s), counts and percentages of unique categories.\n",
        "*   Explore bar charts, pie charts, or frequency tables of categorical variables.\n",
        "\n",
        "> Explore relationships between two or more variables  \n",
        "*   Compare two continuous variables using their descriptive statistics (such as means, medians, and Inter Quartile Range (IQR), range) and explore the relationship between them using scatterplots and correlation coefficients.\n",
        "*   Explore the relationship between two categorical variables using a two-way contingency table (crosstab), clustered bar charts, stacked bar charts or a mosaic plot.\n",
        "*   Explore the relationship between one numeric and one categorical variable, through using and grouped boxplots, violin plots, and histograms.\n",
        "*   Explore correlations among multiple (selected) numeric variables using heatmaps of the correlation matrix.\n",
        "\n",
        "\n",
        "3. Convert data as needed\n",
        "You can also explore relationships between two variables."
      ],
      "metadata": {
        "id": "6pbB2p5Eept1"
      }
    },
    {
      "cell_type": "markdown",
      "metadata": {
        "id": "sUv7Rse2r1PL"
      },
      "source": [
        "### **Univariate analysis**\n",
        "Explore and visualise each variable at a time\n"
      ]
    },
    {
      "cell_type": "code",
      "source": [
        "records.info()"
      ],
      "metadata": {
        "id": "Ur4MAhHMT_Be"
      },
      "execution_count": null,
      "outputs": []
    },
    {
      "cell_type": "code",
      "execution_count": null,
      "metadata": {
        "id": "QfX3RkXzbdi9"
      },
      "outputs": [],
      "source": [
        "#overview of numeric data\n",
        "records.describe()\n"
      ]
    },
    {
      "cell_type": "code",
      "source": [
        "#you can add other numeric columns, but really do stats like means, median, sdt make sense?\n",
        "numeric_columns=['area', 'bedrooms','price']"
      ],
      "metadata": {
        "id": "Sr8ggk_oUyT-"
      },
      "execution_count": null,
      "outputs": []
    },
    {
      "cell_type": "code",
      "source": [
        "for col in numeric_columns:\n",
        "  # Value counts\n",
        "  print(f'Descriptive stats of {col}')\n",
        "  print(records[col].describe())\n",
        "\n",
        "  # Boxplot\n",
        "  plt.figure(figsize=(8, 6))\n",
        "  sns.kdeplot(data=records, x=records[col])\n",
        "  plt.title(f'Distribution of {col}')\n",
        "  plt.show()"
      ],
      "metadata": {
        "id": "ibF9sm0ZUyT_"
      },
      "execution_count": null,
      "outputs": []
    },
    {
      "cell_type": "markdown",
      "source": [
        "You can add kde line on top of the distplot"
      ],
      "metadata": {
        "id": "BGIMRIfqWJ4N"
      }
    },
    {
      "cell_type": "code",
      "source": [
        "sns.histplot(data=records, x='area', kde=True)"
      ],
      "metadata": {
        "id": "x8_x5rgMQQ3X"
      },
      "execution_count": null,
      "outputs": []
    },
    {
      "cell_type": "code",
      "source": [
        "sns.boxplot(data=records, x='area', showmeans=True)"
      ],
      "metadata": {
        "id": "W1-fslGOg5MX"
      },
      "execution_count": null,
      "outputs": []
    },
    {
      "cell_type": "markdown",
      "source": [
        "Note the skewed distributions - thus we replaced the missing data with median, not mean. And how we handle missing data and EDA and data encoding can be iterative activities; not linear, one step after another.  "
      ],
      "metadata": {
        "id": "czrZGGMlPvDX"
      }
    },
    {
      "cell_type": "code",
      "source": [
        "cat_columns=['bedrooms', 'bathrooms', 'stories', 'mainroad', 'basement','hotwaterheating', 'airconditioning', 'parking', 'prefarea','furnishingstatus']"
      ],
      "metadata": {
        "id": "ZZbERUCLT8Yo"
      },
      "execution_count": null,
      "outputs": []
    },
    {
      "cell_type": "code",
      "source": [
        "for col in cat_columns:\n",
        "  # Value counts\n",
        "  value_counts = records[col].value_counts()\n",
        "  print(f\"Value counts for column '{col}':\\n{value_counts}\\n\")\n",
        "\n",
        "  # Boxplot\n",
        "  plt.figure(figsize=(8, 6))\n",
        "  sns.countplot(data=records, x=records[col])\n",
        "  plt.title(f'Countplot of {col}')\n",
        "  plt.show()"
      ],
      "metadata": {
        "id": "Be56p6ntT8Yp"
      },
      "execution_count": null,
      "outputs": []
    },
    {
      "cell_type": "code",
      "execution_count": null,
      "metadata": {
        "id": "JrI8LwQvkrv8"
      },
      "outputs": [],
      "source": [
        "#you can also use the built-in function mode; it returns a series, so get the first index, there can be more than one mode\n",
        "print(records['furnishingstatus'].mode()[0])\n",
        "print(records['mainroad'].mode()[0])"
      ]
    },
    {
      "cell_type": "code",
      "execution_count": null,
      "metadata": {
        "id": "gyo2GroIb3XE"
      },
      "outputs": [],
      "source": [
        "#find mode\n",
        "print('Furnishing Status mode: ', records['furnishingstatus'].mode())"
      ]
    },
    {
      "cell_type": "markdown",
      "metadata": {
        "id": "3qFNG7wdoCRo"
      },
      "source": [
        "### **Bivariate and Multivariate visualisation**"
      ]
    },
    {
      "cell_type": "markdown",
      "metadata": {
        "id": "wVhE8RE3p6E9"
      },
      "source": [
        "**Display a countplot for one categorical variable grouped by a second categorical variable**\n",
        "https://seaborn.pydata.org/generated/seaborn.countplot.html"
      ]
    },
    {
      "cell_type": "code",
      "execution_count": null,
      "metadata": {
        "id": "ngWnxNtPoBvQ"
      },
      "outputs": [],
      "source": [
        "sns.countplot(data=records, x='prefarea', hue='mainroad')"
      ]
    },
    {
      "cell_type": "code",
      "execution_count": null,
      "metadata": {
        "id": "gQ7V5rm2qkNn"
      },
      "outputs": [],
      "source": [
        "#Do it yourself for other categorical variables\n",
        "sns.countplot(data=records, x='furnishingstatus', hue='mainroad')"
      ]
    },
    {
      "cell_type": "markdown",
      "metadata": {
        "id": "gImjNDaxqsII"
      },
      "source": [
        "**Compare distributions of numerical variables using boxplots**\n",
        "https://seaborn.pydata.org/generated/seaborn.boxplot.html"
      ]
    },
    {
      "cell_type": "code",
      "execution_count": null,
      "metadata": {
        "id": "FPQlu_iNq5x1"
      },
      "outputs": [],
      "source": [
        "sns.boxplot(data=records, x='price', y='furnishingstatus')"
      ]
    },
    {
      "cell_type": "code",
      "execution_count": null,
      "metadata": {
        "id": "bmjsxihkuAiZ"
      },
      "outputs": [],
      "source": [
        "#Do it yourself for other variables, hint: using x=  y= and hue=\n",
        "sns.boxplot(data=records, x='price', y='prefarea', hue='mainroad')"
      ]
    },
    {
      "cell_type": "markdown",
      "metadata": {
        "id": "ctAlgYHWsvDt"
      },
      "source": [
        "**Ploting diagram to see relationships between two numerical variables**\n",
        "https://seaborn.pydata.org/generated/seaborn.scatterplot.html"
      ]
    },
    {
      "cell_type": "code",
      "execution_count": null,
      "metadata": {
        "id": "ugO4zhQjs6-N"
      },
      "outputs": [],
      "source": [
        "sns.scatterplot(data=records, x='area', y='price')"
      ]
    },
    {
      "cell_type": "code",
      "execution_count": null,
      "metadata": {
        "id": "jbTAr7iU1lu1"
      },
      "outputs": [],
      "source": [
        "#generate heatmaps to explore relationships\n",
        "sns.heatmap(records.corr(), square=True, cmap='Blues', annot=True)\n",
        "plt.show()"
      ]
    },
    {
      "cell_type": "code",
      "execution_count": null,
      "metadata": {
        "id": "UmdChe8cr7ay"
      },
      "outputs": [],
      "source": [
        "#generate dendrograms to show hierarchical clustering\n",
        "sns.clustermap(records.corr(), square=True, cmap='Blues', annot=True, row_cluster=False)\n",
        "plt.show()"
      ]
    },
    {
      "cell_type": "markdown",
      "metadata": {
        "id": "pr7KG-TaudQ9"
      },
      "source": [
        "## **3.5 Prepare data (Convert data types)**"
      ]
    },
    {
      "cell_type": "code",
      "source": [
        "print(records.info())"
      ],
      "metadata": {
        "id": "RPJpVbe3FSDr"
      },
      "execution_count": null,
      "outputs": []
    },
    {
      "cell_type": "code",
      "source": [
        "#convert categorical variables to numeric\n",
        "# Define the custom mapping\n",
        "furnishing_mapping = {\n",
        "    'furnished': 2,\n",
        "    'semi-furnished': 1,\n",
        "    'unfurnished': 0\n",
        "}\n",
        "# Convert the categories to numerical values using replace()\n",
        "records['furnishingstatus_N'] = records['furnishingstatus'].replace(furnishing_mapping)"
      ],
      "metadata": {
        "id": "rMCaDrkPM1Kf"
      },
      "execution_count": null,
      "outputs": []
    },
    {
      "cell_type": "code",
      "source": [
        "other_cat_variables = ['mainroad', 'guestroom', 'basement', 'hotwaterheating', 'airconditioning', 'prefarea']\n",
        "\n",
        "# Convert categorical variables into numeric using dummy encoding\n",
        "records = pd.get_dummies(records, columns=other_cat_variables, drop_first=True)"
      ],
      "metadata": {
        "id": "5HOEAZLSOiT-"
      },
      "execution_count": null,
      "outputs": []
    },
    {
      "cell_type": "code",
      "source": [
        "records.info()"
      ],
      "metadata": {
        "id": "oyNUq-M6G7YL"
      },
      "execution_count": null,
      "outputs": []
    },
    {
      "cell_type": "markdown",
      "source": [
        "## **3.6 Select Features and Target**\n",
        "Select predictors (attributes) for Classification Set role (Target)"
      ],
      "metadata": {
        "id": "7ZdyhCpBjja6"
      }
    },
    {
      "cell_type": "code",
      "source": [
        "#Select predictors\n",
        "features=['area','bedrooms', 'bathrooms','stories', 'parking','mainroad_yes','guestroom_yes','basement_yes', 'hotwaterheating_yes', 'airconditioning_yes', 'prefarea_yes', 'furnishingstatus_N']\n",
        "X=records[features]\n"
      ],
      "metadata": {
        "id": "2EEWzSCojDEX"
      },
      "execution_count": null,
      "outputs": []
    },
    {
      "cell_type": "code",
      "source": [
        "#specify the label\n",
        "y=records['price']\n",
        "y.head()"
      ],
      "metadata": {
        "id": "5Uhx057Oj38U"
      },
      "execution_count": null,
      "outputs": []
    },
    {
      "cell_type": "markdown",
      "source": [
        "## **3.7 Split the Dataset**\n",
        "Split arrays or matrices into random train and test subsets https://scikit-learn.org/stable/modules/generated/sklearn.model_selection.train_test_split.html?highlight=train_test_split#sklearn.model_selection.train_test_split"
      ],
      "metadata": {
        "id": "fpiNENtuj83l"
      }
    },
    {
      "cell_type": "code",
      "source": [
        "#from sklearn.model_selection import train_test_split # Import train_test_split function\n",
        "\n",
        "# Split dataset into training set 70% and test set 30%\n",
        "X_train, X_test, y_train, y_test = train_test_split(X, y, test_size=0.3, random_state=1)  # 70% training and 30% testing\n",
        "\n",
        "#inspect the split datasets\n",
        "print(X_train.head())\n",
        "print(y_train.head())\n",
        "\n",
        "print('Training dataset size:',X_train.shape)\n",
        "print('Test dataset size:',X_test.shape)\n"
      ],
      "metadata": {
        "id": "5fetOCHzj8of"
      },
      "execution_count": null,
      "outputs": []
    },
    {
      "cell_type": "markdown",
      "source": [
        "## **3.8 Training a Decision Tree Regressor and Make Predictions**\n",
        "Train a model using the training dataset Make prediction using the model for the test dataset Read about DecisionTreeRegressor at:\n",
        "https://scikit-learn.org/stable/modules/generated/sklearn.tree.DecisionTreeRegressor.html#sklearn.tree.DecisionTreeRegressor"
      ],
      "metadata": {
        "id": "_lQffPa-kT1Z"
      }
    },
    {
      "cell_type": "code",
      "source": [
        "#Import DecisionTreeRegressor\n",
        "from sklearn.tree import DecisionTreeRegressor\n",
        "#instantiate a decision tree regressor and fit it with the training data\n",
        "regressor = DecisionTreeRegressor(max_depth=20, max_leaf_nodes=15, random_state=1)\n",
        "\n",
        "regressor"
      ],
      "metadata": {
        "id": "aYNzAQ3Gkk6s"
      },
      "execution_count": null,
      "outputs": []
    },
    {
      "cell_type": "code",
      "source": [
        "regressor.fit(X_train, y_train)"
      ],
      "metadata": {
        "id": "OsLkmO2bYOXG"
      },
      "execution_count": null,
      "outputs": []
    },
    {
      "cell_type": "code",
      "source": [
        "#predict prices\n",
        "y_pred = regressor.predict(X_test)\n"
      ],
      "metadata": {
        "id": "JxPbaKMAkrr7"
      },
      "execution_count": null,
      "outputs": []
    },
    {
      "cell_type": "code",
      "source": [
        "#set the formatting for floating numbers\n",
        "pd.set_option('display.float_format', lambda x: '%.0f' % x)\n",
        "area=X_test['area']\n",
        "\n",
        "#inspection\n",
        "inspection=pd.DataFrame({'Area':area, 'Actual':y_test, 'Predicted':y_pred})\n",
        "inspection.head(20)"
      ],
      "metadata": {
        "id": "pHUqGhDbY1Sw"
      },
      "execution_count": null,
      "outputs": []
    },
    {
      "cell_type": "markdown",
      "source": [
        "## **3.9 Evaluate the model performance**\n"
      ],
      "metadata": {
        "id": "sd2QGPfVk9kV"
      }
    },
    {
      "cell_type": "code",
      "source": [
        "#Evaluate the model\n",
        "from sklearn import metrics\n",
        "print('Mean Absolute Error:', '%.0f' % metrics.mean_absolute_error(y_test, y_pred))\n",
        "print('Mean Squared Error:', '%.0f' % metrics.mean_squared_error(y_test, y_pred))\n",
        "print('Root Mean Squared Error:', '%.0f' %np.sqrt(metrics.mean_squared_error(y_test, y_pred)))"
      ],
      "metadata": {
        "id": "JTh_z8BBlAo-"
      },
      "execution_count": null,
      "outputs": []
    },
    {
      "cell_type": "code",
      "source": [
        "pd.set_option('display.float_format', lambda x: '%.0f' % x)\n",
        "inspection['Actual'].describe()"
      ],
      "metadata": {
        "id": "FVmv00MBlvdp"
      },
      "execution_count": null,
      "outputs": []
    },
    {
      "cell_type": "code",
      "source": [
        "inspection['Predicted'].describe()"
      ],
      "metadata": {
        "id": "tXx2KQftYm8y"
      },
      "execution_count": null,
      "outputs": []
    },
    {
      "cell_type": "markdown",
      "source": [
        "## **3.10 Visualise the trees**\n",
        "\n",
        "Not all classification machine learning models can be visualised."
      ],
      "metadata": {
        "id": "MyLIXAQsVcyD"
      }
    },
    {
      "cell_type": "code",
      "source": [
        "#Import plot_tree to  extract rules and visualise the decition tree model\n",
        "from sklearn.tree import plot_tree, export_text\n",
        "from pandas.io.parsers.readers import annotations\n"
      ],
      "metadata": {
        "id": "rEWKLC_PV152"
      },
      "execution_count": null,
      "outputs": []
    },
    {
      "cell_type": "code",
      "source": [
        "# Convert feature_names to a list if it's an Index object\n",
        "feature_names = list(features) if isinstance(features, pd.Index) else features\n",
        "\n",
        "# Extract the decision rules\n",
        "rules = export_text(regressor, feature_names=feature_names)\n",
        "print(rules)"
      ],
      "metadata": {
        "id": "cV8n4oN6V153"
      },
      "execution_count": null,
      "outputs": []
    },
    {
      "cell_type": "markdown",
      "source": [
        "**Discuss the Interpretability vs Explainability of the model**\n",
        "\n",
        "Interpretability relates to understanding how a machine learning model works, i.e., how it makes predictions based on input data.\n",
        "\n",
        "Explainability focuses on whether the model's decision-making process makes sense from a human perspective.\n",
        "\n",
        "An explainable model not only provides predictions but also provides human-understandable explanations or justifications for those predictions."
      ],
      "metadata": {
        "id": "SdxUWkOPXdKB"
      }
    },
    {
      "cell_type": "code",
      "source": [
        "# visualize the decision tree\n",
        "plt.figure(figsize=(20,10))\n",
        "plot_tree(regressor, filled=True, feature_names=features, class_names=['0','1'])\n",
        "plt.show()"
      ],
      "metadata": {
        "id": "7cbWuxJeXV-V"
      },
      "execution_count": null,
      "outputs": []
    },
    {
      "cell_type": "markdown",
      "source": [
        "**Optional**"
      ],
      "metadata": {
        "id": "XhzFiGUIXOZP"
      }
    },
    {
      "cell_type": "code",
      "source": [
        "from sklearn.externals.six import StringIO\n",
        "from IPython.display import Image\n",
        "from sklearn.tree import export_graphviz\n",
        "import pydotplus\n",
        "dot_data = StringIO()\n",
        "export_graphviz(regressor, out_file=dot_data,\n",
        "filled=True, rounded=True,\n",
        "special_characters=True, feature_names = features,class_names=['0','1'])\n",
        "graph = pydotplus.graph_from_dot_data(dot_data.getvalue())\n",
        "graph.write_png('HousePricePrediction.png')\n",
        "Image(graph.create_png())\n"
      ],
      "metadata": {
        "id": "etW4EmPYlGWb"
      },
      "execution_count": null,
      "outputs": []
    }
  ]
}